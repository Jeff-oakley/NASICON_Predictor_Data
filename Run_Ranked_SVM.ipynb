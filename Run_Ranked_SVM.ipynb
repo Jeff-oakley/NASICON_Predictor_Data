{
 "cells": [
  {
   "cell_type": "markdown",
   "metadata": {},
   "source": [
    "### Perform ranked SVM on the 80-20 splitting dataset"
   ]
  },
  {
   "cell_type": "code",
   "execution_count": 15,
   "metadata": {},
   "outputs": [],
   "source": [
    "import pandas as pd\n",
    "from pandas import DataFrame\n",
    "import os\n",
    "from sklearn.svm import LinearSVC\n",
    "from sklearn.metrics import accuracy_score, f1_score, recall_score\n",
    "import numpy as np\n",
    "\n",
    "prefix = os.getcwd()"
   ]
  },
  {
   "cell_type": "code",
   "execution_count": 2,
   "metadata": {},
   "outputs": [],
   "source": [
    "train_2D_df = pd.read_csv('train_2D.csv')\n",
    "test_2D_df = pd.read_csv('test_2D.csv')"
   ]
  },
  {
   "cell_type": "code",
   "execution_count": 3,
   "metadata": {},
   "outputs": [
    {
     "data": {
      "text/html": [
       "<div>\n",
       "<style scoped>\n",
       "    .dataframe tbody tr th:only-of-type {\n",
       "        vertical-align: middle;\n",
       "    }\n",
       "\n",
       "    .dataframe tbody tr th {\n",
       "        vertical-align: top;\n",
       "    }\n",
       "\n",
       "    .dataframe thead th {\n",
       "        text-align: right;\n",
       "    }\n",
       "</style>\n",
       "<table border=\"1\" class=\"dataframe\">\n",
       "  <thead>\n",
       "    <tr style=\"text-align: right;\">\n",
       "      <th></th>\n",
       "      <th>CompName</th>\n",
       "      <th>Ehull</th>\n",
       "      <th>(cbrt(NNaLst)+(AnionChgStdLst)^2)</th>\n",
       "      <th>((EWaldSumLst)^2*(XWithNaLst*RDiffStdLst))</th>\n",
       "    </tr>\n",
       "  </thead>\n",
       "  <tbody>\n",
       "    <tr>\n",
       "      <th>0</th>\n",
       "      <td>MgZr(SO4)3</td>\n",
       "      <td>-60.260567</td>\n",
       "      <td>0.0</td>\n",
       "      <td>0.000000</td>\n",
       "    </tr>\n",
       "    <tr>\n",
       "      <th>1</th>\n",
       "      <td>MgTi(SO4)3</td>\n",
       "      <td>-27.986572</td>\n",
       "      <td>0.0</td>\n",
       "      <td>125.960243</td>\n",
       "    </tr>\n",
       "    <tr>\n",
       "      <th>2</th>\n",
       "      <td>MgSn(SO4)3</td>\n",
       "      <td>-30.640966</td>\n",
       "      <td>0.0</td>\n",
       "      <td>46.109451</td>\n",
       "    </tr>\n",
       "    <tr>\n",
       "      <th>3</th>\n",
       "      <td>Mg4Nb2(SO4)9</td>\n",
       "      <td>-42.783127</td>\n",
       "      <td>0.0</td>\n",
       "      <td>79.651306</td>\n",
       "    </tr>\n",
       "    <tr>\n",
       "      <th>4</th>\n",
       "      <td>ZrZn(SO4)3</td>\n",
       "      <td>-40.419098</td>\n",
       "      <td>0.0</td>\n",
       "      <td>24.253452</td>\n",
       "    </tr>\n",
       "  </tbody>\n",
       "</table>\n",
       "</div>"
      ],
      "text/plain": [
       "       CompName      Ehull  (cbrt(NNaLst)+(AnionChgStdLst)^2)  \\\n",
       "0    MgZr(SO4)3 -60.260567                                0.0   \n",
       "1    MgTi(SO4)3 -27.986572                                0.0   \n",
       "2    MgSn(SO4)3 -30.640966                                0.0   \n",
       "3  Mg4Nb2(SO4)9 -42.783127                                0.0   \n",
       "4    ZrZn(SO4)3 -40.419098                                0.0   \n",
       "\n",
       "   ((EWaldSumLst)^2*(XWithNaLst*RDiffStdLst))  \n",
       "0                                    0.000000  \n",
       "1                                  125.960243  \n",
       "2                                   46.109451  \n",
       "3                                   79.651306  \n",
       "4                                   24.253452  "
      ]
     },
     "execution_count": 3,
     "metadata": {},
     "output_type": "execute_result"
    }
   ],
   "source": [
    "train_2D_df.head()"
   ]
  },
  {
   "cell_type": "code",
   "execution_count": 4,
   "metadata": {},
   "outputs": [
    {
     "data": {
      "text/html": [
       "<div>\n",
       "<style scoped>\n",
       "    .dataframe tbody tr th:only-of-type {\n",
       "        vertical-align: middle;\n",
       "    }\n",
       "\n",
       "    .dataframe tbody tr th {\n",
       "        vertical-align: top;\n",
       "    }\n",
       "\n",
       "    .dataframe thead th {\n",
       "        text-align: right;\n",
       "    }\n",
       "</style>\n",
       "<table border=\"1\" class=\"dataframe\">\n",
       "  <thead>\n",
       "    <tr style=\"text-align: right;\">\n",
       "      <th></th>\n",
       "      <th>CompName</th>\n",
       "      <th>Ehull</th>\n",
       "      <th>(cbrt(NNaLst)+(AnionChgStdLst)^2)</th>\n",
       "      <th>((EWaldSumLst)^2*(XWithNaLst*RDiffStdLst))</th>\n",
       "    </tr>\n",
       "  </thead>\n",
       "  <tbody>\n",
       "    <tr>\n",
       "      <th>0</th>\n",
       "      <td>MgGe(SO4)3</td>\n",
       "      <td>-9.215537</td>\n",
       "      <td>0.0</td>\n",
       "      <td>306.012177</td>\n",
       "    </tr>\n",
       "    <tr>\n",
       "      <th>1</th>\n",
       "      <td>Mg4Ta2(SO4)9</td>\n",
       "      <td>-48.215660</td>\n",
       "      <td>0.0</td>\n",
       "      <td>74.183754</td>\n",
       "    </tr>\n",
       "    <tr>\n",
       "      <th>2</th>\n",
       "      <td>ZnSn(SO4)3</td>\n",
       "      <td>-21.229073</td>\n",
       "      <td>0.0</td>\n",
       "      <td>94.826508</td>\n",
       "    </tr>\n",
       "    <tr>\n",
       "      <th>3</th>\n",
       "      <td>ZnGe(SO4)3</td>\n",
       "      <td>-25.113430</td>\n",
       "      <td>0.0</td>\n",
       "      <td>414.334930</td>\n",
       "    </tr>\n",
       "    <tr>\n",
       "      <th>4</th>\n",
       "      <td>CaHf(SO4)3</td>\n",
       "      <td>-105.503850</td>\n",
       "      <td>0.0</td>\n",
       "      <td>137.997589</td>\n",
       "    </tr>\n",
       "  </tbody>\n",
       "</table>\n",
       "</div>"
      ],
      "text/plain": [
       "       CompName       Ehull  (cbrt(NNaLst)+(AnionChgStdLst)^2)  \\\n",
       "0    MgGe(SO4)3   -9.215537                                0.0   \n",
       "1  Mg4Ta2(SO4)9  -48.215660                                0.0   \n",
       "2    ZnSn(SO4)3  -21.229073                                0.0   \n",
       "3    ZnGe(SO4)3  -25.113430                                0.0   \n",
       "4    CaHf(SO4)3 -105.503850                                0.0   \n",
       "\n",
       "   ((EWaldSumLst)^2*(XWithNaLst*RDiffStdLst))  \n",
       "0                                  306.012177  \n",
       "1                                   74.183754  \n",
       "2                                   94.826508  \n",
       "3                                  414.334930  \n",
       "4                                  137.997589  "
      ]
     },
     "execution_count": 4,
     "metadata": {},
     "output_type": "execute_result"
    }
   ],
   "source": [
    "test_2D_df.head()"
   ]
  },
  {
   "cell_type": "code",
   "execution_count": 5,
   "metadata": {},
   "outputs": [],
   "source": [
    "def rankedTransform(feat_mat,targets):\n",
    "    '''\n",
    "    Transform the feature matrix and targets into pairwise ranking format\n",
    "    '''\n",
    "    feat_vecs = feat_mat[:,None,:] - feat_mat[None,:,:]\n",
    "    # Only need the upper triangle\n",
    "    IU3 = np.triu_indices(feat_vecs.shape[0],1)\n",
    "    new_feat_mat = feat_vecs[IU3]\n",
    "    \n",
    "    target_vecs = targets[:,None] - targets[None,:]\n",
    "    # Only need the upper triangle\n",
    "    IU3 = np.triu_indices(target_vecs.shape[0],1)\n",
    "    new_targets = target_vecs[IU3]\n",
    "    new_targets = np.sign(new_targets)\n",
    "\n",
    "    return new_feat_mat, new_targets"
   ]
  },
  {
   "cell_type": "code",
   "execution_count": 6,
   "metadata": {},
   "outputs": [
    {
     "name": "stdout",
     "output_type": "stream",
     "text": [
      "(4815856, 2) (4815856,)\n",
      "(301476, 2) (301476,)\n"
     ]
    }
   ],
   "source": [
    "trans_train_feat_mat, trans_train_targets = rankedTransform(train_2D_df.to_numpy()[:,2:],train_2D_df.to_numpy()[:,1])\n",
    "trans_test_feat_mat, trans_test_targets = rankedTransform(test_2D_df.to_numpy()[:,2:],test_2D_df.to_numpy()[:,1])\n",
    "print(trans_train_feat_mat.shape,trans_train_targets.shape)\n",
    "print(trans_test_feat_mat.shape,trans_test_targets.shape)"
   ]
  },
  {
   "cell_type": "code",
   "execution_count": 7,
   "metadata": {},
   "outputs": [
    {
     "name": "stdout",
     "output_type": "stream",
     "text": [
      "[[0.0 -125.96024322509766]\n",
      " [0.0 -46.10945129394531]\n",
      " [0.0 -79.65130615234375]\n",
      " [0.0 -24.25345230102539]\n",
      " [0.0 -197.34197998046875]\n",
      " [0.0 -146.327392578125]\n",
      " [0.0 -139.96044921875]\n",
      " [0.0 -141.5548858642578]\n",
      " [0.0 -292.8807067871094]\n",
      " [0.0 -363.9143371582031]] [-1 -1 -1 -1 -1 1 1 -1 -1 -1]\n"
     ]
    }
   ],
   "source": [
    "print(trans_train_feat_mat[:10], trans_train_targets[:10])"
   ]
  },
  {
   "cell_type": "code",
   "execution_count": 8,
   "metadata": {},
   "outputs": [],
   "source": [
    "clf = LinearSVC(penalty='l2',loss='squared_hinge',dual=False,tol=0.0001,C=1.0,multi_class='ovr',\\\n",
    "              fit_intercept=True,intercept_scaling=1,class_weight=None,verbose=0,\\\n",
    "              random_state=None,max_iter=1000)"
   ]
  },
  {
   "cell_type": "code",
   "execution_count": 9,
   "metadata": {},
   "outputs": [],
   "source": [
    "clf.fit(trans_train_feat_mat, np.int32(trans_train_targets))\n",
    "Y_test_predict = clf.predict(trans_test_feat_mat)\n",
    "test_score = accuracy_score(np.int32(trans_test_targets),Y_test_predict)\n",
    "test_F1 = f1_score(np.int32(trans_test_targets),Y_test_predict);"
   ]
  },
  {
   "cell_type": "code",
   "execution_count": 10,
   "metadata": {},
   "outputs": [
    {
     "name": "stdout",
     "output_type": "stream",
     "text": [
      "Accuracy = 0.8470923058551925, F1 score = 0.7232116052021662\n"
     ]
    }
   ],
   "source": [
    "print(f'Accuracy = {test_score}, F1 score = {test_F1}')"
   ]
  },
  {
   "cell_type": "code",
   "execution_count": 16,
   "metadata": {},
   "outputs": [
    {
     "name": "stdout",
     "output_type": "stream",
     "text": [
      "Accuracy = 0.8419983303799714, F1 score = 0.8383727489306032, test_recall = 0.8419983303799714\n"
     ]
    }
   ],
   "source": [
    "all_feat_mat = np.concatenate((trans_train_feat_mat,trans_test_feat_mat))\n",
    "all_targets = np.concatenate((trans_train_targets,trans_test_targets))\n",
    "clf.fit(all_feat_mat, np.int32(all_targets))\n",
    "Y_all_predict = clf.predict(all_feat_mat)\n",
    "test_score = accuracy_score(np.int32(all_targets), Y_all_predict)\n",
    "test_F1 = f1_score(np.int32(all_targets),Y_all_predict,average='weighted')\n",
    "test_recall = recall_score(np.int32(all_targets),Y_all_predict,average='weighted')\n",
    "print(f'Accuracy = {test_score}, F1 score = {test_F1}, test_recall = {test_recall}')"
   ]
  },
  {
   "cell_type": "code",
   "execution_count": 21,
   "metadata": {},
   "outputs": [
    {
     "name": "stdout",
     "output_type": "stream",
     "text": [
      "(4815856,)\n",
      "Accuracy = 0.8416887880368517, F1 score = 0.8380910818841897, test_recall = 0.8416887880368517\n"
     ]
    }
   ],
   "source": [
    "clf = LinearSVC(penalty='l2',loss='squared_hinge',dual=False,tol=0.0001,C=1.0,multi_class='ovr',\\\n",
    "              fit_intercept=True,intercept_scaling=1,class_weight=None,verbose=0,\\\n",
    "              random_state=None,max_iter=1000)\n",
    "clf.fit(trans_train_feat_mat, np.int32(trans_train_targets))\n",
    "Y_train_predict = clf.predict(trans_train_feat_mat)\n",
    "print(Y_train_predict.shape)\n",
    "test_score = accuracy_score(np.int32(trans_train_targets), Y_train_predict)\n",
    "test_F1 = f1_score(np.int32(trans_train_targets), Y_train_predict,average='weighted')\n",
    "test_recall = recall_score(np.int32(trans_train_targets), Y_train_predict,average='weighted')\n",
    "print(f'Accuracy = {test_score}, F1 score = {test_F1}, test_recall = {test_recall}')"
   ]
  },
  {
   "cell_type": "code",
   "execution_count": null,
   "metadata": {},
   "outputs": [],
   "source": []
  }
 ],
 "metadata": {
  "kernelspec": {
   "display_name": "MyCondaEnv",
   "language": "python",
   "name": "work"
  },
  "language_info": {
   "codemirror_mode": {
    "name": "ipython",
    "version": 3
   },
   "file_extension": ".py",
   "mimetype": "text/x-python",
   "name": "python",
   "nbconvert_exporter": "python",
   "pygments_lexer": "ipython3",
   "version": "3.7.0"
  }
 },
 "nbformat": 4,
 "nbformat_minor": 2
}
