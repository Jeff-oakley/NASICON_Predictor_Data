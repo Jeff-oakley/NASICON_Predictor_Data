{
 "cells": [
  {
   "cell_type": "code",
   "execution_count": 1,
   "metadata": {},
   "outputs": [],
   "source": [
    "#!/usr/bin/env python\n",
    "\n",
    "import os\n",
    "from monty.serialization import loadfn,dumpfn\n",
    "\n",
    "\n",
    "ModelDict = loadfn('AllModels.mson')"
   ]
  },
  {
   "cell_type": "code",
   "execution_count": 7,
   "metadata": {},
   "outputs": [
    {
     "name": "stdout",
     "output_type": "stream",
     "text": [
      "['(cbrt(NNaLst)*exp(AnionChgStdLst))+++((EWaldSumLst*RDiffStdLst)*(XWithNaLst+EleNegStdLst))', '(cbrt(NNaLst)*(AnionXStdLst*AnionChgStdLst))+++((RDiffStdLst/EWaldSumLst)*(XWithNaLst+EleNegStdLst))', '(cbrt(NNaLst)*(AnionChgStdLst)^2)+++((RDiffStdLst/EWaldSumLst)*(XWithNaLst+EleNegStdLst))', '(cbrt(NNaLst)*exp(AnionChgStdLst))+++((XWithNaLst*RDiffStdLst)*(RRatioNaLst+AnionChgStdLst))', '(cbrt(NNaLst)*exp(AnionChgStdLst))+++(exp(AnionXStdLst)*(XWithNaLst*RDiffStdLst))', '(cbrt(NNaLst)*exp(AnionChgStdLst))+++((RDiffStdLst/EFormLst)*(XWithNaLst+AnionXStdLst))', '(cbrt(NNaLst)*exp(AnionChgStdLst))+++(exp(AnionChgStdLst)*(XWithNaLst*RDiffStdLst))', '(cbrt(NNaLst)*exp(AnionChgStdLst))+++(RDiffStdLst*(XWithNaLst+EleNegStdLst))', '(cbrt(NNaLst)*(AnionXStdLst)^2)+++((RDiffStdLst/EWaldSumLst)*(XWithNaLst+EleNegStdLst))', '(cbrt(NNaLst)*exp(AnionChgStdLst))+++((RDiffStdLst/EFormLst)*(XWithNaLst+EleNegStdLst))', '(cbrt(NNaLst)*exp(AnionChgStdLst))+++((XWithNaLst*EWaldSumLst)*(RDiffStdLst*RRatioNaLst))', '(cbrt(NNaLst)*exp(AnionChgStdLst))+++(cbrt(RDiffStdLst)*(XWithNaLst*RDiffStdLst))', '(cbrt(NNaLst)*exp(AnionChgStdLst))+++((EWaldSumLst*RDiffStdLst)*(XWithNaLst+AnionXStdLst))', '(cbrt(NNaLst)*exp(AnionChgStdLst))+++(exp(RDiffLst)*(XWithNaLst*RDiffStdLst))', '(cbrt(NNaLst)+(AnionChgStdLst)^3)+++((RDiffStdLst/EFormLst)*(XWithNaLst+AnionXStdLst))', '(cbrt(NNaLst)+(AnionChgStdLst)^3)+++((XWithNaLst*RDiffStdLst)*(RRatioNaLst+AnionChgStdLst))', '(cbrt(NNaLst)*exp(AnionChgStdLst))+++(RDiffStdLst*(XWithNaLst+AnionXStdLst))', '(cbrt(NNaLst)*exp(AnionChgStdLst))+++(exp(RDiffStdLst)*(XWithNaLst*RDiffStdLst))', '(cbrt(NNaLst)*exp(AnionChgStdLst))+++((XWithNaLst*RDiffStdLst)*(AnionXStdLst+EleNegStdLst))', '(cbrt(NNaLst)*exp(AnionChgStdLst))+++(cbrt(RDiffLst)*(XWithNaLst*RDiffStdLst))', '(cbrt(NNaLst)*exp(AnionChgStdLst))+++((XWithNaLst*RDiffStdLst)/cbrt(RDiffNaLst))']\n"
     ]
    }
   ],
   "source": [
    "print(list(ModelDict['svm'].keys())[:21])"
   ]
  },
  {
   "cell_type": "code",
   "execution_count": 9,
   "metadata": {},
   "outputs": [
    {
     "name": "stdout",
     "output_type": "stream",
     "text": [
      "(cbrt(NNaLst)*exp(AnionChgStdLst))+++((EWaldSumLst*RDiffStdLst)*(XWithNaLst+EleNegStdLst))\n",
      "{'FeatureComp': ['(cbrt(NNaLst)*exp(AnionChgStdLst))', '((EWaldSumLst*RDiffStdLst)*(XWithNaLst+EleNegStdLst))'], 'CVScore': 0.8396314450789159, 'TrainScore': 0.8392632731191046, 'F1Train': 0.7128390427666478, 'CVF1Test': 0.7107730258161338}\n"
     ]
    }
   ],
   "source": [
    "TestKey = list(ModelDict['svm'].keys())[0]\n",
    "print(TestKey)\n",
    "print(ModelDict['svm'][TestKey])"
   ]
  },
  {
   "cell_type": "code",
   "execution_count": 17,
   "metadata": {},
   "outputs": [],
   "source": [
    "count = 0\n",
    "for keyname in ModelDict['svm'].keys():\n",
    "    if 'EWaldSumLst)^2' in keyname and 'XWithNaLst' in keyname and 'cbrt(RDiffStdLst)' in keyname \\\n",
    "        and 'NNaLst' in keyname and '(AnionChgStdLst)^2' in keyname:\n",
    "        print(keyname)\n",
    "        count += 1"
   ]
  },
  {
   "cell_type": "code",
   "execution_count": 18,
   "metadata": {},
   "outputs": [
    {
     "name": "stdout",
     "output_type": "stream",
     "text": [
      "0 feature sets found\n"
     ]
    }
   ],
   "source": [
    "print(f'{count} feature sets found')"
   ]
  },
  {
   "cell_type": "markdown",
   "metadata": {},
   "source": [
    "### From the above code I notice the feature is not in the targeted file. So we will search for the files below:"
   ]
  },
  {
   "cell_type": "code",
   "execution_count": 28,
   "metadata": {},
   "outputs": [],
   "source": [
    "search_dir = '/projects/saepssic/bouyang/NASICONProject/NASICON/SISSO/Stability'\n",
    "\n",
    "svm_log_files = []\n",
    "\n",
    "for root, dirs, files in os.walk(search_dir):\n",
    "    if '_rung3' in root:\n",
    "        continue\n",
    "    if 'svm.log' in files:\n",
    "        svm_log_files.append(f'{root}/svm.log')\n",
    "    if 'tree.log' in files:\n",
    "        svm_log_files.append(f'{root}/tree.log')"
   ]
  },
  {
   "cell_type": "code",
   "execution_count": 29,
   "metadata": {},
   "outputs": [
    {
     "name": "stdout",
     "output_type": "stream",
     "text": [
      "['/projects/saepssic/bouyang/NASICONProject/NASICON/SISSO/Stability/ClassforAllround7/subs_sis500/svm.log', '/projects/saepssic/bouyang/NASICONProject/NASICON/SISSO/Stability/ClassforAllround7/subs_sis500/tree.log', '/projects/saepssic/bouyang/NASICONProject/NASICON/SISSO/Stability/ClassforAllround7/subs_sis500/OutMoreModels/svm.log', '/projects/saepssic/bouyang/NASICONProject/NASICON/SISSO/Stability/ClassforAllround7/subs_sis500/OutMoreModels/tree.log', '/projects/saepssic/bouyang/NASICONProject/NASICON/SISSO/Stability/ClassforAllround7/subs_sis100/svm.log', '/projects/saepssic/bouyang/NASICONProject/NASICON/SISSO/Stability/ClassforAllround7/subs_sis100/tree.log', '/projects/saepssic/bouyang/NASICONProject/NASICON/SISSO/Stability/ClassforAllround7/subs_sis50/svm.log', '/projects/saepssic/bouyang/NASICONProject/NASICON/SISSO/Stability/ClassforAllround7/subs_sis50/tree.log', '/projects/saepssic/bouyang/NASICONProject/NASICON/SISSO/Stability/ClassforAllround7/subs_sis40/svm.log', '/projects/saepssic/bouyang/NASICONProject/NASICON/SISSO/Stability/ClassforAllround7/subs_sis40/tree.log', '/projects/saepssic/bouyang/NASICONProject/NASICON/SISSO/Stability/ClassforAllround7/subs_sis80/svm.log', '/projects/saepssic/bouyang/NASICONProject/NASICON/SISSO/Stability/ClassforAllround7/subs_sis80/tree.log', '/projects/saepssic/bouyang/NASICONProject/NASICON/SISSO/Stability/ClassforAllround7/subs_sis200/svm.log', '/projects/saepssic/bouyang/NASICONProject/NASICON/SISSO/Stability/ClassforAllround7/subs_sis200/tree.log', '/projects/saepssic/bouyang/NASICONProject/NASICON/SISSO/Stability/ClassforAllround8/subs_sis500/svm.log', '/projects/saepssic/bouyang/NASICONProject/NASICON/SISSO/Stability/ClassforAllround8/subs_sis500/tree.log', '/projects/saepssic/bouyang/NASICONProject/NASICON/SISSO/Stability/ClassforAllround8/subs_sis100/svm.log', '/projects/saepssic/bouyang/NASICONProject/NASICON/SISSO/Stability/ClassforAllround8/subs_sis100/tree.log', '/projects/saepssic/bouyang/NASICONProject/NASICON/SISSO/Stability/ClassforAllround8/subs_sis20/svm.log', '/projects/saepssic/bouyang/NASICONProject/NASICON/SISSO/Stability/ClassforAllround8/subs_sis20/tree.log', '/projects/saepssic/bouyang/NASICONProject/NASICON/SISSO/Stability/ClassforAllround8/subs_sis50/svm.log', '/projects/saepssic/bouyang/NASICONProject/NASICON/SISSO/Stability/ClassforAllround8/subs_sis50/tree.log', '/projects/saepssic/bouyang/NASICONProject/NASICON/SISSO/Stability/ClassforAllround8/subs_sis200/svm.log', '/projects/saepssic/bouyang/NASICONProject/NASICON/SISSO/Stability/ClassforAllround8/subs_sis200/tree.log', '/projects/saepssic/bouyang/NASICONProject/NASICON/SISSO/Stability/ClassforAllround6/subs_sis20/svm.log', '/projects/saepssic/bouyang/NASICONProject/NASICON/SISSO/Stability/ClassforAllround6/subs_sis20/tree.log', '/projects/saepssic/bouyang/NASICONProject/NASICON/SISSO/Stability/ClassforAllround6/subs_sis200/svm.log', '/projects/saepssic/bouyang/NASICONProject/NASICON/SISSO/Stability/ClassforAllround6/subs_sis200/tree.log', '/projects/saepssic/bouyang/NASICONProject/NASICON/SISSO/Stability/RegforAllround1/subs_sis500/svm.log', '/projects/saepssic/bouyang/NASICONProject/NASICON/SISSO/Stability/RegforAllround1/subs_sis500/tree.log', '/projects/saepssic/bouyang/NASICONProject/NASICON/SISSO/Stability/RegforAllround1/subs_sis100/svm.log', '/projects/saepssic/bouyang/NASICONProject/NASICON/SISSO/Stability/RegforAllround1/subs_sis100/tree.log', '/projects/saepssic/bouyang/NASICONProject/NASICON/SISSO/Stability/RegforAllround1/subs_sis20/svm.log', '/projects/saepssic/bouyang/NASICONProject/NASICON/SISSO/Stability/RegforAllround1/subs_sis20/tree.log', '/projects/saepssic/bouyang/NASICONProject/NASICON/SISSO/Stability/RegforAllround1/subs_sis1000/svm.log', '/projects/saepssic/bouyang/NASICONProject/NASICON/SISSO/Stability/RegforAllround1/subs_sis1000/tree.log', '/projects/saepssic/bouyang/NASICONProject/NASICON/SISSO/Stability/RegforAllround1/subs_sis200/svm.log', '/projects/saepssic/bouyang/NASICONProject/NASICON/SISSO/Stability/RegforAllround1/subs_sis200/tree.log', '/projects/saepssic/bouyang/NASICONProject/NASICON/SISSO/Stability/RegforAllround1/class/subs_sis500/svm.log', '/projects/saepssic/bouyang/NASICONProject/NASICON/SISSO/Stability/RegforAllround1/class/subs_sis500/tree.log', '/projects/saepssic/bouyang/NASICONProject/NASICON/SISSO/Stability/RegforAllround1/class/subs_sis100/svm.log', '/projects/saepssic/bouyang/NASICONProject/NASICON/SISSO/Stability/RegforAllround1/class/subs_sis100/tree.log', '/projects/saepssic/bouyang/NASICONProject/NASICON/SISSO/Stability/RegforAllround1/class/subs_sis20/svm.log', '/projects/saepssic/bouyang/NASICONProject/NASICON/SISSO/Stability/RegforAllround1/class/subs_sis20/tree.log', '/projects/saepssic/bouyang/NASICONProject/NASICON/SISSO/Stability/RegforAllround1/class/subs_sis1000/svm.log', '/projects/saepssic/bouyang/NASICONProject/NASICON/SISSO/Stability/RegforAllround1/class/subs_sis1000/tree.log', '/projects/saepssic/bouyang/NASICONProject/NASICON/SISSO/Stability/RegforAllround1/class/subs_sis200/svm.log', '/projects/saepssic/bouyang/NASICONProject/NASICON/SISSO/Stability/RegforAllround1/class/subs_sis200/tree.log', '/projects/saepssic/bouyang/NASICONProject/NASICON/SISSO/Stability/RegforAllround2/subs_sis500/svm.log', '/projects/saepssic/bouyang/NASICONProject/NASICON/SISSO/Stability/RegforAllround2/subs_sis500/tree.log', '/projects/saepssic/bouyang/NASICONProject/NASICON/SISSO/Stability/RegforAllround2/subs_sis100/svm.log', '/projects/saepssic/bouyang/NASICONProject/NASICON/SISSO/Stability/RegforAllround2/subs_sis100/tree.log', '/projects/saepssic/bouyang/NASICONProject/NASICON/SISSO/Stability/RegforAllround2/subs_sis20/svm.log', '/projects/saepssic/bouyang/NASICONProject/NASICON/SISSO/Stability/RegforAllround2/subs_sis20/tree.log', '/projects/saepssic/bouyang/NASICONProject/NASICON/SISSO/Stability/RegforAllround2/subs_sis1000/svm.log', '/projects/saepssic/bouyang/NASICONProject/NASICON/SISSO/Stability/RegforAllround2/subs_sis1000/tree.log', '/projects/saepssic/bouyang/NASICONProject/NASICON/SISSO/Stability/RegforAllround2/subs_sis200/svm.log', '/projects/saepssic/bouyang/NASICONProject/NASICON/SISSO/Stability/RegforAllround2/subs_sis200/tree.log']\n"
     ]
    }
   ],
   "source": [
    "print(svm_log_files)"
   ]
  },
  {
   "cell_type": "code",
   "execution_count": 30,
   "metadata": {
    "scrolled": false
   },
   "outputs": [
    {
     "name": "stdout",
     "output_type": "stream",
     "text": [
      "Parsing /projects/saepssic/bouyang/NASICONProject/NASICON/SISSO/Stability/ClassforAllround7/subs_sis500/svm.log\n",
      "Parsing /projects/saepssic/bouyang/NASICONProject/NASICON/SISSO/Stability/ClassforAllround7/subs_sis500/tree.log\n",
      "Parsing /projects/saepssic/bouyang/NASICONProject/NASICON/SISSO/Stability/ClassforAllround7/subs_sis500/OutMoreModels/svm.log\n",
      "Parsing /projects/saepssic/bouyang/NASICONProject/NASICON/SISSO/Stability/ClassforAllround7/subs_sis500/OutMoreModels/tree.log\n",
      "Parsing /projects/saepssic/bouyang/NASICONProject/NASICON/SISSO/Stability/ClassforAllround7/subs_sis100/svm.log\n",
      "Parsing /projects/saepssic/bouyang/NASICONProject/NASICON/SISSO/Stability/ClassforAllround7/subs_sis100/tree.log\n",
      "Parsing /projects/saepssic/bouyang/NASICONProject/NASICON/SISSO/Stability/ClassforAllround7/subs_sis50/svm.log\n",
      "Parsing /projects/saepssic/bouyang/NASICONProject/NASICON/SISSO/Stability/ClassforAllround7/subs_sis50/tree.log\n",
      "Parsing /projects/saepssic/bouyang/NASICONProject/NASICON/SISSO/Stability/ClassforAllround7/subs_sis40/svm.log\n",
      "Parsing /projects/saepssic/bouyang/NASICONProject/NASICON/SISSO/Stability/ClassforAllround7/subs_sis40/tree.log\n",
      "Parsing /projects/saepssic/bouyang/NASICONProject/NASICON/SISSO/Stability/ClassforAllround7/subs_sis80/svm.log\n",
      "Parsing /projects/saepssic/bouyang/NASICONProject/NASICON/SISSO/Stability/ClassforAllround7/subs_sis80/tree.log\n",
      "Parsing /projects/saepssic/bouyang/NASICONProject/NASICON/SISSO/Stability/ClassforAllround7/subs_sis200/svm.log\n",
      "Parsing /projects/saepssic/bouyang/NASICONProject/NASICON/SISSO/Stability/ClassforAllround7/subs_sis200/tree.log\n",
      "Parsing /projects/saepssic/bouyang/NASICONProject/NASICON/SISSO/Stability/ClassforAllround8/subs_sis500/svm.log\n",
      "Parsing /projects/saepssic/bouyang/NASICONProject/NASICON/SISSO/Stability/ClassforAllround8/subs_sis500/tree.log\n",
      "Parsing /projects/saepssic/bouyang/NASICONProject/NASICON/SISSO/Stability/ClassforAllround8/subs_sis100/svm.log\n",
      "Parsing /projects/saepssic/bouyang/NASICONProject/NASICON/SISSO/Stability/ClassforAllround8/subs_sis100/tree.log\n",
      "Parsing /projects/saepssic/bouyang/NASICONProject/NASICON/SISSO/Stability/ClassforAllround8/subs_sis20/svm.log\n",
      "Parsing /projects/saepssic/bouyang/NASICONProject/NASICON/SISSO/Stability/ClassforAllround8/subs_sis20/tree.log\n",
      "Parsing /projects/saepssic/bouyang/NASICONProject/NASICON/SISSO/Stability/ClassforAllround8/subs_sis50/svm.log\n",
      "Parsing /projects/saepssic/bouyang/NASICONProject/NASICON/SISSO/Stability/ClassforAllround8/subs_sis50/tree.log\n",
      "Parsing /projects/saepssic/bouyang/NASICONProject/NASICON/SISSO/Stability/ClassforAllround8/subs_sis200/svm.log\n",
      "Parsing /projects/saepssic/bouyang/NASICONProject/NASICON/SISSO/Stability/ClassforAllround8/subs_sis200/tree.log\n",
      "Parsing /projects/saepssic/bouyang/NASICONProject/NASICON/SISSO/Stability/ClassforAllround6/subs_sis20/svm.log\n",
      "Parsing /projects/saepssic/bouyang/NASICONProject/NASICON/SISSO/Stability/ClassforAllround6/subs_sis20/tree.log\n",
      "Parsing /projects/saepssic/bouyang/NASICONProject/NASICON/SISSO/Stability/ClassforAllround6/subs_sis200/svm.log\n",
      "Parsing /projects/saepssic/bouyang/NASICONProject/NASICON/SISSO/Stability/ClassforAllround6/subs_sis200/tree.log\n",
      "Parsing /projects/saepssic/bouyang/NASICONProject/NASICON/SISSO/Stability/RegforAllround1/subs_sis500/svm.log\n",
      "Parsing /projects/saepssic/bouyang/NASICONProject/NASICON/SISSO/Stability/RegforAllround1/subs_sis500/tree.log\n",
      "Parsing /projects/saepssic/bouyang/NASICONProject/NASICON/SISSO/Stability/RegforAllround1/subs_sis100/svm.log\n",
      "Parsing /projects/saepssic/bouyang/NASICONProject/NASICON/SISSO/Stability/RegforAllround1/subs_sis100/tree.log\n",
      "Parsing /projects/saepssic/bouyang/NASICONProject/NASICON/SISSO/Stability/RegforAllround1/subs_sis20/svm.log\n",
      "Parsing /projects/saepssic/bouyang/NASICONProject/NASICON/SISSO/Stability/RegforAllround1/subs_sis20/tree.log\n",
      "Parsing /projects/saepssic/bouyang/NASICONProject/NASICON/SISSO/Stability/RegforAllround1/subs_sis1000/svm.log\n",
      "Parsing /projects/saepssic/bouyang/NASICONProject/NASICON/SISSO/Stability/RegforAllround1/subs_sis1000/tree.log\n",
      "Parsing /projects/saepssic/bouyang/NASICONProject/NASICON/SISSO/Stability/RegforAllround1/subs_sis200/svm.log\n",
      "Parsing /projects/saepssic/bouyang/NASICONProject/NASICON/SISSO/Stability/RegforAllround1/subs_sis200/tree.log\n",
      "Parsing /projects/saepssic/bouyang/NASICONProject/NASICON/SISSO/Stability/RegforAllround1/class/subs_sis500/svm.log\n",
      "Parsing /projects/saepssic/bouyang/NASICONProject/NASICON/SISSO/Stability/RegforAllround1/class/subs_sis500/tree.log\n",
      "Parsing /projects/saepssic/bouyang/NASICONProject/NASICON/SISSO/Stability/RegforAllround1/class/subs_sis100/svm.log\n",
      "Parsing /projects/saepssic/bouyang/NASICONProject/NASICON/SISSO/Stability/RegforAllround1/class/subs_sis100/tree.log\n",
      "Parsing /projects/saepssic/bouyang/NASICONProject/NASICON/SISSO/Stability/RegforAllround1/class/subs_sis20/svm.log\n",
      "Parsing /projects/saepssic/bouyang/NASICONProject/NASICON/SISSO/Stability/RegforAllround1/class/subs_sis20/tree.log\n",
      "Parsing /projects/saepssic/bouyang/NASICONProject/NASICON/SISSO/Stability/RegforAllround1/class/subs_sis1000/svm.log\n",
      "Parsing /projects/saepssic/bouyang/NASICONProject/NASICON/SISSO/Stability/RegforAllround1/class/subs_sis1000/tree.log\n",
      "Parsing /projects/saepssic/bouyang/NASICONProject/NASICON/SISSO/Stability/RegforAllround1/class/subs_sis200/svm.log\n",
      "Parsing /projects/saepssic/bouyang/NASICONProject/NASICON/SISSO/Stability/RegforAllround1/class/subs_sis200/tree.log\n",
      "Parsing /projects/saepssic/bouyang/NASICONProject/NASICON/SISSO/Stability/RegforAllround2/subs_sis500/svm.log\n",
      "Checking featurecomp: ['(cbrt(NNaLst)+(AnionChgStdLst)^2)', '((EWaldSumLst)^2*(XWithNaLst*RDiffStdLst))']\n",
      "Checking featurecomp: ['(cbrt(NNaLst)*(AnionChgStdLst)^2)', '((EWaldSumLst)^2*(XWithNaLst*RDiffStdLst))']\n",
      "Parsing /projects/saepssic/bouyang/NASICONProject/NASICON/SISSO/Stability/RegforAllround2/subs_sis500/tree.log\n",
      "Checking featurecomp: ['(cbrt(NNaLst)+(AnionChgStdLst)^2)', '((EWaldSumLst)^2*(XWithNaLst*RDiffStdLst))']\n",
      "Checking featurecomp: ['(cbrt(NNaLst)*(AnionChgStdLst)^2)', '((EWaldSumLst)^2*(XWithNaLst*RDiffStdLst))']\n",
      "Parsing /projects/saepssic/bouyang/NASICONProject/NASICON/SISSO/Stability/RegforAllround2/subs_sis100/svm.log\n",
      "Parsing /projects/saepssic/bouyang/NASICONProject/NASICON/SISSO/Stability/RegforAllround2/subs_sis100/tree.log\n",
      "Parsing /projects/saepssic/bouyang/NASICONProject/NASICON/SISSO/Stability/RegforAllround2/subs_sis20/svm.log\n",
      "Parsing /projects/saepssic/bouyang/NASICONProject/NASICON/SISSO/Stability/RegforAllround2/subs_sis20/tree.log\n",
      "Parsing /projects/saepssic/bouyang/NASICONProject/NASICON/SISSO/Stability/RegforAllround2/subs_sis1000/svm.log\n",
      "Checking featurecomp: ['(cbrt(NNaLst)+(AnionChgStdLst)^2)', '((EWaldSumLst)^2*(XWithNaLst*RDiffStdLst))']\n",
      "Checking featurecomp: ['(cbrt(NNaLst)*(AnionChgStdLst)^2)', '((EWaldSumLst)^2*(XWithNaLst*RDiffStdLst))']\n",
      "Parsing /projects/saepssic/bouyang/NASICONProject/NASICON/SISSO/Stability/RegforAllround2/subs_sis1000/tree.log\n",
      "Checking featurecomp: ['(cbrt(NNaLst)+(AnionChgStdLst)^2)', '((EWaldSumLst)^2*(XWithNaLst*RDiffStdLst))']\n",
      "Checking featurecomp: ['(cbrt(NNaLst)*(AnionChgStdLst)^2)', '((EWaldSumLst)^2*(XWithNaLst*RDiffStdLst))']\n",
      "Parsing /projects/saepssic/bouyang/NASICONProject/NASICON/SISSO/Stability/RegforAllround2/subs_sis200/svm.log\n",
      "Checking featurecomp: ['(cbrt(NNaLst)+(AnionChgStdLst)^2)', '((EWaldSumLst)^2*(XWithNaLst*RDiffStdLst))']\n",
      "Checking featurecomp: ['(cbrt(NNaLst)*(AnionChgStdLst)^2)', '((EWaldSumLst)^2*(XWithNaLst*RDiffStdLst))']\n",
      "Parsing /projects/saepssic/bouyang/NASICONProject/NASICON/SISSO/Stability/RegforAllround2/subs_sis200/tree.log\n",
      "Checking featurecomp: ['(cbrt(NNaLst)+(AnionChgStdLst)^2)', '((EWaldSumLst)^2*(XWithNaLst*RDiffStdLst))']\n",
      "Checking featurecomp: ['(cbrt(NNaLst)*(AnionChgStdLst)^2)', '((EWaldSumLst)^2*(XWithNaLst*RDiffStdLst))']\n"
     ]
    }
   ],
   "source": [
    "count = 0\n",
    "for svm_log_file in svm_log_files:\n",
    "    print(f'Parsing {svm_log_file}')\n",
    "    with open(svm_log_file,'r') as fid:\n",
    "        log_lines = fid.read().split('\\n')\n",
    "        for line in log_lines:\n",
    "            if 'EWaldSumLst)^2' in line and 'XWithNaLst' in line and 'RDiffStdLst' in line \\\n",
    "                and 'cbrt(NNaLst)' in line and '(AnionChgStdLst)^2' in line:\n",
    "                print(line)\n",
    "                count += 1"
   ]
  },
  {
   "cell_type": "code",
   "execution_count": 31,
   "metadata": {},
   "outputs": [
    {
     "name": "stdout",
     "output_type": "stream",
     "text": [
      "12 feature sets found\n"
     ]
    }
   ],
   "source": [
    "print(f'{count} feature sets found')"
   ]
  },
  {
   "cell_type": "code",
   "execution_count": 38,
   "metadata": {},
   "outputs": [],
   "source": [
    "with open('/projects/saepssic/bouyang/NASICONProject/NASICON/SISSO/Stability/RegforAllround2/subs_sis1000/svm.log','r') as fid:\n",
    "    lines = fid.read().split('\\n')\n",
    "\n",
    "model_dict = {}\n",
    "for line_ind, line in enumerate(lines):\n",
    "    if 'Checking featurecomp' in line:\n",
    "        feature_string = line.split('Checking featurecomp:')[1]\n",
    "        model_dict[feature_string] = lines[line_ind+3]"
   ]
  },
  {
   "cell_type": "code",
   "execution_count": 39,
   "metadata": {},
   "outputs": [],
   "source": [
    "score = model_dict[' [\\'(cbrt(NNaLst)+(AnionChgStdLst)^2)\\', \\'((EWaldSumLst)^2*(XWithNaLst*RDiffStdLst))\\']']"
   ]
  },
  {
   "cell_type": "code",
   "execution_count": 41,
   "metadata": {},
   "outputs": [
    {
     "name": "stdout",
     "output_type": "stream",
     "text": [
      " ['(cbrt(NNaLst)+(AnionChgStdLst)^2)', '((EWaldSumLst)^2*(XWithNaLst*RDiffStdLst))'] Feature comp index 443 has score 0.8625162127107653\n"
     ]
    }
   ],
   "source": [
    "for key, value in model_dict.items():\n",
    "    if '(cbrt(NNaLst)+(AnionChgStdLst)^2)' in key and '((EWaldSumLst)^2*(XWithNaLst*RDiffStdLst))' in key:\n",
    "        print(key,value)"
   ]
  },
  {
   "cell_type": "code",
   "execution_count": 42,
   "metadata": {},
   "outputs": [],
   "source": [
    "from monty.serialization import loadfn"
   ]
  },
  {
   "cell_type": "code",
   "execution_count": 43,
   "metadata": {},
   "outputs": [],
   "source": [
    "svm_dict = loadfn('/projects/saepssic/bouyang/NASICONProject/NASICON/SISSO/Stability/RegforAllround2/subs_sis1000/svm.mson')"
   ]
  },
  {
   "cell_type": "code",
   "execution_count": 46,
   "metadata": {},
   "outputs": [
    {
     "name": "stdout",
     "output_type": "stream",
     "text": [
      "FeatureComps\n"
     ]
    }
   ],
   "source": [
    "print(list(svm_dict.keys())[0])"
   ]
  },
  {
   "cell_type": "markdown",
   "metadata": {},
   "source": [
    "### Search for the log of the selected model"
   ]
  },
  {
   "cell_type": "code",
   "execution_count": 55,
   "metadata": {},
   "outputs": [],
   "source": [
    "from pprint import pprint\n",
    "\n",
    "parse_dir = '/projects/saepssic/bouyang/NASICONProject/NASICON/SISSO/Stability/RegforAllround2/subs_sis1000/RankJobs/run1'\n",
    "sub_files = os.listdir(parse_dir)\n",
    "checked_string = ' [\\'(cbrt(NNaLst)+(AnionChgStdLst)^2)\\', \\'((EWaldSumLst)^2*(XWithNaLst*RDiffStdLst))\\']'"
   ]
  },
  {
   "cell_type": "code",
   "execution_count": 62,
   "metadata": {
    "scrolled": false
   },
   "outputs": [
    {
     "name": "stdout",
     "output_type": "stream",
     "text": [
      "/projects/saepssic/bouyang/NASICONProject/NASICON/SISSO/Stability/RegforAllround2/subs_sis1000/RankJobs/run1/jobrank0.log is the file with information\n",
      "121859\n",
      "[\"Checking featurecomp: ['(cbrt(NNaLst)+(AnionChgStdLst)^2)', \"\n",
      " \"'((EWaldSumLst)^2*(XWithNaLst*RDiffStdLst))']\",\n",
      " 'Class for featuremat with size (3079, 2)',\n",
      " 'Test with featuremat of size (771, 2)',\n",
      " 'Transforming features and target',\n",
      " 'NewFeatMat has the shape (4738581, 2)',\n",
      " 'NewTarget has the shape (4738581,)',\n",
      " 'NewFeatMat has the shape (296835, 2)',\n",
      " 'NewTarget has the shape (296835,)',\n",
      " 'Transformation completed',\n",
      " 'Feature comp index 443 has score 0.8470766587498105',\n",
      " 'Feature comp index 443 has train score 0.8433896138949614',\n",
      " 'Feature comp index 443 has CV F1 0.7240429683937918',\n",
      " 'Feature comp index 443 has train F1 0.7205161317535442',\n",
      " '16.683539628982544s used for feature 443',\n",
      " 'Woking on the feature 444',\n",
      " 'size of the base feature matrix is (3079, 14)',\n",
      " 'size of the base features is 14',\n",
      " 'Model svm will be used',\n",
      " '=====================================']\n",
      "/projects/saepssic/bouyang/NASICONProject/NASICON/SISSO/Stability/RegforAllround2/subs_sis1000/RankJobs/run1/jobrank126.log is the file with information\n",
      "24959\n",
      "[\"Checking featurecomp: ['(cbrt(NNaLst)+(AnionChgStdLst)^2)', \"\n",
      " \"'((EWaldSumLst)^2*(XWithNaLst*RDiffStdLst))']\",\n",
      " 'Class for featuremat with size (3079, 2)',\n",
      " 'Test with featuremat of size (771, 2)',\n",
      " 'Transforming features and target',\n",
      " 'NewFeatMat has the shape (4738581, 2)',\n",
      " 'NewTarget has the shape (4738581,)',\n",
      " 'NewFeatMat has the shape (296835, 2)',\n",
      " 'NewTarget has the shape (296835,)',\n",
      " 'Transformation completed',\n",
      " 'Feature comp index 443 has score 0.8231037445045227',\n",
      " 'Feature comp index 443 has train score 0.8262560036432848',\n",
      " 'Feature comp index 443 has CV F1 0.7145210484252419',\n",
      " 'Feature comp index 443 has train F1 0.7206387339332491',\n",
      " '11.9703369140625s used for feature 443',\n",
      " 'Woking on the feature 444',\n",
      " 'size of the base feature matrix is (3079, 14)',\n",
      " 'size of the base features is 14',\n",
      " 'Model tree will be used',\n",
      " '=====================================']\n"
     ]
    }
   ],
   "source": [
    "for subfile in sub_files:\n",
    "    if subfile[-4:] != '.log':\n",
    "        continue\n",
    "    file_fullname = os.path.join(parse_dir,subfile)\n",
    "    with open(file_fullname,'r') as fid:\n",
    "        contents = fid.read()\n",
    "        if checked_string in contents:\n",
    "            print(f'{file_fullname} is the file with information')\n",
    "            lines = contents.split('\\n')\n",
    "            for line_ind, line in enumerate(lines):\n",
    "                if checked_string in line:\n",
    "#                     print(line)\n",
    "                    print(line_ind)\n",
    "                    pprint(lines[line_ind:line_ind+19])"
   ]
  },
  {
   "cell_type": "code",
   "execution_count": null,
   "metadata": {},
   "outputs": [],
   "source": []
  }
 ],
 "metadata": {
  "kernelspec": {
   "display_name": "MyCondaEnv",
   "language": "python",
   "name": "work"
  },
  "language_info": {
   "codemirror_mode": {
    "name": "ipython",
    "version": 3
   },
   "file_extension": ".py",
   "mimetype": "text/x-python",
   "name": "python",
   "nbconvert_exporter": "python",
   "pygments_lexer": "ipython3",
   "version": "3.7.0"
  }
 },
 "nbformat": 4,
 "nbformat_minor": 2
}
