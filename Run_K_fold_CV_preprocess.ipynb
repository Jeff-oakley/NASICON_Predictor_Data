{
 "cells": [
  {
   "cell_type": "code",
   "execution_count": 1,
   "metadata": {},
   "outputs": [],
   "source": [
    "import pandas as pd\n",
    "from pandas import DataFrame\n",
    "import os\n",
    "import sys\n",
    "sys.path.append('/home/bouyang/Software/Nanokit/Python/PythonScript')\n",
    "from SISSOAna import __readdata, __getFeatureMat, rankedTransform\n",
    "from sklearn.svm import LinearSVC\n",
    "from sklearn.metrics import accuracy_score, f1_score\n",
    "import numpy as np\n",
    "\n",
    "prefix = os.getcwd()"
   ]
  },
  {
   "cell_type": "code",
   "execution_count": 2,
   "metadata": {},
   "outputs": [],
   "source": [
    "train_df = pd.read_csv('train.csv')\n",
    "test_df = pd.read_csv('test.csv')\n",
    "with open('KeyFeatureNames.txt','r') as fid:\n",
    "    key_feature_names = eval(fid.read())"
   ]
  },
  {
   "cell_type": "code",
   "execution_count": 3,
   "metadata": {},
   "outputs": [
    {
     "data": {
      "text/html": [
       "<div>\n",
       "<style scoped>\n",
       "    .dataframe tbody tr th:only-of-type {\n",
       "        vertical-align: middle;\n",
       "    }\n",
       "\n",
       "    .dataframe tbody tr th {\n",
       "        vertical-align: top;\n",
       "    }\n",
       "\n",
       "    .dataframe thead th {\n",
       "        text-align: right;\n",
       "    }\n",
       "</style>\n",
       "<table border=\"1\" class=\"dataframe\">\n",
       "  <thead>\n",
       "    <tr style=\"text-align: right;\">\n",
       "      <th></th>\n",
       "      <th>CompName</th>\n",
       "      <th>NewEhullLst</th>\n",
       "      <th>EWaldSumLst</th>\n",
       "      <th>EFormLst</th>\n",
       "      <th>RDiffLst</th>\n",
       "      <th>RDiffStdLst</th>\n",
       "      <th>RDiffNaLst</th>\n",
       "      <th>EleNegStdLst</th>\n",
       "      <th>XDiffLst</th>\n",
       "      <th>AnionXStdLst</th>\n",
       "      <th>XWithNaLst</th>\n",
       "      <th>ChgDiffLst</th>\n",
       "      <th>ChgStdLst</th>\n",
       "      <th>AnionChgStdLst</th>\n",
       "      <th>NNaLst</th>\n",
       "      <th>RRatioNaLst</th>\n",
       "    </tr>\n",
       "  </thead>\n",
       "  <tbody>\n",
       "    <tr>\n",
       "      <th>0</th>\n",
       "      <td>MgZr(SO4)3</td>\n",
       "      <td>-60.260567</td>\n",
       "      <td>-65.921154</td>\n",
       "      <td>-1.891755</td>\n",
       "      <td>0.000</td>\n",
       "      <td>0.000000</td>\n",
       "      <td>-0.300000</td>\n",
       "      <td>0.010000</td>\n",
       "      <td>0.02</td>\n",
       "      <td>0.0</td>\n",
       "      <td>0.390000</td>\n",
       "      <td>2.0</td>\n",
       "      <td>1.000000</td>\n",
       "      <td>0.0</td>\n",
       "      <td>0.0</td>\n",
       "      <td>0.705882</td>\n",
       "    </tr>\n",
       "    <tr>\n",
       "      <th>1</th>\n",
       "      <td>MgTi(SO4)3</td>\n",
       "      <td>-27.986572</td>\n",
       "      <td>-66.524285</td>\n",
       "      <td>-1.828661</td>\n",
       "      <td>0.115</td>\n",
       "      <td>0.057500</td>\n",
       "      <td>-0.357500</td>\n",
       "      <td>0.115000</td>\n",
       "      <td>0.23</td>\n",
       "      <td>0.0</td>\n",
       "      <td>0.495000</td>\n",
       "      <td>2.0</td>\n",
       "      <td>1.000000</td>\n",
       "      <td>0.0</td>\n",
       "      <td>0.0</td>\n",
       "      <td>0.649510</td>\n",
       "    </tr>\n",
       "    <tr>\n",
       "      <th>2</th>\n",
       "      <td>MgSn(SO4)3</td>\n",
       "      <td>-30.640966</td>\n",
       "      <td>-66.032051</td>\n",
       "      <td>-1.554568</td>\n",
       "      <td>0.030</td>\n",
       "      <td>0.015000</td>\n",
       "      <td>-0.315000</td>\n",
       "      <td>0.325000</td>\n",
       "      <td>0.65</td>\n",
       "      <td>0.0</td>\n",
       "      <td>0.705000</td>\n",
       "      <td>2.0</td>\n",
       "      <td>1.000000</td>\n",
       "      <td>0.0</td>\n",
       "      <td>0.0</td>\n",
       "      <td>0.691176</td>\n",
       "    </tr>\n",
       "    <tr>\n",
       "      <th>3</th>\n",
       "      <td>Mg4Nb2(SO4)9</td>\n",
       "      <td>-42.783127</td>\n",
       "      <td>-66.565193</td>\n",
       "      <td>-1.750108</td>\n",
       "      <td>0.080</td>\n",
       "      <td>0.037712</td>\n",
       "      <td>-0.326667</td>\n",
       "      <td>0.136707</td>\n",
       "      <td>0.29</td>\n",
       "      <td>0.0</td>\n",
       "      <td>0.476667</td>\n",
       "      <td>3.0</td>\n",
       "      <td>1.414214</td>\n",
       "      <td>0.0</td>\n",
       "      <td>0.0</td>\n",
       "      <td>0.679739</td>\n",
       "    </tr>\n",
       "    <tr>\n",
       "      <th>4</th>\n",
       "      <td>ZrZn(SO4)3</td>\n",
       "      <td>-40.419096</td>\n",
       "      <td>-65.810136</td>\n",
       "      <td>-1.699355</td>\n",
       "      <td>0.020</td>\n",
       "      <td>0.010000</td>\n",
       "      <td>-0.290000</td>\n",
       "      <td>0.160000</td>\n",
       "      <td>0.32</td>\n",
       "      <td>0.0</td>\n",
       "      <td>0.560000</td>\n",
       "      <td>2.0</td>\n",
       "      <td>1.000000</td>\n",
       "      <td>0.0</td>\n",
       "      <td>0.0</td>\n",
       "      <td>0.715686</td>\n",
       "    </tr>\n",
       "  </tbody>\n",
       "</table>\n",
       "</div>"
      ],
      "text/plain": [
       "       CompName  NewEhullLst  EWaldSumLst  EFormLst  RDiffLst  RDiffStdLst  \\\n",
       "0    MgZr(SO4)3   -60.260567   -65.921154 -1.891755     0.000     0.000000   \n",
       "1    MgTi(SO4)3   -27.986572   -66.524285 -1.828661     0.115     0.057500   \n",
       "2    MgSn(SO4)3   -30.640966   -66.032051 -1.554568     0.030     0.015000   \n",
       "3  Mg4Nb2(SO4)9   -42.783127   -66.565193 -1.750108     0.080     0.037712   \n",
       "4    ZrZn(SO4)3   -40.419096   -65.810136 -1.699355     0.020     0.010000   \n",
       "\n",
       "   RDiffNaLst  EleNegStdLst  XDiffLst  AnionXStdLst  XWithNaLst  ChgDiffLst  \\\n",
       "0   -0.300000      0.010000      0.02           0.0    0.390000         2.0   \n",
       "1   -0.357500      0.115000      0.23           0.0    0.495000         2.0   \n",
       "2   -0.315000      0.325000      0.65           0.0    0.705000         2.0   \n",
       "3   -0.326667      0.136707      0.29           0.0    0.476667         3.0   \n",
       "4   -0.290000      0.160000      0.32           0.0    0.560000         2.0   \n",
       "\n",
       "   ChgStdLst  AnionChgStdLst  NNaLst  RRatioNaLst  \n",
       "0   1.000000             0.0     0.0     0.705882  \n",
       "1   1.000000             0.0     0.0     0.649510  \n",
       "2   1.000000             0.0     0.0     0.691176  \n",
       "3   1.414214             0.0     0.0     0.679739  \n",
       "4   1.000000             0.0     0.0     0.715686  "
      ]
     },
     "execution_count": 3,
     "metadata": {},
     "output_type": "execute_result"
    }
   ],
   "source": [
    "train_df.head()"
   ]
  },
  {
   "cell_type": "code",
   "execution_count": 4,
   "metadata": {},
   "outputs": [
    {
     "data": {
      "text/html": [
       "<div>\n",
       "<style scoped>\n",
       "    .dataframe tbody tr th:only-of-type {\n",
       "        vertical-align: middle;\n",
       "    }\n",
       "\n",
       "    .dataframe tbody tr th {\n",
       "        vertical-align: top;\n",
       "    }\n",
       "\n",
       "    .dataframe thead th {\n",
       "        text-align: right;\n",
       "    }\n",
       "</style>\n",
       "<table border=\"1\" class=\"dataframe\">\n",
       "  <thead>\n",
       "    <tr style=\"text-align: right;\">\n",
       "      <th></th>\n",
       "      <th>CompName</th>\n",
       "      <th>NewEhullLst</th>\n",
       "      <th>EWaldSumLst</th>\n",
       "      <th>EFormLst</th>\n",
       "      <th>RDiffLst</th>\n",
       "      <th>RDiffStdLst</th>\n",
       "      <th>RDiffNaLst</th>\n",
       "      <th>EleNegStdLst</th>\n",
       "      <th>XDiffLst</th>\n",
       "      <th>AnionXStdLst</th>\n",
       "      <th>XWithNaLst</th>\n",
       "      <th>ChgDiffLst</th>\n",
       "      <th>ChgStdLst</th>\n",
       "      <th>AnionChgStdLst</th>\n",
       "      <th>NNaLst</th>\n",
       "      <th>RRatioNaLst</th>\n",
       "    </tr>\n",
       "  </thead>\n",
       "  <tbody>\n",
       "    <tr>\n",
       "      <th>0</th>\n",
       "      <td>MgGe(SO4)3</td>\n",
       "      <td>-9.215538</td>\n",
       "      <td>-66.427225</td>\n",
       "      <td>-1.520901</td>\n",
       "      <td>0.19</td>\n",
       "      <td>0.095000</td>\n",
       "      <td>-0.395000</td>\n",
       "      <td>0.350000</td>\n",
       "      <td>0.70</td>\n",
       "      <td>0.0</td>\n",
       "      <td>0.730000</td>\n",
       "      <td>2.0</td>\n",
       "      <td>1.000000</td>\n",
       "      <td>0.0</td>\n",
       "      <td>0.0</td>\n",
       "      <td>0.612745</td>\n",
       "    </tr>\n",
       "    <tr>\n",
       "      <th>1</th>\n",
       "      <td>Mg4Ta2(SO4)9</td>\n",
       "      <td>-48.215659</td>\n",
       "      <td>-66.611213</td>\n",
       "      <td>-1.785828</td>\n",
       "      <td>0.08</td>\n",
       "      <td>0.037712</td>\n",
       "      <td>-0.326667</td>\n",
       "      <td>0.089567</td>\n",
       "      <td>0.19</td>\n",
       "      <td>0.0</td>\n",
       "      <td>0.443333</td>\n",
       "      <td>3.0</td>\n",
       "      <td>1.414214</td>\n",
       "      <td>0.0</td>\n",
       "      <td>0.0</td>\n",
       "      <td>0.679739</td>\n",
       "    </tr>\n",
       "    <tr>\n",
       "      <th>2</th>\n",
       "      <td>ZnSn(SO4)3</td>\n",
       "      <td>-21.229072</td>\n",
       "      <td>-65.840156</td>\n",
       "      <td>-1.350749</td>\n",
       "      <td>0.05</td>\n",
       "      <td>0.025000</td>\n",
       "      <td>-0.305000</td>\n",
       "      <td>0.155000</td>\n",
       "      <td>0.31</td>\n",
       "      <td>0.0</td>\n",
       "      <td>0.875000</td>\n",
       "      <td>2.0</td>\n",
       "      <td>1.000000</td>\n",
       "      <td>0.0</td>\n",
       "      <td>0.0</td>\n",
       "      <td>0.700980</td>\n",
       "    </tr>\n",
       "    <tr>\n",
       "      <th>3</th>\n",
       "      <td>ZnGe(SO4)3</td>\n",
       "      <td>-25.113430</td>\n",
       "      <td>-66.215531</td>\n",
       "      <td>-1.285539</td>\n",
       "      <td>0.21</td>\n",
       "      <td>0.105000</td>\n",
       "      <td>-0.385000</td>\n",
       "      <td>0.180000</td>\n",
       "      <td>0.36</td>\n",
       "      <td>0.0</td>\n",
       "      <td>0.900000</td>\n",
       "      <td>2.0</td>\n",
       "      <td>1.000000</td>\n",
       "      <td>0.0</td>\n",
       "      <td>0.0</td>\n",
       "      <td>0.622549</td>\n",
       "    </tr>\n",
       "    <tr>\n",
       "      <th>4</th>\n",
       "      <td>CaHf(SO4)3</td>\n",
       "      <td>-105.503851</td>\n",
       "      <td>-65.771901</td>\n",
       "      <td>-1.947371</td>\n",
       "      <td>0.29</td>\n",
       "      <td>0.145000</td>\n",
       "      <td>-0.165000</td>\n",
       "      <td>0.150000</td>\n",
       "      <td>0.30</td>\n",
       "      <td>0.0</td>\n",
       "      <td>0.220000</td>\n",
       "      <td>2.0</td>\n",
       "      <td>1.000000</td>\n",
       "      <td>0.0</td>\n",
       "      <td>0.0</td>\n",
       "      <td>0.838235</td>\n",
       "    </tr>\n",
       "  </tbody>\n",
       "</table>\n",
       "</div>"
      ],
      "text/plain": [
       "       CompName  NewEhullLst  EWaldSumLst  EFormLst  RDiffLst  RDiffStdLst  \\\n",
       "0    MgGe(SO4)3    -9.215538   -66.427225 -1.520901      0.19     0.095000   \n",
       "1  Mg4Ta2(SO4)9   -48.215659   -66.611213 -1.785828      0.08     0.037712   \n",
       "2    ZnSn(SO4)3   -21.229072   -65.840156 -1.350749      0.05     0.025000   \n",
       "3    ZnGe(SO4)3   -25.113430   -66.215531 -1.285539      0.21     0.105000   \n",
       "4    CaHf(SO4)3  -105.503851   -65.771901 -1.947371      0.29     0.145000   \n",
       "\n",
       "   RDiffNaLst  EleNegStdLst  XDiffLst  AnionXStdLst  XWithNaLst  ChgDiffLst  \\\n",
       "0   -0.395000      0.350000      0.70           0.0    0.730000         2.0   \n",
       "1   -0.326667      0.089567      0.19           0.0    0.443333         3.0   \n",
       "2   -0.305000      0.155000      0.31           0.0    0.875000         2.0   \n",
       "3   -0.385000      0.180000      0.36           0.0    0.900000         2.0   \n",
       "4   -0.165000      0.150000      0.30           0.0    0.220000         2.0   \n",
       "\n",
       "   ChgStdLst  AnionChgStdLst  NNaLst  RRatioNaLst  \n",
       "0   1.000000             0.0     0.0     0.612745  \n",
       "1   1.414214             0.0     0.0     0.679739  \n",
       "2   1.000000             0.0     0.0     0.700980  \n",
       "3   1.000000             0.0     0.0     0.622549  \n",
       "4   1.000000             0.0     0.0     0.838235  "
      ]
     },
     "execution_count": 4,
     "metadata": {},
     "output_type": "execute_result"
    }
   ],
   "source": [
    "test_df.head()"
   ]
  },
  {
   "cell_type": "code",
   "execution_count": 5,
   "metadata": {},
   "outputs": [
    {
     "name": "stdout",
     "output_type": "stream",
     "text": [
      "['NewEhullLst', 'EWaldSumLst', 'EFormLst', 'RDiffLst', 'RDiffStdLst', 'RDiffNaLst', 'EleNegStdLst', 'XDiffLst', 'AnionXStdLst', 'XWithNaLst', 'ChgDiffLst', 'ChgStdLst', 'AnionChgStdLst', 'NNaLst', 'RRatioNaLst'] 15\n"
     ]
    }
   ],
   "source": [
    "print(key_feature_names,len(key_feature_names))"
   ]
  },
  {
   "cell_type": "code",
   "execution_count": 6,
   "metadata": {},
   "outputs": [],
   "source": [
    "def apply_rank_model(X_train,Y_train,X_test,Y_test,BaseNames):\n",
    "    \"\"\"\n",
    "    Apply the ranking SVM model and get merits we need for analysis\n",
    "    \"\"\"\n",
    "    feature_comp = ['(cbrt(NNaLst)+(AnionChgStdLst)^2)', '((EWaldSumLst)^2*(XWithNaLst*RDiffStdLst))']\n",
    "    \n",
    "    RankedFeatTrain,RankedTargetTrain,RankedFeatTest,RankedTargetTest = X_train,Y_train,X_test,Y_test\n",
    "    TrainFeatureMat=__getFeatureMat(X_train,BaseNames,feature_comp)\n",
    "    TestFeatureMat=__getFeatureMat(X_test,BaseNames,feature_comp)\n",
    "    print(TrainFeatureMat.shape, TestFeatureMat.shape)\n",
    "    TransTrainFeatMat,TransTrainTargets=rankedTransform(TrainFeatureMat,RankedTargetTrain);\n",
    "    TransTestFeatMat,TransTestTargets=rankedTransform(TestFeatureMat,RankedTargetTest);\n",
    "    Clf=LinearSVC(penalty='l2',loss='squared_hinge',dual=False,tol=0.0001,C=1.0,multi_class='ovr',\\\n",
    "              fit_intercept=True,intercept_scaling=1,class_weight=None,verbose=0,\\\n",
    "              random_state=None,max_iter=1000)\n",
    "    \n",
    "    Clf.fit(TransTrainFeatMat,TransTrainTargets);\n",
    "    Y_test_predict=Clf.predict(TransTestFeatMat);\n",
    "    Y_train_predict=Clf.predict(TransTrainFeatMat);\n",
    "    TrainScore=accuracy_score(TransTrainTargets,Y_train_predict);\n",
    "    Score=accuracy_score(TransTestTargets,Y_test_predict);\n",
    "    F1Train=f1_score(TransTrainTargets,Y_train_predict);\n",
    "    F1Test=f1_score(TransTestTargets,Y_test_predict);\n",
    "    F1TrainVals=f1_score(TransTrainTargets,Y_train_predict,average=None);\n",
    "    F1TestVals=f1_score(TransTestTargets,Y_test_predict,average=None);\n",
    "    \n",
    "    print('Feature comp index has CV score {}'.format(Score));\n",
    "    print('Feature comp index has train score {}'.format(TrainScore));\n",
    "    print('Feature comp index has CV F1 {}'.format(F1Test));\n",
    "    print('Feature comp index has train F1 {}'.format(F1Train));\n",
    "    \n",
    "    return Score, F1Test"
   ]
  },
  {
   "cell_type": "code",
   "execution_count": 7,
   "metadata": {},
   "outputs": [],
   "source": [
    "feature_comp = ['(cbrt(NNaLst)+(AnionChgStdLst)^2)', '((EWaldSumLst)^2*(XWithNaLst*RDiffStdLst))']"
   ]
  },
  {
   "cell_type": "code",
   "execution_count": 8,
   "metadata": {},
   "outputs": [],
   "source": [
    "X_train, X_test, Y_train, Y_test = np.float32(train_df.to_numpy()[:,2:]), np.float32(test_df.to_numpy()[:,2:]), \\\n",
    "                                   np.float32(train_df.to_numpy()[:,1]), np.float32(test_df.to_numpy()[:,1])"
   ]
  },
  {
   "cell_type": "code",
   "execution_count": 9,
   "metadata": {},
   "outputs": [
    {
     "name": "stdout",
     "output_type": "stream",
     "text": [
      "(3104, 14) (777, 14) (3104,) (777,)\n"
     ]
    }
   ],
   "source": [
    "print(X_train.shape,X_test.shape,Y_train.shape,Y_test.shape)"
   ]
  },
  {
   "cell_type": "code",
   "execution_count": 10,
   "metadata": {},
   "outputs": [
    {
     "name": "stdout",
     "output_type": "stream",
     "text": [
      "[[-6.5921150e+01 -1.8917547e+00  0.0000000e+00  0.0000000e+00\n",
      "  -3.0000001e-01  9.9999998e-03  2.0000000e-02  0.0000000e+00\n",
      "   3.8999999e-01  2.0000000e+00  1.0000000e+00  0.0000000e+00\n",
      "   0.0000000e+00  7.0588237e-01]\n",
      " [-6.6524284e+01 -1.8286612e+00  1.1500000e-01  5.7500001e-02\n",
      "  -3.5749999e-01  1.1500000e-01  2.3000000e-01  0.0000000e+00\n",
      "   4.9500000e-01  2.0000000e+00  1.0000000e+00  0.0000000e+00\n",
      "   0.0000000e+00  6.4950979e-01]\n",
      " [-6.6032051e+01 -1.5545683e+00  2.9999999e-02  1.5000000e-02\n",
      "  -3.1500000e-01  3.2499999e-01  6.4999998e-01  0.0000000e+00\n",
      "   7.0499998e-01  2.0000000e+00  1.0000000e+00  0.0000000e+00\n",
      "   0.0000000e+00  6.9117647e-01]]\n"
     ]
    }
   ],
   "source": [
    "print(X_train[:3,:])"
   ]
  },
  {
   "cell_type": "code",
   "execution_count": 11,
   "metadata": {},
   "outputs": [],
   "source": [
    "TrainFeatureMat=__getFeatureMat(X_train,key_feature_names[1:],feature_comp)\n",
    "TestFeatureMat=__getFeatureMat(X_test,key_feature_names[1:],feature_comp)"
   ]
  },
  {
   "cell_type": "code",
   "execution_count": 12,
   "metadata": {},
   "outputs": [
    {
     "name": "stdout",
     "output_type": "stream",
     "text": [
      "NewFeatMat has the shape (4815856, 2)\n",
      "NewTarget has the shape (4815856,)\n",
      "NewFeatMat has the shape (301476, 2)\n",
      "NewTarget has the shape (301476,)\n"
     ]
    }
   ],
   "source": [
    "RankedFeatTrain,RankedTargetTrain,RankedFeatTest,RankedTargetTest = X_train,Y_train,X_test,Y_test \n",
    "TransTrainFeatMat,TransTrainTargets=rankedTransform(TrainFeatureMat,RankedTargetTrain);\n",
    "TransTestFeatMat,TransTestTargets=rankedTransform(TestFeatureMat,RankedTargetTest);"
   ]
  },
  {
   "cell_type": "code",
   "execution_count": 13,
   "metadata": {},
   "outputs": [
    {
     "name": "stdout",
     "output_type": "stream",
     "text": [
      "Feature comp index has CV score 0.8470923058551925\n",
      "Feature comp index has train score 0.8416887880368517\n",
      "Feature comp index has CV F1 0.7232116052021662\n",
      "Feature comp index has train F1 0.7201762029167\n"
     ]
    }
   ],
   "source": [
    "Clf=LinearSVC(penalty='l2',loss='squared_hinge',dual=False,tol=0.0001,C=1.0,multi_class='ovr',\\\n",
    "              fit_intercept=True,intercept_scaling=1,class_weight=None,verbose=0,\\\n",
    "              random_state=None,max_iter=1000)\n",
    "Clf.fit(TransTrainFeatMat,TransTrainTargets);\n",
    "Y_test_predict=Clf.predict(TransTestFeatMat);\n",
    "Y_train_predict=Clf.predict(TransTrainFeatMat);\n",
    "TrainScore=accuracy_score(TransTrainTargets,Y_train_predict);\n",
    "Score=accuracy_score(TransTestTargets,Y_test_predict);\n",
    "F1Train=f1_score(TransTrainTargets,Y_train_predict);\n",
    "F1Test=f1_score(TransTestTargets,Y_test_predict);\n",
    "F1TrainVals=f1_score(TransTrainTargets,Y_train_predict,average=None);\n",
    "F1TestVals=f1_score(TransTestTargets,Y_test_predict,average=None);\n",
    "\n",
    "print('Feature comp index has CV score {}'.format(Score));\n",
    "print('Feature comp index has train score {}'.format(TrainScore));\n",
    "print('Feature comp index has CV F1 {}'.format(F1Test));\n",
    "print('Feature comp index has train F1 {}'.format(F1Train));"
   ]
  },
  {
   "cell_type": "code",
   "execution_count": 14,
   "metadata": {},
   "outputs": [
    {
     "name": "stdout",
     "output_type": "stream",
     "text": [
      "(3104, 2)\n"
     ]
    }
   ],
   "source": [
    "print(TrainFeatureMat.shape)"
   ]
  },
  {
   "cell_type": "code",
   "execution_count": 15,
   "metadata": {},
   "outputs": [
    {
     "name": "stdout",
     "output_type": "stream",
     "text": [
      "[[ 0.         46.10945129]\n",
      " [ 0.         79.65130615]]\n"
     ]
    }
   ],
   "source": [
    "print(TrainFeatureMat[2:4,:])"
   ]
  },
  {
   "cell_type": "code",
   "execution_count": 16,
   "metadata": {},
   "outputs": [
    {
     "name": "stdout",
     "output_type": "stream",
     "text": [
      "['MgZr(SO4)3', 'MgTi(SO4)3', 'MgSn(SO4)3', 'Mg4Nb2(SO4)9', 'ZrZn(SO4)3', 'TiZn(SO4)3', 'Nb2Zn4(SO4)9', 'Ta2Zn4(SO4)9', 'CaZr(SO4)3', 'CaTi(SO4)3', 'CaSn(SO4)3', 'Ca4Nb2(SO4)9', 'Ca4Ta2(SO4)9', 'LaGa(SO4)3', 'YSc(SO4)3', 'ScIn(SO4)3', 'Y2(SO4)3', 'MgZr3P2(SO6)4', 'MgZr3SiS5O24', 'MgTi3P2(SO6)4', 'MgSn3P2(SO6)4', 'Hf3MgP2(SO6)4', 'Mg2Nb2SiS5O24', 'Zr3ZnP2(SO6)4', 'Ti3ZnP2(SO6)4', 'NbZnP(SO6)2', 'Nb2Zn2SiS5O24', 'TaZnP(SO6)2', 'Ta2Zn2SiS5O24', 'CaZr3P2(SO6)4', 'CaZr3SiS5O24', 'CaTi3P2(SO6)4', 'CaTi3SiS5O24', 'CaSn3P2(SO6)4', 'CaHf3P2(SO6)4', 'GaSnP(SO6)2', 'HfGaP(SO6)2', 'Hf2Ga2SiS5O24', 'NbGa3P2(SO6)4', 'TaGa3P2(SO6)4', 'HfAlP(SO6)2', 'Hf2Al2SiS5O24', 'TaAl3P2(SO6)4', 'ZrScP(SO6)2', 'Zr2Sc2SiS5O24', 'ScTiP(SO6)2', 'HfScP(SO6)2', 'Hf2Sc2SiS5O24', 'Sc3NbP2(SO6)4', 'Sc3TaP2(SO6)4', 'Y2Zr2SiS5O24', 'Y2Hf2SiS5O24', 'Zr2In2SiS5O24', 'HfInP(SO6)2', 'NbIn3P2(SO6)4', 'LaZrP(SO6)2', 'LaTiP(SO6)2', 'La2Ti2SiS5O24', 'LaSnP(SO6)2', 'La2SiSn2S5O24', 'La2SiGe2S5O24', 'Mg2Nb4P6(SO12)3', 'Mg2Ta4P6(SO12)3', 'Mg2Ta4Si3(SO6)6', 'Nb4Zn2P6(SO12)3', 'Nb4Zn2Si3(SO6)6', 'Ta4Zn2P6(SO12)3', 'Ca2Nb4P6(SO12)3', 'NbGaP2SO12', 'TaGaP2SO12', 'NbAlP2SO12', 'TaAlP2SO12', 'ScNbP2SO12', 'ScTaP2SO12', 'NbInP2SO12', 'LaNbSi(SO6)2', 'LaTaP2SO12', 'LaTaSi(SO6)2', 'Zr2P2SO12', 'Zr2Si(SO6)2', 'ZrTiSi(SO6)2', 'ZrSnP2SO12', 'ZrGeP2SO12', 'TiSnP2SO12', 'HfTiP2SO12', 'HfTiSi(SO6)2', 'Sn2P2SO12', 'HfSnP2SO12', 'HfSiSn(SO6)2', 'Ge2P2SO12', 'HfGeP2SO12', 'HfSiGe(SO6)2', 'Hf2P2SO12', 'Mg2Nb10Si9(SO8)9', 'MgNb5(PO4)9', 'MgTa5(PO4)9', 'Nb10Zn2Si9(SO8)9', 'Nb5Zn(PO4)9', 'Ta10Zn2Si9(SO8)9', 'Ta5Zn(PO4)9', 'Ca2Nb10Si9(SO8)9', 'CaNb5(PO4)9', 'Ca2Ta10Si9(SO8)9', 'CaTa5(PO4)9', 'Nb3GaSi3(SO8)3', 'Nb3Ga(PO4)6', 'Ta3GaSi3(SO8)3', 'Ta3Ga(PO4)6', 'Nb3AlSi3(SO8)3', 'Nb3Al(PO4)6', 'Ta3AlSi3(SO8)3', 'Ta3Al(PO4)6', 'ScNb3(PO4)6', 'ScTa3Si3(SO8)3', 'YTa3(PO4)6', 'Ta3InSi3(SO8)3', 'Ta3In(PO4)6', 'LaTa3Si3(SO8)3', 'ZrNb(PO4)3', 'ZrTa(PO4)3', 'Ti2Nb2Si3(SO8)3', 'TiNb(PO4)3', 'Ta2Ti2Si3(SO8)3', 'NbSn(PO4)3', 'TaSn(PO4)3', 'Ta2Si3Ge2(SO8)3', 'Hf2Nb2Si3(SO8)3', 'HfNb(PO4)3', 'Hf2Ta2Si3(SO8)3', 'HfTa(PO4)3', 'Nb2Si2SO12', 'TaNbSi2SO12', 'TaNbSi(PO6)2', 'Ta2Si2SO12', 'NaMgGa3(SO4)6', 'NaMgAl3(SO4)6', 'NaMgSc3(SO4)6', 'NaMgIn3(SO4)6', 'NaLa3Mg(SO4)6', 'Na3Mg7.5Zr4.5S18O72', 'Na3Mg7.5Sn4.5S18O72', 'Na3Hf4.5Mg7.5S18O72', 'NaMg3Nb(SO4)6', 'NaMg3Ta(SO4)6', 'NaSc3Zn(SO4)6', 'NaLa3Zn(SO4)6', 'Na3Zr4.5Zn7.5S18O72', 'Na3Ti4.5Zn7.5S18O72', 'Na3Zn7.5Sn4.5S18O72', 'Na3Hf4.5Zn7.5S18O72', 'NaTaZn3(SO4)6', 'NaCaSc3(SO4)6', 'NaCaLa3(SO4)6', 'Na3Ca7.5Zr4.5S18O72', 'NaCa3Nb(SO4)6', 'NaCa3Ta(SO4)6', 'NaMg2Zr2PS5O24', 'Na3Mg6Zr6Si1.5S16.5O72', 'NaMg2Ti2PS5O24', 'Na3Mg6Ti6Si1.5S16.5O72', 'NaMg2Sn2PS5O24', 'Na3Mg6Si1.5Sn6S16.5O72', 'NaHf2Mg2PS5O24', 'Na3Hf6Mg6Si1.5S16.5O72', 'Na3Mg8Nb4P3(S5O24)3', 'Na3Mg8Nb4Si1.5S16.5O72', 'Na3Mg8Ta4P3(S5O24)3', 'Na3Mg8Ta4Si1.5S16.5O72', 'Na3Zr6Zn6Si1.5S16.5O72', 'NaTi2Zn2PS5O24', 'NaZn2Sn2PS5O24', 'Na3Hf6Zn6Si1.5S16.5O72', 'Na3Nb4Zn8P3(S5O24)3', 'Na3Ta4Zn8P3(S5O24)3', 'Na3Ta4Zn8Si1.5S16.5O72', 'NaCa2Zr2PS5O24', 'Na3Ca6Zr6Si1.5S16.5O72', 'NaCa2Hf2PS5O24', 'Na3Ca6Hf6Si1.5S16.5O72', 'NaSc4PS5O24', 'NaY2Sc2PS5O24', 'NaSc2In2PS5O24', 'NaY2In2PS5O24', 'NaLa4PS5O24', 'Na3La12Si1.5S16.5O72', 'Na3Mg3Zr9Si4.5S13.5O72', 'NaMgTi3P3(SO8)3', 'NaMgSn3P3(SO8)3', 'Na3Hf9Mg3Si4.5S13.5O72', 'NaZr3ZnP3(SO8)3', 'Na3Zr9Zn3Si4.5S13.5O72', 'NaTi3ZnP3(SO8)3', 'NaZnSn3P3(SO8)3', 'NaHf3ZnP3(SO8)3', 'Na3Hf9Zn3Si4.5S13.5O72', 'NaCaTi3P3(SO8)3', 'NaCaHf3P3(SO8)3', 'NaTi2Ga2P3(SO8)3', 'NaHf2Ga2P3(SO8)3', 'NaTi2Al2P3(SO8)3', 'NaHf2Al2P3(SO8)3', 'NaZr2Sc2P3(SO8)3', 'NaSc3NbP3(SO8)3', 'NaSc3TaP3(SO8)3', 'NaZr2In2P3(SO8)3', 'NaTi2In2P3(SO8)3', 'NaHf2In2P3(SO8)3', 'NaNbIn3P3(SO8)3', 'NaTaIn3P3(SO8)3', 'NaLa2Hf2P3(SO8)3', 'Na3La6Hf6.0Si4.5S13.5O72', 'Na3La9Nb3.0Si4.5S13.5O72', 'Na3Mg4Nb8P15(SO24)3', 'Na3Mg4Ta8P15(SO24)3', 'Na3Nb8Zn4P15(SO24)3', 'Na3Ta8Zn4P15(SO24)3', 'NaNb2Ga2P5SO24', 'NaTa2Ga2P5SO24', 'NaTa2Al2P5SO24', 'NaSc2Nb2P5SO24', 'NaSc2Ta2P5SO24', 'NaNb2In2P5SO24', 'NaTa2In2P5SO24', 'NaZr4P5SO24', 'NaZr2Ti2P5SO24', 'NaZr2Sn2P5SO24', 'NaHf2Zr2P5SO24', 'Na3Hf6Zr6Si7.5S10.5O72', 'NaTi4P5SO24', 'NaTi2Ge2P5SO24', 'Na3Hf6Ti6Si7.5S10.5O72', 'NaHf2Sn2P5SO24', 'NaHf4P5SO24', 'Na3Hf12Si7.5S10.5O72', 'NaMgNb3(PO4)6', 'NaMgTa3(PO4)6', 'NaCaNb3(PO4)6', 'Na3Nb7.5Ga4.5P18O72', 'Na3Ta7.5Ga4.5P18O72', 'Na3Nb7.5Al4.5P18O72', 'Na3Ta7.5Al4.5P18O72', 'Na3Sc4.5Nb7.5P18O72', 'Na3Sc4.5Ta7.5P18O72', 'Na3Y4.5Ta7.5P18O72', 'Na3Ta7.5In4.5P18O72', 'NaZr3Nb(PO4)6', 'NaZr3Ta(PO4)6', 'NaTi3Nb(PO4)6', 'NaTaTi3(PO4)6', 'NaNbSn3(PO4)6', 'NaTaSn3(PO4)6', 'NaHf3NbSi3(SO8)3', 'NaHf3Nb(PO4)6', 'NaHf3TaSi3(SO8)3', 'NaHf3Ta(PO4)6', 'Na3Mg2Nb10Si3(P5O24)3', 'Na3Mg2Ta10Si3(P5O24)3', 'Na3Ta10Zn2.0Si10.5S7.5O72', 'NaNb3GaSiP5O24', 'NaTa3GaSiP5O24', 'NaNb3AlSiP5O24', 'NaTa3AlSiP5O24', 'NaYNb3SiP5O24', 'NaYTa3SiP5O24', 'NaTa3InSiP5O24', 'NaTa2Ti2SiP5O24', 'NaNb2SiSn2P5O24', 'NaTa2SiSn2P5O24', 'Na3Hf6Nb6Si10.5S7.5O72', 'Na3Hf6Ta6Si10.5S7.5O72', 'NaHf2Ta2SiP5O24', 'NaNb4Si3(PO8)3', 'Na3Ta6Nb6Si13.5S4.5O72', 'NaTa2Nb2Si3(PO8)3', 'Na3Ta12Si13.5S4.5O72', 'NaTa4Si3(PO8)3', 'NaMgGa(SO4)3', 'NaMgAl(SO4)3', 'NaMgSc(SO4)3', 'NaMgIn(SO4)3', 'Na2Mg3Zr(SO4)6', 'Na2Mg3Ti(SO4)6', 'Na2Mg3Sn(SO4)6', 'Na2Mg3Ge(SO4)6', 'Na2HfMg3(SO4)6', 'Na3Mg5Nb(SO4)9', 'Na3Mg5Ta(SO4)9', 'NaZnGa(SO4)3', 'NaScZn(SO4)3', 'NaZnIn(SO4)3', 'Na2ZrZn3(SO4)6', 'Na2Zn3Sn(SO4)6', 'Na2HfZn3(SO4)6', 'Na3NbZn5(SO4)9', 'Na3TaZn5(SO4)9', 'NaCaIn(SO4)3', 'Na2Ca3Zr(SO4)6', 'Na2Ca3Hf(SO4)6', 'Na3Ca5Nb(SO4)9', 'NaMgZrP(SO6)2', 'Na2Mg2Zr2SiS5O24', 'NaMgTiP(SO6)2', 'NaMgSnP(SO6)2', 'NaHfMgP(SO6)2', 'Na2Hf2Mg2SiS5O24', 'Na3Mg4Nb2P3(SO6)6', 'Na3Mg4Ta2P3(SO6)6', 'NaHfZnP(SO6)2', 'Na2Hf2Zn2SiS5O24', 'Na2Ca2Hf2SiS5O24', 'NaAlGaP(SO6)2', 'NaSc2P(SO6)2', 'NaScInP(SO6)2', 'NaYInP(SO6)2', 'NaIn2P(SO6)2', 'Na2MgTi3P4(SO12)2', 'Na2Hf3MgP4(SO12)2', 'Na2Hf3ZnP4(SO12)2', 'Na2Hf3ZnSi2(SO6)4', 'NaTiGaP2SO12', 'NaTiAlP2SO12', 'NaZrScP2SO12', 'NaScTiP2SO12', 'NaScSnP2SO12', 'Na2Sc3NbP4(SO12)2', 'Na2Sc3TaP4(SO12)2', 'NaZrInP2SO12', 'NaHfInP2SO12', 'Na3Mg2Ta4(PO4)9', 'NaTaGa(PO4)3', 'NaNbAl(PO4)3', 'NaTaAl(PO4)3', 'NaScNb(PO4)3', 'NaScTa(PO4)3', 'NaZrTi(PO4)3', 'NaZrSn(PO4)3', 'NaHfZr(PO4)3', 'NaTi2(PO4)3', 'NaTiGe(PO4)3', 'NaHfTi(PO4)3', 'NaSn2(PO4)3', 'NaHfSn(PO4)3', 'Na2Hf4Si3(SO8)3', 'Na3MgNb5Si3(PO6)6', 'Na3MgTa5Si3(PO6)6', 'Na3Ta5ZnSi3(PO6)6', 'Na3CaTa5Si3(PO6)6', 'Na2Nb3GaSi2(PO6)4', 'Na2Ta3GaSi2(PO6)4', 'Na2Ta3AlSi2(PO6)4', 'Na2ScTa3Si2(PO6)4', 'Na2Nb3InSi2(PO6)4', 'Na2Ta3InSi2(PO6)4', 'NaTiNbSi(PO6)2', 'NaNbSiSn(PO6)2', 'NaTaSiSn(PO6)2', 'NaHfNbSi(PO6)2', 'NaHfTaSi(PO6)2', 'NaNb2Si2PO12', 'Na3Mg3Al(SO4)6', 'Na3Mg3Sc(SO4)6', 'Na3YMg3(SO4)6', 'Na3Mg3In(SO4)6', 'Na9Mg10.5Zr1.5S18O72', 'Na9Mg10.5Ti1.5S18O72', 'Na9Mg10.5Ge1.5S18O72', 'Na9Hf1.5Mg10.5S18O72', 'Na9Mg11Nb(SO4)18', 'Na9Mg11Ta(SO4)18', 'Na9Zr1.5Zn10.5S18O72', 'Na9Hf1.5Zn10.5S18O72', 'Na3Mg2Sc2PS5O24', 'Na9Mg6Sc6Si1.5S16.5O72', 'Na3Mg2In2PS5O24', 'Na9Mg9Zr3Si1.5S16.5O72', 'Na3Mg3SnPS5O24', 'Na3HfMg3PS5O24', 'Na9Hf3Mg9Si1.5S16.5O72', 'Na9Mg10Nb2P3(S5O24)3', 'Na3HfZn3PS5O24', 'Na3Ca2Sc2PS5O24', 'Na3Mg2Ti2P3(SO8)3', 'Na9Mg8Nb4P9(SO8)9', 'Na3Sc4P3(SO8)3', 'Na3Sc2In2P3(SO8)3', 'Na3Sc2Ti2P5SO24', 'Na3Sc3TaP5SO24', 'Na3Zr2In2P5SO24', 'Na3Ti2In2P5SO24', 'Na3Hf2In2P5SO24', 'Na9Mg1.5Zr10.5P18O72', 'Na9Mg1.5Ti10.5P18O72', 'Na9Ca1.5Hf10.5P18O72', 'Na9Ta4.5Ga7.5P18O72', 'Na3Ti3Al(PO4)6', 'Na9Nb4.5Al7.5P18O72', 'Na9Ta4.5Al7.5P18O72', 'Na3ScSn3(PO4)6', 'Na3Hf3Sc(PO4)6', 'Na9Sc7.5Nb4.5P18O72', 'Na3Zr2Ti2SiP5O24', 'Na3Zr2SiSn2P5O24', 'Na3Hf2Zr2SiP5O24', 'Na3Hf2Ti2SiP5O24', 'Na3Hf4SiP5O24', 'Na9Ta10Zn2Si9(PO8)9', 'Na9Ca2Nb10Si9(PO8)9', 'Na9Ca2Ta10Si9(PO8)9', 'Na3Ta3GaSi3(PO8)3', 'Na3ScTa3Si3(PO8)3', 'Na3Ta3InSi3(PO8)3', 'Na3Zr2Ta2Si3(PO8)3', 'Na3Ti2Nb2Si3(PO8)3', 'Na3Nb2Si3Sn2(PO8)3', 'Na3Ta2Si3Sn2(PO8)3', 'Na3Ta2Nb2Si5PO24', 'Na3Ta4Si5PO24', 'Na2Mg2(SO4)3', 'Na2Sc2P2SO12', 'Na2ScInP2SO12', 'Na4MgZr3(PO4)6', 'Na4MgSn3(PO4)6', 'Na4Hf3Mg(PO4)6', 'Na2TiAl(PO4)3', 'Na4NbAl3(PO4)6', 'Na2ScSn(PO4)3', 'Na4Sc3Nb(PO4)6', 'Na4Sc3Ta(PO4)6', 'Na2Zr2Si(PO6)2', 'Na2HfZrSi(PO6)2', 'Na2Hf2Si(PO6)2', 'Na2HfTaSi2PO12', 'Na2Ta2(SiO4)3', 'Na5Sc4P5SO24', 'Na5Sc2In2P5SO24', 'Na15Mg4.5Sn7.5P18O72', 'Na5Sc3Sn(PO4)6', 'Na15Sc10.5Nb1.5P18O72', 'Na5Y3Zr(PO4)6', 'Na5MgZr3SiP5O24', 'Na5Hf3MgSiP5O24', 'Na5CaZr3SiP5O24', 'Na5CaHf3SiP5O24', 'Na5Zr2Sc2SiP5O24', 'Na5Hf2Sc2SiP5O24', 'Na5Y2Zr2SiP5O24', 'Na5Hf2Zr2Si3(PO8)3', 'Na5Hf2Si3Sn2(PO8)3', 'Na5Hf4Si3(PO8)3', 'Na5Hf2Nb2Si5PO24', 'Na15Hf6Ta6Si16.5S1.5O72', 'Na5Hf2Ta2Si5PO24', 'Na15Sc1.5Ta10.5Si18O72', 'Na5Ta3Si6SnO24', 'Na5HfTa3(SiO4)6', 'Na3MgZr(PO4)3', 'Na3MgSn(PO4)3', 'Na9Mg4Nb2(PO4)9', 'Na9Mg4Ta2(PO4)9', 'Na3Al2(PO4)3', 'Na3YSc(PO4)3', 'Na6MgZr3Si2(PO6)4', 'Na6Hf3ZnSi2(PO6)4', 'Na6CaZr3Si2(PO6)4', 'Na6CaHf3Si2(PO6)4', 'Na3ZrScSi(PO6)2', 'Na3Zr2Si2PO12', 'Na3HfZrSi2PO12', 'Na3HfTiSi2PO12', 'Na3HfSi2SnPO12', 'Na3TaSi3SnO12', 'Na3HfNb(SiO4)3', 'Na3HfTa(SiO4)3', 'Na7HfMg3P5SO24', 'Na7MgSc3(PO4)6', 'Na21Mg7.5Zr4.5P18O72', 'Na21Mg7.5Sn4.5P18O72', 'Na21Hf4.5Mg7.5P18O72', 'Na7CaSc3(PO4)6', 'Na7Hf2Mg2SiP5O24', 'Na7Hf3MgSi3(PO8)3', 'Na7Y2Hf2Si3(PO8)3', 'Na7Hf2In2Si3(PO8)3', 'Na7Zr4Si5PO24', 'Na21Hf6Zr6Si16.5S1.5O72', 'Na7Hf2Zr2Si5PO24', 'Na7Hf2Ti2Si5PO24', 'Na21Hf6Si16.5Sn6S1.5O72', 'Na7Hf4Si5PO24', 'Na7Hf3Nb(SiO4)6', 'Na7Hf3Ta(SiO4)6', 'Na4MgSc(PO4)3', 'Na8HfMg3(PO4)6', 'Na4Sc2Si(PO6)2', 'Na8Hf3MgSi4(PO12)2', 'Na8CaHf3Si4(PO12)2', 'Na4ZrScSi2PO12', 'Na4HfZr(SiO4)3', 'Na4HfTi(SiO4)3', 'Na4HfSi3SnO12', 'CaGe(SO4)3', 'Ga2(SO4)3', 'YGa(SO4)3', 'InGa(SO4)3', 'Al2(SO4)3', 'ScAl(SO4)3', 'YAl(SO4)3', 'Sc2(SO4)3', 'YIn(SO4)3', 'In2(SO4)3', 'MgSiSn3S5O24', 'MgNbP(SO6)2', 'MgTaP(SO6)2', 'ZnSiSn3S5O24', 'CaGe3P2(SO6)4', 'CaSiGe3S5O24', 'CaNbP(SO6)2', 'Ca2Nb2SiS5O24', 'CaTaP(SO6)2', 'Ca2Ta2SiS5O24', 'ZrGaP(SO6)2', 'Zr2Ga2SiS5O24', 'Ti2Ga2SiS5O24', 'Ga2SiSn2S5O24', 'GaGeP(SO6)2', 'NbGa3SiS5O24', 'TaGa3SiS5O24', 'ZrAlP(SO6)2', 'Ti2Al2SiS5O24', 'AlSnP(SO6)2', 'NbAl3P2(SO6)4', 'NbAl3SiS5O24', 'TaAl3SiS5O24', 'Sc2Ti2SiS5O24', 'Sc2SiSn2S5O24', 'ScGeP(SO6)2', 'Sc2SiGe2S5O24', 'Sc3NbSiS5O24', 'Sc3TaSiS5O24', 'YZrP(SO6)2', 'YTiP(SO6)2', 'Y2Ti2SiS5O24', 'Y2SiSn2S5O24', 'Y2SiGe2S5O24', 'Y3NbP2(SO6)4', 'Y3TaP2(SO6)4', 'Y3TaSiS5O24', 'ZrInP(SO6)2', 'InSnP(SO6)2', 'In2SiSn2S5O24', 'InGeP(SO6)2', 'NbIn3SiS5O24', 'TaIn3SiS5O24', 'Ca2Nb4Si3(SO6)6', 'Ca2Ta4P6(SO12)3', 'Ca2Ta4Si3(SO6)6', 'TaGaSi(SO6)2', 'NbAlSi(SO6)2', 'ScNbSi(SO6)2', 'ScTaSi(SO6)2', 'YTaSi(SO6)2', 'NbInSi(SO6)2', 'TaInP2SO12', 'TaInSi(SO6)2', 'ZrSiSn(SO6)2', 'ZrSiGe(SO6)2', 'Ti2Si(SO6)2', 'TiSiSn(SO6)2', 'TiSiGe(SO6)2', 'SiSn2(SO6)2', 'SnGeP2SO12', 'SiSnGe(SO6)2', 'ScNb3Si3(SO8)3', 'YNb3Si3(SO8)3', 'YTa3Si3(SO8)3', 'LaNb3(PO4)6', 'LaTa3(PO4)6', 'Zr2Nb2Si3(SO8)3', 'Zr2Ta2Si3(SO8)3', 'Nb2Si3Sn2(SO8)3', 'Ta2Si3Sn2(SO8)3', 'Nb2Si(PO6)2', 'Ta2Si(PO6)2', 'Na3Mg7.5Ge4.5S18O72', 'NaZnGa3(SO4)6', 'NaAl3Zn(SO4)6', 'NaY3Zn(SO4)6', 'NaZnIn3(SO4)6', 'Na3Zn7.5Ge4.5S18O72', 'NaCaGa3(SO4)6', 'NaCaAl3(SO4)6', 'NaCaY3(SO4)6', 'NaCaIn3(SO4)6', 'Na3Ca7.5Ge4.5S18O72', 'NaMg2Ge2PS5O24', 'Na3Mg6Si1.5Ge6S16.5O72', 'Na3Zn6Si1.5Sn6S16.5O72', 'Na3Zn6Si1.5Ge6S16.5O72', 'NaCa2Ti2PS5O24', 'Na3Ca6Ti6Si1.5S16.5O72', 'NaCa2Sn2PS5O24', 'Na3Ca6Si1.5Sn6S16.5O72', 'Na3Ca8Nb4P3(S5O24)3', 'Na3Ca8Nb4Si1.5S16.5O72', 'Na3Ca8Ta4Si1.5S16.5O72', 'NaGa4PS5O24', 'Na3Ga12Si1.5S16.5O72', 'NaAl2Ga2PS5O24', 'Na3Al6Ga6Si1.5S16.5O72', 'NaSc2Ga2PS5O24', 'Na3Sc6Ga6Si1.5S16.5O72', 'NaY2Ga2PS5O24', 'Na3Y6Ga6Si1.5S16.5O72', 'NaIn2Ga2PS5O24', 'NaLa2Ga2PS5O24', 'Na3La6Ga6Si1.5S16.5O72', 'NaAl4PS5O24', 'Na3Al12Si1.5S16.5O72', 'NaSc2Al2PS5O24', 'Na3Sc6Al6Si1.5S16.5O72', 'Na3Y6Al6Si1.5S16.5O72', 'NaAl2In2PS5O24', 'Na3Al6In6Si1.5S16.5O72', 'NaLa2Al2PS5O24', 'Na3La6Al6Si1.5S16.5O72', 'Na3Sc12Si1.5S16.5O72', 'Na3Sc6In6Si1.5S16.5O72', 'Na3Y12Si1.5S16.5O72', 'Na3Y6In6Si1.5S16.5O72', 'NaLa2Y2PS5O24', 'Na3La6Y6Si1.5S16.5O72', 'NaIn4PS5O24', 'Na3In12Si1.5S16.5O72', 'NaLa2In2PS5O24', 'Na3La6In6Si1.5S16.5O72', 'Na3Mg3Ti9Si4.5S13.5O72', 'Na3Mg6Nb6Si4.5S13.5O72', 'Na3Mg6Ta6Si4.5S13.5O72', 'Na3Ti9Zn3Si4.5S13.5O72', 'Na3Zn3Si4.5Sn9S13.5O72', 'Na3Zn3Si4.5Ge9S13.5O72', 'NaNb2Zn2P3(SO8)3', 'Na3Nb6Zn6Si4.5S13.5O72', 'NaTa2Zn2P3(SO8)3', 'Na3Ta6Zn6Si4.5S13.5O72', 'NaCaZr3P3(SO8)3', 'Na3Ca3Ti9Si4.5S13.5O72', 'NaCaSn3P3(SO8)3', 'Na3Ca3Si4.5Sn9S13.5O72', 'Na3Ca3Si4.5Ge9S13.5O72', 'NaCa2Nb2P3(SO8)3', 'Na3Ca6Nb6Si4.5S13.5O72', 'NaCa2Ta2P3(SO8)3', 'Na3Ca6Ta6Si4.5S13.5O72', 'NaZr2Ga2P3(SO8)3', 'Na3Zr6.0Ga6Si4.5S13.5O72', 'Na3Ti6.0Ga6Si4.5S13.5O72', 'NaGa2Sn2P3(SO8)3', 'Na3Ga6Si4.5Sn6.0S13.5O72', 'NaGa2Ge2P3(SO8)3', 'Na3Ga6Si4.5Ge6.0S13.5O72', 'NaNbGa3P3(SO8)3', 'Na3Nb3.0Ga9Si4.5S13.5O72', 'Na3Ta3.0Ga9Si4.5S13.5O72', 'NaZr2Al2P3(SO8)3', 'Na3Zr6.0Al6Si4.5S13.5O72', 'Na3Ti6.0Al6Si4.5S13.5O72', 'NaAl2Sn2P3(SO8)3', 'NaAl2Ge2P3(SO8)3', 'Na3Al6Si4.5Ge6.0S13.5O72', 'NaNbAl3P3(SO8)3', 'Na3Nb3.0Al9Si4.5S13.5O72', 'NaTaAl3P3(SO8)3', 'Na3Ta3.0Al9Si4.5S13.5O72', 'NaSc2Ti2P3(SO8)3', 'Na3Sc6Ti6.0Si4.5S13.5O72', 'NaSc2Sn2P3(SO8)3', 'Na3Sc6Si4.5Sn6.0S13.5O72', 'NaSc2Ge2P3(SO8)3', 'NaHf2Sc2P3(SO8)3', 'Na3Hf6.0Sc6Si4.5S13.5O72', 'Na3Sc9Nb3.0Si4.5S13.5O72', 'Na3Sc9Ta3.0Si4.5S13.5O72', 'Na3Y6Zr6.0Si4.5S13.5O72', 'NaY2Ti2P3(SO8)3', 'Na3Y6Ti6.0Si4.5S13.5O72', 'NaY2Sn2P3(SO8)3', 'Na3Y6Si4.5Sn6.0S13.5O72', 'NaY2Ge2P3(SO8)3', 'Na3Y6Si4.5Ge6.0S13.5O72', 'NaY2Hf2P3(SO8)3', 'Na3Y6Hf6.0Si4.5S13.5O72', 'Na3Y9Nb3.0Si4.5S13.5O72', 'NaY3TaP3(SO8)3', 'Na3Y9Ta3.0Si4.5S13.5O72', 'Na3Zr6.0In6Si4.5S13.5O72', 'Na3Ti6.0In6Si4.5S13.5O72', 'Na3In6Si4.5Ge6.0S13.5O72', 'Na3Hf6.0In6Si4.5S13.5O72', 'Na3Nb3.0In9Si4.5S13.5O72', 'Na3Ta3.0In9Si4.5S13.5O72', 'NaLa2Zr2P3(SO8)3', 'Na3La6Zr6.0Si4.5S13.5O72', 'NaLa2Sn2P3(SO8)3', 'NaLa2Ge2P3(SO8)3', 'Na3La6Si4.5Ge6.0S13.5O72', 'NaLa3NbP3(SO8)3', 'Na3Mg4Nb8Si7.5S10.5O72', 'Na3Mg4Ta8Si7.5S10.5O72', 'Na3Nb8Zn4Si7.5S10.5O72', 'Na3Ta8Zn4Si7.5S10.5O72', 'Na3Ca4Nb8P15(SO24)3', 'Na3Ca4Nb8Si7.5S10.5O72', 'Na3Ca4Ta8P15(SO24)3', 'Na3Nb6Ga6Si7.5S10.5O72', 'Na3Ta6Ga6Si7.5S10.5O72', 'Na3Nb6Al6Si7.5S10.5O72', 'Na3Ta6Al6Si7.5S10.5O72', 'Na3Sc6Nb6Si7.5S10.5O72', 'Na3Sc6Ta6Si7.5S10.5O72', 'Na3Y6Nb6Si7.5S10.5O72', 'NaY2Ta2P5SO24', 'Na3Y6Ta6Si7.5S10.5O72', 'Na3Nb6In6Si7.5S10.5O72', 'Na3Ta6In6Si7.5S10.5O72', 'Na3La6Nb6Si7.5S10.5O72', 'NaLa2Ta2P5SO24', 'Na3La6Ta6Si7.5S10.5O72', 'Na3Zr12Si7.5S10.5O72', 'Na3Zr6Si7.5Sn6S10.5O72', 'NaZr2Ge2P5SO24', 'Na3Zr6Si7.5Ge6S10.5O72', 'Na3Ti12Si7.5S10.5O72', 'Na3Ti6Si7.5Sn6S10.5O72', 'Na3Ti6Si7.5Ge6S10.5O72', 'Na3Si7.5Sn12S10.5O72', 'NaSn2Ge2P5SO24', 'Na3Hf6Si7.5Sn6S10.5O72', 'NaGe4P5SO24', 'Na3Si7.5Ge12S10.5O72', 'Na3Hf6Si7.5Ge6S10.5O72', 'NaMgNb3Si3(SO8)3', 'NaMgTa3Si3(SO8)3', 'NaNb3ZnSi3(SO8)3', 'NaNb3Zn(PO4)6', 'NaTa3ZnSi3(SO8)3', 'NaTa3Zn(PO4)6', 'NaCaNb3Si3(SO8)3', 'NaCaTa3Si3(SO8)3', 'NaCaTa3(PO4)6', 'Na3Nb7.5Ga4.5Si9S9O72', 'Na3Ta7.5Ga4.5Si9S9O72', 'Na3Nb7.5Al4.5Si9S9O72', 'Na3Sc4.5Nb7.5Si9S9O72', 'Na3Sc4.5Ta7.5Si9S9O72', 'Na3Y4.5Nb7.5Si9S9O72', 'Na3Y4.5Ta7.5Si9S9O72', 'Na3Ta7.5In4.5Si9S9O72', 'Na3La4.5Nb7.5Si9S9O72', 'Na3La4.5Nb7.5P18O72', 'Na3La4.5Ta7.5Si9S9O72', 'Na3La4.5Ta7.5P18O72', 'NaZr3TaSi3(SO8)3', 'NaTi3NbSi3(SO8)3', 'NaTaTi3Si3(SO8)3', 'NaNbSi3Sn3(SO8)3', 'NaNbSi3Ge3(SO8)3', 'NaNbGe3(PO4)6', 'NaTaSi3Ge3(SO8)3', 'NaTaGe3(PO4)6', 'Na3Mg2.0Nb10Si10.5S7.5O72', 'Na3Mg2.0Ta10Si10.5S7.5O72', 'Na3Nb10Zn2.0Si10.5S7.5O72', 'Na3Nb10Zn2Si3(P5O24)3', 'Na3Ta10Zn2Si3(P5O24)3', 'Na3Ca2Nb10Si3(P5O24)3', 'Na3Ca2.0Ta10Si10.5S7.5O72', 'Na3Nb9Ga3.0Si10.5S7.5O72', 'Na3Nb9Al3.0Si10.5S7.5O72', 'Na3Ta9Al3.0Si10.5S7.5O72', 'Na3Sc3.0Nb9Si10.5S7.5O72', 'Na3Sc3.0Ta9Si10.5S7.5O72', 'Na3Y3.0Nb9Si10.5S7.5O72', 'Na3Nb9In3.0Si10.5S7.5O72', 'Na3Ta9In3.0Si10.5S7.5O72', 'NaLaNb3SiP5O24', 'Na3La3.0Ta9Si10.5S7.5O72', 'NaLaTa3SiP5O24', 'Na3Zr6Nb6Si10.5S7.5O72', 'NaZr2Nb2SiP5O24', 'Na3Zr6Ta6Si10.5S7.5O72', 'NaZr2Ta2SiP5O24', 'Na3Ti6Nb6Si10.5S7.5O72', 'NaTi2Nb2SiP5O24', 'Na3Ta6Ti6Si10.5S7.5O72', 'Na3Nb6Si10.5Sn6S7.5O72', 'Na3Ta6Si10.5Sn6S7.5O72', 'Na3Nb6Si10.5Ge6S7.5O72', 'NaTa2SiGe2P5O24', 'Na3Nb12Si13.5S4.5O72', 'NaLaMg(SO4)3', 'NaAlZn(SO4)3', 'NaYZn(SO4)3', 'NaLaZn(SO4)3', 'Na2Zn3Ge(SO4)6', 'NaCaGa(SO4)3', 'NaCaAl(SO4)3', 'NaCaSc(SO4)3', 'NaCaY(SO4)3', 'NaCaLa(SO4)3', 'Na2Ca3Sn(SO4)6', 'Na2Ca3Ge(SO4)6', 'Na2Mg2SiGe2S5O24', 'Na6Mg8Nb4Si3(S5O24)3', 'Na6Mg8Ta4Si3(S5O24)3', 'Na2Zr2Zn2SiS5O24', 'NaTiZnP(SO6)2', 'Na2Ti2Zn2SiS5O24', 'Na2Zn2SiSn2S5O24', 'NaZnGeP(SO6)2', 'Na3Nb2Zn4P3(SO6)6', 'Na6Nb4Zn8Si3(S5O24)3', 'Na3Ta2Zn4P3(SO6)6', 'Na6Ta4Zn8Si3(S5O24)3', 'NaCaZrP(SO6)2', 'Na2Ca2Zr2SiS5O24', 'NaCaTiP(SO6)2', 'NaCaSnP(SO6)2', 'Na2Ca2SiSn2S5O24', 'NaCaGeP(SO6)2', 'Na2Ca2SiGe2S5O24', 'Na3Ca4Nb2P3(SO6)6', 'Na6Ca8Nb4Si3(S5O24)3', 'Na6Ca8Ta4Si3(S5O24)3', 'Na2Ga4SiS5O24', 'Na2Al2Ga2SiS5O24', 'NaScGaP(SO6)2', 'Na2Sc2Ga2SiS5O24', 'NaYGaP(SO6)2', 'Na2Y2Ga2SiS5O24', 'NaInGaP(SO6)2', 'Na2In2Ga2SiS5O24', 'NaLaGaP(SO6)2', 'Na2La2Ga2SiS5O24', 'NaAl2P(SO6)2', 'Na2Al4SiS5O24', 'NaScAlP(SO6)2', 'NaYAlP(SO6)2', 'Na2Y2Al2SiS5O24', 'Na2Al2In2SiS5O24', 'NaLaAlP(SO6)2', 'Na2La2Al2SiS5O24', 'Na2Y2Sc2SiS5O24', 'Na2Sc2In2SiS5O24', 'NaLaScP(SO6)2', 'Na2La2Sc2SiS5O24', 'NaY2P(SO6)2', 'Na2Y4SiS5O24', 'Na2Y2In2SiS5O24', 'NaLaYP(SO6)2', 'Na2La2Y2SiS5O24', 'Na2In4SiS5O24', 'NaLaInP(SO6)2', 'Na2La2In2SiS5O24', 'NaLa2P(SO6)2', 'Na2MgZr3Si2(SO6)4', 'Na2MgTi3Si2(SO6)4', 'Na2MgSn3P4(SO12)2', 'Na2MgGe3P4(SO12)2', 'NaMgNbP2SO12', 'NaMgNbSi(SO6)2', 'NaMgTaP2SO12', 'NaMgTaSi(SO6)2', 'Na2Zr3ZnP4(SO12)2', 'Na2Zr3ZnSi2(SO6)4', 'Na2ZnSi2Sn3(SO6)4', 'Na2ZnGe3P4(SO12)2', 'Na2ZnSi2Ge3(SO6)4', 'NaNbZnP2SO12', 'NaNbZnSi(SO6)2', 'NaTaZnP2SO12', 'NaTaZnSi(SO6)2', 'Na2CaZr3P4(SO12)2', 'Na2CaZr3Si2(SO6)4', 'Na2CaTi3P4(SO12)2', 'Na2CaTi3Si2(SO6)4', 'Na2CaSi2Sn3(SO6)4', 'Na2CaGe3P4(SO12)2', 'Na2CaSi2Ge3(SO6)4', 'Na2CaHf3P4(SO12)2', 'Na2CaHf3Si2(SO6)4', 'NaCaNbP2SO12', 'NaCaTaP2SO12', 'NaCaTaSi(SO6)2', 'NaZrGaP2SO12', 'NaZrGaSi(SO6)2', 'NaTiGaSi(SO6)2', 'NaGaSnP2SO12', 'NaGaSiSn(SO6)2', 'NaGaGeP2SO12', 'NaGaSiGe(SO6)2', 'NaHfGaP2SO12', 'Na2NbGa3P4(SO12)2', 'Na2NbGa3Si2(SO6)4', 'Na2TaGa3P4(SO12)2', 'NaZrAlP2SO12', 'NaZrAlSi(SO6)2', 'NaTiAlSi(SO6)2', 'NaAlSnP2SO12', 'NaAlSiSn(SO6)2', 'NaAlGeP2SO12', 'NaAlSiGe(SO6)2', 'NaHfAlP2SO12', 'Na2NbAl3P4(SO12)2', 'Na2NbAl3Si2(SO6)4', 'Na2TaAl3P4(SO12)2', 'Na2TaAl3Si2(SO6)4', 'NaZrScSi(SO6)2', 'NaScSiSn(SO6)2', 'NaScGeP2SO12', 'NaScSiGe(SO6)2', 'NaHfScSi(SO6)2', 'NaYZrP2SO12', 'NaYZrSi(SO6)2', 'NaYTiP2SO12', 'NaYTiSi(SO6)2', 'NaYSnP2SO12', 'NaYSiSn(SO6)2', 'NaYGeP2SO12', 'NaYSiGe(SO6)2', 'NaYHfSi(SO6)2', 'Na2Y3NbP4(SO12)2', 'Na2Y3TaP4(SO12)2', 'Na2Y3TaSi2(SO6)4', 'NaZrInSi(SO6)2', 'NaTiInSi(SO6)2', 'NaInSiSn(SO6)2', 'NaInGeP2SO12', 'NaHfInSi(SO6)2', 'Na2NbIn3Si2(SO6)4', 'Na2TaIn3Si2(SO6)4', 'NaLaZrP2SO12', 'NaLaZrSi(SO6)2', 'NaLaTiP2SO12', 'NaLaTiSi(SO6)2', 'NaLaSnP2SO12', 'NaLaSiSn(SO6)2', 'NaLaGeP2SO12', 'NaLaSiGe(SO6)2', 'NaLaHfP2SO12', 'NaLaHfSi(SO6)2', 'Na2La3NbP4(SO12)2', 'Na2La3NbSi2(SO6)4', 'Na2La3TaP4(SO12)2', 'Na2La3TaSi2(SO6)4', 'Na6Mg4Nb8Si9(SO8)9', 'Na6Mg4Ta8Si9(SO8)9', 'Na3Nb4Zn2(PO4)9', 'Na6Ta8Zn4Si9(SO8)9', 'Na3Ta4Zn2(PO4)9', 'Na6Ca4Nb8Si9(SO8)9', 'Na2Nb2Ga2Si3(SO8)3', 'Na2Ta2Ga2Si3(SO8)3', 'Na2Nb2Al2Si3(SO8)3', 'Na2Ta2Al2Si3(SO8)3', 'Na2Sc2Nb2Si3(SO8)3', 'Na2Sc2Ta2Si3(SO8)3', 'Na2Y2Nb2Si3(SO8)3', 'NaYNb(PO4)3', 'Na2Y2Ta2Si3(SO8)3', 'Na2Nb2In2Si3(SO8)3', 'NaNbIn(PO4)3', 'Na2Ta2In2Si3(SO8)3', 'NaLaNb(PO4)3', 'Na2La2Ta2Si3(SO8)3', 'NaLaTa(PO4)3', 'Na2Zr4Si3(SO8)3', 'Na2Zr2Ti2Si3(SO8)3', 'Na2Zr2Si3Sn2(SO8)3', 'NaZrGe(PO4)3', 'Na2Ti4Si3(SO8)3', 'Na2Ti2Si3Sn2(SO8)3', 'Na2Si3Sn4(SO8)3', 'Na2Si3Sn2Ge2(SO8)3', 'Na2Hf2Si3Sn2(SO8)3', 'Na2Si3Ge4(SO8)3', 'NaGe2(PO4)3', 'Na2Hf2Si3Ge2(SO8)3', 'NaHfGe(PO4)3', 'Na3MgNb5Si6(SO12)3', 'Na3MgTa5Si6(SO12)3', 'Na3Nb5ZnSi6(SO12)3', 'Na3Nb5ZnSi3(PO6)6', 'Na3Ta5ZnSi6(SO12)3', 'Na3CaTa5Si6(SO12)3', 'Na2Nb3AlSi4(SO12)2', 'Na2Ta3AlSi4(SO12)2', 'Na2ScNb3Si4(SO12)2', 'Na2ScTa3Si4(SO12)2', 'Na2YTa3Si2(PO6)4', 'Na2Ta3InSi4(SO12)2', 'Na2LaNb3Si4(SO12)2', 'Na2LaNb3Si2(PO6)4', 'Na2LaTa3Si4(SO12)2', 'Na2LaTa3Si2(PO6)4', 'NaZrNbSi(PO6)2', 'NaZrTaSi2SO12', 'NaZrTaSi(PO6)2', 'NaTaTiSi2SO12', 'NaTaSi2SnSO12', 'NaNbSi2GeSO12', 'NaNbSiGe(PO6)2', 'NaTaSi2GeSO12', 'NaTaSiGe(PO6)2', 'NaHfNbSi2SO12', 'NaHfTaSi2SO12', 'Na2Ta2Nb2Si5SO24', 'Na2Ta4Si5SO24', 'Na3LaMg3(SO4)6', 'Na3Zn3Ga(SO4)6', 'Na3AlZn3(SO4)6', 'Na3ScZn3(SO4)6', 'Na3YZn3(SO4)6', 'Na3Zn3In(SO4)6', 'Na3LaZn3(SO4)6', 'Na9Ti1.5Zn10.5S18O72', 'Na9Zn10.5Sn1.5S18O72', 'Na9Zn10.5Ge1.5S18O72', 'Na9NbZn11(SO4)18', 'Na9TaZn11(SO4)18', 'Na3Ca3Ga(SO4)6', 'Na3Ca3Al(SO4)6', 'Na3Ca3Y(SO4)6', 'Na3Ca3La(SO4)6', 'Na9Ca10.5Zr1.5S18O72', 'Na9Ca10.5Sn1.5S18O72', 'Na9Ca10.5Hf1.5S18O72', 'Na9Ca11Nb(SO4)18', 'Na9Ca11Ta(SO4)18', 'Na3Mg2Ga2PS5O24', 'Na9Mg6Ga6Si1.5S16.5O72', 'Na3Mg2Al2PS5O24', 'Na9Mg6Al6Si1.5S16.5O72', 'Na3Y2Mg2PS5O24', 'Na3La2Mg2PS5O24', 'Na9La6Mg6Si1.5S16.5O72', 'Na9Mg9Si1.5Sn3S16.5O72', 'Na9Mg9Si1.5Ge3S16.5O72', 'Na9Zn6Ga6Si1.5S16.5O72', 'Na3Al2Zn2PS5O24', 'Na9Al6Zn6Si1.5S16.5O72', 'Na3Sc2Zn2PS5O24', 'Na9Sc6Zn6Si1.5S16.5O72', 'Na3Y2Zn2PS5O24', 'Na9Y6Zn6Si1.5S16.5O72', 'Na3Zn2In2PS5O24', 'Na3La2Zn2PS5O24', 'Na9Zr3Zn9Si1.5S16.5O72', 'Na3TiZn3PS5O24', 'Na9Ti3Zn9Si1.5S16.5O72', 'Na3Zn3SnPS5O24', 'Na9Zn9Si1.5Sn3S16.5O72', 'Na3Zn3GePS5O24', 'Na9Zn9Si1.5Ge3S16.5O72', 'Na9Hf3Zn9Si1.5S16.5O72', 'Na9Nb2Zn10P3(S5O24)3', 'Na9Nb2Zn10Si1.5S16.5O72', 'Na9Ta2Zn10P3(S5O24)3', 'Na9Ta2Zn10Si1.5S16.5O72', 'Na3Ca2Ga2PS5O24', 'Na9Ca6Ga6Si1.5S16.5O72', 'Na3Ca2Al2PS5O24', 'Na9Ca6Al6Si1.5S16.5O72', 'Na9Ca6Sc6Si1.5S16.5O72', 'Na3Ca2Y2PS5O24', 'Na9Ca6Y6Si1.5S16.5O72', 'Na3Ca2In2PS5O24', 'Na9Ca6In6Si1.5S16.5O72', 'Na9Ca6La6Si1.5S16.5O72', 'Na3Ca3ZrPS5O24', 'Na3Ca3TiPS5O24', 'Na3Ca3SnPS5O24', 'Na3Ca3GePS5O24', 'Na9Ca9Si1.5Ge3S16.5O72', 'Na9Ca9Hf3Si1.5S16.5O72', 'Na9Ca10Nb2P3(S5O24)3', 'Na9Ca10Nb2Si1.5S16.5O72', 'Na9Ca10Ta2P3(S5O24)3', 'Na9Ca10Ta2Si1.5S16.5O72', 'Na3Mg2Zr2P3(SO8)3', 'Na9Mg6Zr6Si4.5S13.5O72', 'Na9Mg6Ti6Si4.5S13.5O72', 'Na9Mg6Si4.5Sn6S13.5O72', 'Na3Mg2Ge2P3(SO8)3', 'Na9Mg6Si4.5Ge6S13.5O72', 'Na3Hf2Mg2P3(SO8)3', 'Na9Mg8Ta4Si4.5S13.5O72', 'Na9Zr6Zn6Si4.5S13.5O72', 'Na9Ti6Zn6Si4.5S13.5O72', 'Na3Zn2Sn2P3(SO8)3', 'Na9Zn6Si4.5Sn6S13.5O72', 'Na3Zn2Ge2P3(SO8)3', 'Na9Zn6Si4.5Ge6S13.5O72', 'Na3Hf2Zn2P3(SO8)3', 'Na9Hf6Zn6Si4.5S13.5O72', 'Na9Nb4Zn8P9(SO8)9', 'Na9Nb4Zn8Si4.5S13.5O72', 'Na9Ta4Zn8P9(SO8)9', 'Na9Ta4Zn8Si4.5S13.5O72', 'Na3Ca2Zr2P3(SO8)3', 'Na9Ca6Zr6Si4.5S13.5O72', 'Na3Ca2Ti2P3(SO8)3', 'Na9Ca6Ti6Si4.5S13.5O72', 'Na3Ca2Sn2P3(SO8)3', 'Na9Ca6Si4.5Sn6S13.5O72', 'Na3Ca2Ge2P3(SO8)3', 'Na9Ca6Si4.5Ge6S13.5O72', 'Na3Ca2Hf2P3(SO8)3', 'Na9Ca8Nb4P9(SO8)9', 'Na9Ca8Ta4P9(SO8)9', 'Na9Ca8Ta4Si4.5S13.5O72', 'Na9Ga12Si4.5S13.5O72', 'Na3Al2Ga2P3(SO8)3', 'Na9Al6Ga6Si4.5S13.5O72', 'Na3Sc2Ga2P3(SO8)3', 'Na9Sc6Ga6Si4.5S13.5O72', 'Na3Y2Ga2P3(SO8)3', 'Na9Y6Ga6Si4.5S13.5O72', 'Na9In6Ga6Si4.5S13.5O72', 'Na3La2Ga2P3(SO8)3', 'Na9La6Ga6Si4.5S13.5O72', 'Na3Al4P3(SO8)3', 'Na3Sc2Al2P3(SO8)3', 'Na9Sc6Al6Si4.5S13.5O72', 'Na3Y2Al2P3(SO8)3', 'Na9Y6Al6Si4.5S13.5O72', 'Na3Al2In2P3(SO8)3', 'Na9Al6In6Si4.5S13.5O72', 'Na9La6Al6Si4.5S13.5O72', 'Na9Sc12Si4.5S13.5O72', 'Na9Y6Sc6Si4.5S13.5O72', 'Na9Sc6In6Si4.5S13.5O72', 'Na3La2Sc2P3(SO8)3', 'Na9La6Sc6Si4.5S13.5O72', 'Na3Y4P3(SO8)3', 'Na3Y2In2P3(SO8)3', 'Na9Y6In6Si4.5S13.5O72', 'Na3La2Y2P3(SO8)3', 'Na9La6Y6Si4.5S13.5O72', 'Na9In12Si4.5S13.5O72', 'Na9La6In6Si4.5S13.5O72', 'Na3La4P3(SO8)3', 'Na9La12Si4.5S13.5O72', 'Na3MgZr3P5SO24', 'Na9Mg3Zr9Si7.5S10.5O72', 'Na3MgTi3P5SO24', 'Na9Mg3Ti9Si7.5S10.5O72', 'Na3MgSn3P5SO24', 'Na9Mg3Si7.5Sn9S10.5O72', 'Na3MgGe3P5SO24', 'Na9Mg3Si7.5Ge9S10.5O72', 'Na3Hf3MgP5SO24', 'Na3Mg2Nb2P5SO24', 'Na3Mg2Ta2P5SO24', 'Na9Mg6Ta6Si7.5S10.5O72', 'Na3Zr3ZnP5SO24', 'Na9Zr9Zn3Si7.5S10.5O72', 'Na3Ti3ZnP5SO24', 'Na3ZnSn3P5SO24', 'Na9Zn3Si7.5Sn9S10.5O72', 'Na9Zn3Si7.5Ge9S10.5O72', 'Na3Hf3ZnP5SO24', 'Na9Hf9Zn3Si7.5S10.5O72', 'Na3Nb2Zn2P5SO24', 'Na9Nb6Zn6Si7.5S10.5O72', 'Na3Ta2Zn2P5SO24', 'Na9Ta6Zn6Si7.5S10.5O72', 'Na9Ca3Zr9Si7.5S10.5O72', 'Na9Ca3Ti9Si7.5S10.5O72', 'Na3CaSn3P5SO24', 'Na9Ca3Si7.5Sn9S10.5O72', 'Na9Ca3Si7.5Ge9S10.5O72', 'Na3CaHf3P5SO24', 'Na9Ca3Hf9Si7.5S10.5O72', 'Na3Ca2Nb2P5SO24', 'Na3Ca2Ta2P5SO24', 'Na9Ca6Ta6Si7.5S10.5O72', 'Na3Zr2Ga2P5SO24', 'Na9Zr6.0Ga6Si7.5S10.5O72', 'Na3Ti2Ga2P5SO24', 'Na9Ti6.0Ga6Si7.5S10.5O72', 'Na3Ga2Sn2P5SO24', 'Na9Ga6Si7.5Sn6.0S10.5O72', 'Na3Ga2Ge2P5SO24', 'Na9Hf6.0Ga6Si7.5S10.5O72', 'Na3NbGa3P5SO24', 'Na9Nb3.0Ga9Si7.5S10.5O72', 'Na3TaGa3P5SO24', 'Na9Ta3.0Ga9Si7.5S10.5O72', 'Na3Zr2Al2P5SO24', 'Na9Zr6.0Al6Si7.5S10.5O72', 'Na3Ti2Al2P5SO24', 'Na9Ti6.0Al6Si7.5S10.5O72', 'Na3Al2Ge2P5SO24', 'Na9Al6Si7.5Ge6.0S10.5O72', 'Na3Hf2Al2P5SO24', 'Na3NbAl3P5SO24', 'Na9Nb3.0Al9Si7.5S10.5O72', 'Na3TaAl3P5SO24', 'Na9Ta3.0Al9Si7.5S10.5O72', 'Na9Zr6.0Sc6Si7.5S10.5O72', 'Na9Sc6Ti6.0Si7.5S10.5O72', 'Na9Sc6Si7.5Sn6.0S10.5O72', 'Na3Sc2Ge2P5SO24', 'Na9Sc6Si7.5Ge6.0S10.5O72', 'Na9Hf6.0Sc6Si7.5S10.5O72', 'Na9Sc9Nb3.0Si7.5S10.5O72', 'Na9Sc9Ta3.0Si7.5S10.5O72', 'Na9Y6Zr6.0Si7.5S10.5O72', 'Na9Y6Ti6.0Si7.5S10.5O72', 'Na3Y2Sn2P5SO24', 'Na9Y6Si7.5Sn6.0S10.5O72', 'Na9Y6Si7.5Ge6.0S10.5O72', 'Na3Y2Hf2P5SO24', 'Na9Y9Nb3.0Si7.5S10.5O72', 'Na3Y3TaP5SO24', 'Na9Y9Ta3.0Si7.5S10.5O72', 'Na9Zr6.0In6Si7.5S10.5O72', 'Na9Ti6.0In6Si7.5S10.5O72', 'Na3In2Sn2P5SO24', 'Na3In2Ge2P5SO24', 'Na9Hf6.0In6Si7.5S10.5O72', 'Na3NbIn3P5SO24', 'Na9Nb3.0In9Si7.5S10.5O72', 'Na3La2Zr2P5SO24', 'Na9La6Zr6.0Si7.5S10.5O72', 'Na3La2Ti2P5SO24', 'Na9La6Ti6.0Si7.5S10.5O72', 'Na3La2Sn2P5SO24', 'Na9La6Si7.5Sn6.0S10.5O72', 'Na3La2Ge2P5SO24', 'Na3La2Hf2P5SO24', 'Na9La6Hf6.0Si7.5S10.5O72', 'Na3La3NbP5SO24', 'Na3La3TaP5SO24', 'Na9Mg1.5Si9Sn10.5S9O72', 'Na9Mg1.5Sn10.5P18O72', 'Na9Mg1.5Ge10.5P18O72', 'Na9Hf10.5Mg1.5Si9S9O72', 'Na9Mg5Nb7Si9(SO8)9', 'Na9Mg5Nb7(PO4)18', 'Na9Mg5Ta7(PO4)18', 'Na9Zr10.5Zn1.5Si9S9O72', 'Na9Zr10.5Zn1.5P18O72', 'Na9Ti10.5Zn1.5Si9S9O72', 'Na9Ti10.5Zn1.5P18O72', 'Na9Zn1.5Si9Ge10.5S9O72', 'Na9Zn1.5Ge10.5P18O72', 'Na9Hf10.5Zn1.5Si9S9O72', 'Na9Hf10.5Zn1.5P18O72', 'Na9Nb7Zn5Si9(SO8)9', 'Na9Nb7Zn5(PO4)18', 'Na9Ta7Zn5(PO4)18', 'Na9Ca1.5Zr10.5Si9S9O72', 'Na9Ca1.5Zr10.5P18O72', 'Na9Ca1.5Ti10.5Si9S9O72', 'Na9Ca1.5Ti10.5P18O72', 'Na9Ca1.5Si9Sn10.5S9O72', 'Na9Ca1.5Sn10.5P18O72', 'Na9Ca1.5Si9Ge10.5S9O72', 'Na9Ca1.5Ge10.5P18O72', 'Na9Ca1.5Hf10.5Si9S9O72', 'Na9Ca5Nb7Si9(SO8)9', 'Na9Ca5Nb7(PO4)18', 'Na9Ca5Ta7Si9(SO8)9', 'Na9Ca5Ta7(PO4)18', 'Na3Zr3GaSi3(SO8)3', 'Na3Zr3Ga(PO4)6', 'Na3GaSi3Sn3(SO8)3', 'Na3GaSn3(PO4)6', 'Na3GaSi3Ge3(SO8)3', 'Na3GaGe3(PO4)6', 'Na3Hf3Ga(PO4)6', 'Na9Nb4.5Ga7.5Si9S9O72', 'Na3Zr3AlSi3(SO8)3', 'Na3Zr3Al(PO4)6', 'Na3Ti3AlSi3(SO8)3', 'Na3AlSi3Sn3(SO8)3', 'Na3AlSn3(PO4)6', 'Na3AlGe3(PO4)6', 'Na3Hf3AlSi3(SO8)3', 'Na3Hf3Al(PO4)6', 'Na9Ta4.5Al7.5Si9S9O72', 'Na3Zr3ScSi3(SO8)3', 'Na3Zr3Sc(PO4)6', 'Na3ScTi3Si3(SO8)3', 'Na3ScSi3Sn3(SO8)3', 'Na3ScSi3Ge3(SO8)3', 'Na3ScGe3(PO4)6', 'Na3Hf3ScSi3(SO8)3', 'Na9Sc7.5Nb4.5Si9S9O72', 'Na9Sc7.5Ta4.5Si9S9O72', 'Na3YZr3Si3(SO8)3', 'Na3YTi3Si3(SO8)3', 'Na3YTi3(PO4)6', 'Na3YSi3Sn3(SO8)3', 'Na3YSi3Ge3(SO8)3', 'Na3YGe3(PO4)6', 'Na3YHf3(PO4)6', 'Na9Y7.5Ta4.5Si9S9O72', 'Na3Zr3InSi3(SO8)3', 'Na3Zr3In(PO4)6', 'Na3Ti3InSi3(SO8)3', 'Na3Ti3In(PO4)6', 'Na3InSi3Sn3(SO8)3', 'Na3InSn3(PO4)6', 'Na3InSi3Ge3(SO8)3', 'Na3InGe3(PO4)6', 'Na3Hf3InSi3(SO8)3', 'Na3Hf3In(PO4)6', 'Na9Nb4.5In7.5P18O72', 'Na9Ta4.5In7.5Si9S9O72', 'Na3LaZr3Si3(SO8)3', 'Na3LaSi3Sn3(SO8)3', 'Na3LaSn3(PO4)6', 'Na3LaSi3Ge3(SO8)3', 'Na3LaGe3(PO4)6', 'Na3LaHf3Si3(SO8)3', 'Na3LaHf3(PO4)6', 'Na9La7.5Ta4.5P18O72', 'Na9Mg4Nb8Si10.5S7.5O72', 'Na9Mg4Nb8Si3(P5O24)3', 'Na9Mg4Ta8Si10.5S7.5O72', 'Na9Mg4Ta8Si3(P5O24)3', 'Na9Nb8Zn4Si10.5S7.5O72', 'Na9Nb8Zn4Si3(P5O24)3', 'Na9Ta8Zn4Si10.5S7.5O72', 'Na9Ta8Zn4Si3(P5O24)3', 'Na9Ca4Nb8Si10.5S7.5O72', 'Na9Ca4Nb8Si3(P5O24)3', 'Na9Ca4Ta8Si10.5S7.5O72', 'Na9Ca4Ta8Si3(P5O24)3', 'Na9Nb6Ga6Si10.5S7.5O72', 'Na3Nb2Ga2SiP5O24', 'Na9Ta6Ga6Si10.5S7.5O72', 'Na3Ta2Ga2SiP5O24', 'Na9Nb6Al6Si10.5S7.5O72', 'Na3Ta2Al2SiP5O24', 'Na9Sc6Nb6Si10.5S7.5O72', 'Na3Sc2Nb2SiP5O24', 'Na3Sc2Ta2SiP5O24', 'Na3Y2Nb2SiP5O24', 'Na9Y6Ta6Si10.5S7.5O72', 'Na3Y2Ta2SiP5O24', 'Na9Nb6In6Si10.5S7.5O72', 'Na3Nb2In2SiP5O24', 'Na9Ta6In6Si10.5S7.5O72', 'Na3Ta2In2SiP5O24', 'Na9La6Ta6Si10.5S7.5O72', 'Na3La2Ta2SiP5O24', 'Na9Zr12Si10.5S7.5O72', 'Na9Zr6Ti6Si10.5S7.5O72', 'Na9Zr6Si10.5Sn6S7.5O72', 'Na3Zr2SiGe2P5O24', 'Na9Hf6Zr6Si10.5S7.5O72', 'Na9Ti12Si10.5S7.5O72', 'Na3Ti4SiP5O24', 'Na9Ti6Si10.5Sn6S7.5O72', 'Na9Ti6Si10.5Ge6S7.5O72', 'Na3Ti2SiGe2P5O24', 'Na9Si10.5Sn12S7.5O72', 'Na3SiSn4P5O24', 'Na9Si10.5Sn6Ge6S7.5O72', 'Na3SiSn2Ge2P5O24', 'Na9Hf6Si10.5Sn6S7.5O72', 'Na3Hf2SiSn2P5O24', 'Na9Si10.5Ge12S7.5O72', 'Na3SiGe4P5O24', 'Na9Hf6Si10.5Ge6S7.5O72', 'Na9Hf12Si10.5S7.5O72', 'Na9Mg2.0Nb10Si13.5S4.5O72', 'Na9Mg2.0Ta10Si13.5S4.5O72', 'Na9Nb10Zn2Si9(PO8)9', 'Na9Ta10Zn2.0Si13.5S4.5O72', 'Na9Ca2.0Ta10Si13.5S4.5O72', 'Na9Nb9Ga3.0Si13.5S4.5O72', 'Na9Ta9Ga3.0Si13.5S4.5O72', 'Na9Nb9Al3.0Si13.5S4.5O72', 'Na9Ta9Al3.0Si13.5S4.5O72', 'Na9Sc3.0Nb9Si13.5S4.5O72', 'Na3ScNb3Si3(PO8)3', 'Na9Sc3.0Ta9Si13.5S4.5O72', 'Na9Y3.0Nb9Si13.5S4.5O72', 'Na3YNb3Si3(PO8)3', 'Na3YTa3Si3(PO8)3', 'Na9Nb9In3.0Si13.5S4.5O72', 'Na3Nb3InSi3(PO8)3', 'Na9La3.0Nb9Si13.5S4.5O72', 'Na3LaNb3Si3(PO8)3', 'Na9La3.0Ta9Si13.5S4.5O72', 'Na9Zr6Nb6Si13.5S4.5O72', 'Na9Zr6Ta6Si13.5S4.5O72', 'Na9Ti6Nb6Si13.5S4.5O72', 'Na9Nb6Si13.5Sn6S4.5O72', 'Na9Ta6Si13.5Sn6S4.5O72', 'Na9Nb6Si13.5Ge6S4.5O72', 'Na3Nb2Si3Ge2(PO8)3', 'Na3Ta2Si3Ge2(PO8)3', 'Na9Hf6Nb6Si13.5S4.5O72', 'Na3Hf2Nb2Si3(PO8)3', 'Na9Hf6Ta6Si13.5S4.5O72', 'Na3Nb4Si5PO24', 'Na9Ta6Nb6Si16.5S1.5O72', 'Na9Ta12Si16.5S1.5O72', 'Na2MgZn(SO4)3', 'Na2CaMg(SO4)3', 'Na2Zn2(SO4)3', 'Na2Ca2(SO4)3', 'Na2MgGaP(SO6)2', 'Na4Mg2Ga2SiS5O24', 'Na2MgAlP(SO6)2', 'Na4Mg2Sc2SiS5O24', 'Na2MgInP(SO6)2', 'Na4Mg2In2SiS5O24', 'Na4La2Mg2SiS5O24', 'Na4Mg3ZrP2(SO6)4', 'Na4Mg3TiSiS5O24', 'Na4Mg3SnP2(SO6)4', 'Na4Mg3GeP2(SO6)4', 'Na4HfMg3P2(SO6)4', 'Na4HfMg3SiS5O24', 'Na6Mg5NbP3(SO6)6', 'Na12Mg10Nb2Si3(S5O24)3', 'Na6Mg5TaP3(SO6)6', 'Na12Mg10Ta2Si3(S5O24)3', 'Na2ZnGaP(SO6)2', 'Na2AlZnP(SO6)2', 'Na4Al2Zn2SiS5O24', 'Na2ScZnP(SO6)2', 'Na4Sc2Zn2SiS5O24', 'Na2YZnP(SO6)2', 'Na2ZnInP(SO6)2', 'Na4Zn2In2SiS5O24', 'Na2LaZnP(SO6)2', 'Na4La2Zn2SiS5O24', 'Na4ZrZn3SiS5O24', 'Na4TiZn3P2(SO6)4', 'Na4Zn3SnP2(SO6)4', 'Na4Zn3SiSnS5O24', 'Na4Zn3GeP2(SO6)4', 'Na4Zn3SiGeS5O24', 'Na4HfZn3P2(SO6)4', 'Na6NbZn5P3(SO6)6', 'Na12Nb2Zn10Si3(S5O24)3', 'Na6TaZn5P3(SO6)6', 'Na2CaGaP(SO6)2', 'Na2CaAlP(SO6)2', 'Na4Ca2Al2SiS5O24', 'Na2CaScP(SO6)2', 'Na4Ca2Sc2SiS5O24', 'Na2CaYP(SO6)2', 'Na4Ca2Y2SiS5O24', 'Na4Ca2In2SiS5O24', 'Na2CaLaP(SO6)2', 'Na4Ca3ZrP2(SO6)4', 'Na4Ca3ZrSiS5O24', 'Na4Ca3TiP2(SO6)4', 'Na4Ca3TiSiS5O24', 'Na4Ca3SnP2(SO6)4', 'Na4Ca3GeP2(SO6)4', 'Na4Ca3SiGeS5O24', 'Na4Ca3HfP2(SO6)4', 'Na4Ca3HfSiS5O24', 'Na12Ca10Nb2Si3(S5O24)3', 'Na6Ca5TaP3(SO6)6', 'Na12Ca10Ta2Si3(S5O24)3', 'Na2MgZrP2SO12', 'Na2MgZrSi(SO6)2', 'Na2MgTiP2SO12', 'Na2MgSnP2SO12', 'Na2MgSiSn(SO6)2', 'Na2MgGeP2SO12', 'Na2MgSiGe(SO6)2', 'Na2HfMgP2SO12', 'Na2HfMgSi(SO6)2', 'Na6Mg4Nb2Si3(SO6)6', 'Na6Mg4Ta2P6(SO12)3', 'Na6Mg4Ta2Si3(SO6)6', 'Na2ZrZnP2SO12', 'Na2ZrZnSi(SO6)2', 'Na2TiZnP2SO12', 'Na2TiZnSi(SO6)2', 'Na2ZnSnP2SO12', 'Na2ZnGeP2SO12', 'Na2ZnSiGe(SO6)2', 'Na2HfZnP2SO12', 'Na2HfZnSi(SO6)2', 'Na6Nb2Zn4P6(SO12)3', 'Na6Nb2Zn4Si3(SO6)6', 'Na6Ta2Zn4Si3(SO6)6', 'Na2CaZrP2SO12', 'Na2CaZrSi(SO6)2', 'Na2CaTiP2SO12', 'Na2CaTiSi(SO6)2', 'Na2CaSiSn(SO6)2', 'Na2CaGeP2SO12', 'Na2CaSiGe(SO6)2', 'Na2CaHfP2SO12', 'Na2CaHfSi(SO6)2', 'Na6Ca4Nb2P6(SO12)3', 'Na6Ca4Ta2Si3(SO6)6', 'Na2Ga2Si(SO6)2', 'Na2AlGaP2SO12', 'Na2AlGaSi(SO6)2', 'Na2ScGaP2SO12', 'Na2YGaP2SO12', 'Na2YGaSi(SO6)2', 'Na2InGaP2SO12', 'Na2InGaSi(SO6)2', 'Na2LaGaP2SO12', 'Na2LaGaSi(SO6)2', 'Na2Al2P2SO12', 'Na2Al2Si(SO6)2', 'Na2ScAlP2SO12', 'Na2ScAlSi(SO6)2', 'Na2YAlP2SO12', 'Na2YAlSi(SO6)2', 'Na2AlInSi(SO6)2', 'Na2LaAlSi(SO6)2', 'Na2Sc2Si(SO6)2', 'Na2YScP2SO12', 'Na2YScSi(SO6)2', 'Na2ScInSi(SO6)2', 'Na2Y2P2SO12', 'Na2Y2Si(SO6)2', 'Na2YInSi(SO6)2', 'Na2LaYP2SO12', 'Na2LaYSi(SO6)2', 'Na2In2Si(SO6)2', 'Na2LaInP2SO12', 'Na2LaInSi(SO6)2', 'Na2La2P2SO12', 'Na2La2Si(SO6)2', 'Na4MgZr3Si3(SO8)3', 'Na4MgTi3Si3(SO8)3', 'Na4MgTi3(PO4)6', 'Na4MgSi3Sn3(SO8)3', 'Na4MgSi3Ge3(SO8)3', 'Na4MgGe3(PO4)6', 'Na4Hf3MgSi3(SO8)3', 'Na4Mg2Nb2Si3(SO8)3', 'Na2MgNb(PO4)3', 'Na4Mg2Ta2Si3(SO8)3', 'Na2MgTa(PO4)3', 'Na4Ti3ZnSi3(SO8)3', 'Na4Ti3Zn(PO4)6', 'Na4ZnSi3Sn3(SO8)3', 'Na4ZnSn3(PO4)6', 'Na4ZnSi3Ge3(SO8)3', 'Na4ZnGe3(PO4)6', 'Na4Hf3ZnSi3(SO8)3', 'Na4Hf3Zn(PO4)6', 'Na4Nb2Zn2Si3(SO8)3', 'Na2NbZn(PO4)3', 'Na4Ta2Zn2Si3(SO8)3', 'Na2TaZn(PO4)3', 'Na4CaZr3Si3(SO8)3', 'Na4CaZr3(PO4)6', 'Na4CaTi3Si3(SO8)3', 'Na4CaTi3(PO4)6', 'Na4CaSi3Sn3(SO8)3', 'Na4CaSn3(PO4)6', 'Na4CaSi3Ge3(SO8)3', 'Na4CaGe3(PO4)6', 'Na4CaHf3Si3(SO8)3', 'Na4CaHf3(PO4)6', 'Na2CaTa(PO4)3', 'Na4Zr2Ga2Si3(SO8)3', 'Na2TiGa(PO4)3', 'Na4Ga2Si3Sn2(SO8)3', 'Na4Ga2Si3Ge2(SO8)3', 'Na2GaGe(PO4)3', 'Na4Hf2Ga2Si3(SO8)3', 'Na2HfGa(PO4)3', 'Na4NbGa3Si3(SO8)3', 'Na4NbGa3(PO4)6', 'Na4TaGa3Si3(SO8)3', 'Na4TaGa3(PO4)6', 'Na4Zr2Al2Si3(SO8)3', 'Na2ZrAl(PO4)3', 'Na4Ti2Al2Si3(SO8)3', 'Na4Al2Si3Sn2(SO8)3', 'Na2AlSn(PO4)3', 'Na4Al2Si3Ge2(SO8)3', 'Na2AlGe(PO4)3', 'Na4Hf2Al2Si3(SO8)3', 'Na4NbAl3Si3(SO8)3', 'Na4Zr2Sc2Si3(SO8)3', 'Na2ScTi(PO4)3', 'Na4Sc2Si3Sn2(SO8)3', 'Na4Sc2Si3Ge2(SO8)3', 'Na2ScGe(PO4)3', 'Na2HfSc(PO4)3', 'Na4Sc3NbSi3(SO8)3', 'Na4Sc3TaSi3(SO8)3', 'Na4Y2Zr2Si3(SO8)3', 'Na2YZr(PO4)3', 'Na4Y2Ti2Si3(SO8)3', 'Na4Y2Si3Sn2(SO8)3', 'Na2YSn(PO4)3', 'Na2YHf(PO4)3', 'Na4Y3NbSi3(SO8)3', 'Na4Y3TaSi3(SO8)3', 'Na4Y3Ta(PO4)6', 'Na4Zr2In2Si3(SO8)3', 'Na2ZrIn(PO4)3', 'Na4Ti2In2Si3(SO8)3', 'Na2TiIn(PO4)3', 'Na4In2Si3Sn2(SO8)3', 'Na2InSn(PO4)3', 'Na4In2Si3Ge2(SO8)3', 'Na2HfIn(PO4)3', 'Na4NbIn3Si3(SO8)3', 'Na4NbIn3(PO4)6', 'Na4TaIn3Si3(SO8)3', 'Na4TaIn3(PO4)6', 'Na4La2Zr2Si3(SO8)3', 'Na2LaZr(PO4)3', 'Na4La2Ti2Si3(SO8)3', 'Na4La2Si3Sn2(SO8)3', 'Na2LaSn(PO4)3', 'Na4La2Si3Ge2(SO8)3', 'Na2LaGe(PO4)3', 'Na4La3NbSi3(SO8)3', 'Na4La3Nb(PO4)6', 'Na4La3TaSi3(SO8)3', 'Na4La3Ta(PO4)6', 'Na6Mg2Nb4Si6(SO12)3', 'Na6Mg2Nb4Si3(PO6)6', 'Na6Mg2Ta4Si3(PO6)6', 'Na6Nb4Zn2Si3(PO6)6', 'Na6Ta4Zn2Si6(SO12)3', 'Na6Ta4Zn2Si3(PO6)6', 'Na6Ca2Nb4Si6(SO12)3', 'Na6Ca2Nb4Si3(PO6)6', 'Na6Ca2Ta4Si6(SO12)3', 'Na6Ca2Ta4Si3(PO6)6', 'Na2NbGaSi2SO12', 'Na2NbGaSi(PO6)2', 'Na2TaGaSi2SO12', 'Na2TaGaSi(PO6)2', 'Na2NbAlSi2SO12', 'Na2NbAlSi(PO6)2', 'Na2TaAlSi(PO6)2', 'Na2ScNbSi2SO12', 'Na2ScTaSi2SO12', 'Na2ScTaSi(PO6)2', 'Na2YNbSi2SO12', 'Na2YTaSi2SO12', 'Na2YTaSi(PO6)2', 'Na2NbInSi2SO12', 'Na2NbInSi(PO6)2', 'Na2TaInSi2SO12', 'Na2LaNbSi2SO12', 'Na2LaNbSi(PO6)2', 'Na2LaTaSi(PO6)2', 'Na2Zr2Si2SO12', 'Na2ZrTiSi2SO12', 'Na2ZrTiSi(PO6)2', 'Na2ZrSi2SnSO12', 'Na2ZrSiSn(PO6)2', 'Na2ZrSiGe(PO6)2', 'Na2HfZrSi2SO12', 'Na2Ti2Si2SO12', 'Na2Ti2Si(PO6)2', 'Na2TiSi2SnSO12', 'Na2TiSiSn(PO6)2', 'Na2TiSi2GeSO12', 'Na2TiSiGe(PO6)2', 'Na2HfTiSi2SO12', 'Na2HfTiSi(PO6)2', 'Na2Si2Sn2SO12', 'Na2Si2SnGeSO12', 'Na2HfSiSn(PO6)2', 'Na2Si2Ge2SO12', 'Na2SiGe2(PO6)2', 'Na2HfSiGe(PO6)2', 'Na12Mg2Nb10Si15(SO24)3', 'Na6MgNb5Si6(PO12)3', 'Na12Mg2Ta10Si15(SO24)3', 'Na6MgTa5Si6(PO12)3', 'Na12Nb10Zn2Si15(SO24)3', 'Na6Nb5ZnSi6(PO12)3', 'Na12Ta10Zn2Si15(SO24)3', 'Na6Ta5ZnSi6(PO12)3', 'Na6CaNb5Si6(PO12)3', 'Na12Ca2Ta10Si15(SO24)3', 'Na6CaTa5Si6(PO12)3', 'Na4Nb3GaSi5SO24', 'Na4Nb3GaSi4(PO12)2', 'Na4Ta3GaSi5SO24', 'Na4Ta3GaSi4(PO12)2', 'Na4Ta3AlSi5SO24', 'Na4Ta3AlSi4(PO12)2', 'Na4ScNb3Si5SO24', 'Na4ScNb3Si4(PO12)2', 'Na4ScTa3Si5SO24', 'Na4ScTa3Si4(PO12)2', 'Na4YNb3Si5SO24', 'Na4YNb3Si4(PO12)2', 'Na4YTa3Si5SO24', 'Na4YTa3Si4(PO12)2', 'Na4Nb3InSi5SO24', 'Na4Nb3InSi4(PO12)2', 'Na4Ta3InSi5SO24', 'Na4Ta3InSi4(PO12)2', 'Na4LaNb3Si5SO24', 'Na4LaNb3Si4(PO12)2', 'Na4LaTa3Si5SO24', 'Na4LaTa3Si4(PO12)2', 'Na4Zr2Nb2Si5SO24', 'Na2ZrNbSi2PO12', 'Na4Zr2Ta2Si5SO24', 'Na2ZrTaSi2PO12', 'Na4Ti2Nb2Si5SO24', 'Na2TiNbSi2PO12', 'Na2TaTiSi2PO12', 'Na4Nb2Si5Sn2SO24', 'Na4Ta2Si5Sn2SO24', 'Na2NbSi2GePO12', 'Na4Ta2Si5Ge2SO24', 'Na2TaSi2GePO12', 'Na2HfNbSi2PO12', 'Na4Hf2Ta2Si5SO24', 'Na2Nb2(SiO4)3', 'Na5Mg4PS5O24', 'Na5Mg2Zn2PS5O24', 'Na15Mg6Zn6Si1.5S16.5O72', 'Na5Ca2Mg2PS5O24', 'Na15Ca6Mg6Si1.5S16.5O72', 'Na5Zn4PS5O24', 'Na15Zn12Si1.5S16.5O72', 'Na5Ca2Zn2PS5O24', 'Na5Ca4PS5O24', 'Na15Ca12Si1.5S16.5O72', 'Na15Mg6Ga6Si4.5S13.5O72', 'Na5Mg2Al2P3(SO8)3', 'Na5Mg2Sc2P3(SO8)3', 'Na15Mg6Sc6Si4.5S13.5O72', 'Na15Y6Mg6Si4.5S13.5O72', 'Na5Mg2In2P3(SO8)3', 'Na15Mg6In6Si4.5S13.5O72', 'Na5La2Mg2P3(SO8)3', 'Na15La6Mg6Si4.5S13.5O72', 'Na15Mg9Zr3Si4.5S13.5O72', 'Na15Mg9Ti3Si4.5S13.5O72', 'Na5Mg3SnP3(SO8)3', 'Na15Mg9Si4.5Sn3S13.5O72', 'Na15Hf3Mg9Si4.5S13.5O72', 'Na15Mg10Nb2P9(SO8)9', 'Na15Mg10Nb2Si4.5S13.5O72', 'Na15Mg10Ta2P9(SO8)9', 'Na5Al2Zn2P3(SO8)3', 'Na15Al6Zn6Si4.5S13.5O72', 'Na5Sc2Zn2P3(SO8)3', 'Na5Y2Zn2P3(SO8)3', 'Na15Y6Zn6Si4.5S13.5O72', 'Na5Zn2In2P3(SO8)3', 'Na15Zn6In6Si4.5S13.5O72', 'Na5La2Zn2P3(SO8)3', 'Na15La6Zn6Si4.5S13.5O72', 'Na5ZrZn3P3(SO8)3', 'Na15Zr3Zn9Si4.5S13.5O72', 'Na5TiZn3P3(SO8)3', 'Na5Zn3SnP3(SO8)3', 'Na15Zn9Si4.5Sn3S13.5O72', 'Na5Zn3GeP3(SO8)3', 'Na15Zn9Si4.5Ge3S13.5O72', 'Na5HfZn3P3(SO8)3', 'Na15Nb2Zn10P9(SO8)9', 'Na15Nb2Zn10Si4.5S13.5O72', 'Na15Ta2Zn10P9(SO8)9', 'Na15Ta2Zn10Si4.5S13.5O72', 'Na5Ca2Ga2P3(SO8)3', 'Na15Ca6Ga6Si4.5S13.5O72', 'Na5Ca2Al2P3(SO8)3', 'Na15Ca6Al6Si4.5S13.5O72', 'Na5Ca2Sc2P3(SO8)3', 'Na15Ca6Sc6Si4.5S13.5O72', 'Na5Ca2In2P3(SO8)3', 'Na15Ca6In6Si4.5S13.5O72', 'Na5Ca2La2P3(SO8)3', 'Na15Ca6La6Si4.5S13.5O72', 'Na5Ca3ZrP3(SO8)3', 'Na15Ca9Zr3Si4.5S13.5O72', 'Na15Ca9Ti3Si4.5S13.5O72', 'Na15Ca9Si4.5Sn3S13.5O72', 'Na15Ca9Si4.5Ge3S13.5O72', 'Na15Ca9Hf3Si4.5S13.5O72', 'Na15Ca10Nb2P9(SO8)9', 'Na15Ca10Nb2Si4.5S13.5O72', 'Na15Ca10Ta2P9(SO8)9', 'Na5Mg2Zr2P5SO24', 'Na5Mg2Ti2P5SO24', 'Na5Mg2Sn2P5SO24', 'Na15Mg6Si7.5Sn6S10.5O72', 'Na5Mg2Ge2P5SO24', 'Na5Hf2Mg2P5SO24', 'Na15Mg8Nb4P15(SO24)3', 'Na15Mg8Nb4Si7.5S10.5O72', 'Na15Mg8Ta4Si7.5S10.5O72', 'Na15Zr6Zn6Si7.5S10.5O72', 'Na15Ti6Zn6Si7.5S10.5O72', 'Na15Zn6Si7.5Sn6S10.5O72', 'Na5Zn2Ge2P5SO24', 'Na15Zn6Si7.5Ge6S10.5O72', 'Na5Hf2Zn2P5SO24', 'Na15Hf6Zn6Si7.5S10.5O72', 'Na15Nb4Zn8P15(SO24)3', 'Na15Nb4Zn8Si7.5S10.5O72', 'Na15Ta4Zn8Si7.5S10.5O72', 'Na5Ca2Zr2P5SO24', 'Na5Ca2Ti2P5SO24', 'Na15Ca6Ti6Si7.5S10.5O72', 'Na5Ca2Sn2P5SO24', 'Na15Ca6Si7.5Sn6S10.5O72', 'Na15Ca6Si7.5Ge6S10.5O72', 'Na5Ca2Hf2P5SO24', 'Na15Ca6Hf6Si7.5S10.5O72', 'Na15Ca8Nb4P15(SO24)3', 'Na15Ca8Nb4Si7.5S10.5O72', 'Na15Ca8Ta4P15(SO24)3', 'Na15Ca8Ta4Si7.5S10.5O72', 'Na5Ga4P5SO24', 'Na15Ga12Si7.5S10.5O72', 'Na5Al2Ga2P5SO24', 'Na15Sc6Ga6Si7.5S10.5O72', 'Na5Y2Ga2P5SO24', 'Na15Y6Ga6Si7.5S10.5O72', 'Na5In2Ga2P5SO24', 'Na15In6Ga6Si7.5S10.5O72', 'Na5La2Ga2P5SO24', 'Na15La6Ga6Si7.5S10.5O72', 'Na5Al4P5SO24', 'Na5Sc2Al2P5SO24', 'Na15Sc6Al6Si7.5S10.5O72', 'Na5Y2Al2P5SO24', 'Na15Y6Al6Si7.5S10.5O72', 'Na5Al2In2P5SO24', 'Na15Al6In6Si7.5S10.5O72', 'Na5La2Al2P5SO24', 'Na15Sc12Si7.5S10.5O72', 'Na15Y6Sc6Si7.5S10.5O72', 'Na15Sc6In6Si7.5S10.5O72', 'Na5La2Sc2P5SO24', 'Na15La6Sc6Si7.5S10.5O72', 'Na5Y4P5SO24', 'Na15Y12Si7.5S10.5O72', 'Na5Y2In2P5SO24', 'Na15Y6In6Si7.5S10.5O72', 'Na5La2Y2P5SO24', 'Na15La6Y6Si7.5S10.5O72', 'Na5In4P5SO24', 'Na15In12Si7.5S10.5O72', 'Na5La2In2P5SO24', 'Na15La12Si7.5S10.5O72', 'Na15Mg4.5Zr7.5Si9S9O72', 'Na15Mg4.5Ti7.5Si9S9O72', 'Na15Mg4.5Si9Sn7.5S9O72', 'Na15Hf7.5Mg4.5Si9S9O72', 'Na15Mg7Nb5Si9(SO8)9', 'Na15Mg7Nb5(PO4)18', 'Na15Mg7Ta5Si9(SO8)9', 'Na15Mg7Ta5(PO4)18', 'Na15Zr7.5Zn4.5Si9S9O72', 'Na15Zr7.5Zn4.5P18O72', 'Na15Ti7.5Zn4.5Si9S9O72', 'Na15Ti7.5Zn4.5P18O72', 'Na15Zn4.5Si9Sn7.5S9O72', 'Na15Zn4.5Ge7.5P18O72', 'Na15Hf7.5Zn4.5Si9S9O72', 'Na15Hf7.5Zn4.5P18O72', 'Na15Nb5Zn7(PO4)18', 'Na15Ta5Zn7Si9(SO8)9', 'Na15Ta5Zn7(PO4)18', 'Na15Ca4.5Zr7.5P18O72', 'Na15Ca4.5Ti7.5Si9S9O72', 'Na15Ca4.5Ti7.5P18O72', 'Na15Ca4.5Si9Sn7.5S9O72', 'Na15Ca4.5Sn7.5P18O72', 'Na15Ca4.5Ge7.5P18O72', 'Na15Ca4.5Hf7.5Si9S9O72', 'Na15Ca4.5Hf7.5P18O72', 'Na15Ca7Nb5Si9(SO8)9', 'Na15Ca7Nb5(PO4)18', 'Na15Ca7Ta5Si9(SO8)9', 'Na5ZrGa3Si3(SO8)3', 'Na5ZrGa3(PO4)6', 'Na5TiGa3Si3(SO8)3', 'Na5TiGa3(PO4)6', 'Na5Ga3Sn(PO4)6', 'Na5Ga3Si3Ge(SO8)3', 'Na5Ga3Ge(PO4)6', 'Na5HfGa3(PO4)6', 'Na15Nb1.5Ga10.5Si9S9O72', 'Na15Nb1.5Ga10.5P18O72', 'Na15Ta1.5Ga10.5Si9S9O72', 'Na15Ta1.5Ga10.5P18O72', 'Na5ZrAl3Si3(SO8)3', 'Na5ZrAl3(PO4)6', 'Na5TiAl3Si3(SO8)3', 'Na5TiAl3(PO4)6', 'Na5Al3Si3Sn(SO8)3', 'Na5Al3Sn(PO4)6', 'Na5Al3Si3Ge(SO8)3', 'Na5Al3Ge(PO4)6', 'Na5HfAl3Si3(SO8)3', 'Na5HfAl3(PO4)6', 'Na15Nb1.5Al10.5Si9S9O72', 'Na15Nb1.5Al10.5P18O72', 'Na15Ta1.5Al10.5Si9S9O72', 'Na15Ta1.5Al10.5P18O72', 'Na5ZrSc3Si3(SO8)3', 'Na5ZrSc3(PO4)6', 'Na5Sc3TiSi3(SO8)3', 'Na5Sc3Si3Sn(SO8)3', 'Na5Sc3Si3Ge(SO8)3', 'Na5Sc3Ge(PO4)6', 'Na5HfSc3Si3(SO8)3', 'Na15Sc10.5Nb1.5Si9S9O72', 'Na15Sc10.5Ta1.5Si9S9O72', 'Na5Y3ZrSi3(SO8)3', 'Na5Y3TiSi3(SO8)3', 'Na5Y3Ti(PO4)6', 'Na5Y3Si3Sn(SO8)3', 'Na5Y3Sn(PO4)6', 'Na5Y3Si3Ge(SO8)3', 'Na5Y3Ge(PO4)6', 'Na5Y3Hf(PO4)6', 'Na15Y10.5Nb1.5Si9S9O72', 'Na15Y10.5Nb1.5P18O72', 'Na15Y10.5Ta1.5Si9S9O72', 'Na15Y10.5Ta1.5P18O72', 'Na5ZrIn3Si3(SO8)3', 'Na5ZrIn3(PO4)6', 'Na5TiIn3(PO4)6', 'Na5In3Si3Sn(SO8)3', 'Na5In3Ge(PO4)6', 'Na5HfIn3Si3(SO8)3', 'Na5HfIn3(PO4)6', 'Na15Nb1.5In10.5Si9S9O72', 'Na15Nb1.5In10.5P18O72', 'Na15Ta1.5In10.5P18O72', 'Na5La3ZrSi3(SO8)3', 'Na5La3TiSi3(SO8)3', 'Na5La3Si3Sn(SO8)3', 'Na5La3Sn(PO4)6', 'Na5La3Si3Ge(SO8)3', 'Na5La3Ge(PO4)6', 'Na15La10.5Nb1.5Si9S9O72', 'Na15La10.5Nb1.5P18O72', 'Na15La10.5Ta1.5Si9S9O72', 'Na15La10.5Ta1.5P18O72', 'Na15Mg3Zr9Si10.5S7.5O72', 'Na15Mg3Ti9Si10.5S7.5O72', 'Na5MgTi3SiP5O24', 'Na15Mg3Si10.5Sn9S7.5O72', 'Na5MgSiSn3P5O24', 'Na15Mg3Si10.5Ge9S7.5O72', 'Na5MgSiGe3P5O24', 'Na15Hf9Mg3Si10.5S7.5O72', 'Na15Mg6Nb6Si10.5S7.5O72', 'Na15Mg6Ta6Si10.5S7.5O72', 'Na5Mg2Ta2SiP5O24', 'Na15Zr9Zn3Si10.5S7.5O72', 'Na5Zr3ZnSiP5O24', 'Na5Ti3ZnSiP5O24', 'Na15Zn3Si10.5Sn9S7.5O72', 'Na5ZnSiSn3P5O24', 'Na15Zn3Si10.5Ge9S7.5O72', 'Na5ZnSiGe3P5O24', 'Na15Hf9Zn3Si10.5S7.5O72', 'Na5Hf3ZnSiP5O24', 'Na15Nb6Zn6Si10.5S7.5O72', 'Na5Nb2Zn2SiP5O24', 'Na15Ta6Zn6Si10.5S7.5O72', 'Na5Ta2Zn2SiP5O24', 'Na15Ca3Zr9Si10.5S7.5O72', 'Na15Ca3Ti9Si10.5S7.5O72', 'Na5CaTi3SiP5O24', 'Na15Ca3Si10.5Sn9S7.5O72', 'Na5CaSiSn3P5O24', 'Na15Ca3Si10.5Ge9S7.5O72', 'Na15Ca3Hf9Si10.5S7.5O72', 'Na5Ca2Nb2SiP5O24', 'Na5Ca2Ta2SiP5O24', 'Na15Zr6.0Ga6Si10.5S7.5O72', 'Na15Ti6.0Ga6Si10.5S7.5O72', 'Na5Ti2Ga2SiP5O24', 'Na15Ga6Si10.5Sn6.0S7.5O72', 'Na5Ga2SiSn2P5O24', 'Na15Ga6Si10.5Ge6.0S7.5O72', 'Na5Ga2SiGe2P5O24', 'Na15Hf6.0Ga6Si10.5S7.5O72', 'Na5Hf2Ga2SiP5O24', 'Na15Nb3.0Ga9Si10.5S7.5O72', 'Na5NbGa3SiP5O24', 'Na15Ta3.0Ga9Si10.5S7.5O72', 'Na5TaGa3SiP5O24', 'Na15Zr6.0Al6Si10.5S7.5O72', 'Na5Zr2Al2SiP5O24', 'Na15Ti6.0Al6Si10.5S7.5O72', 'Na5Ti2Al2SiP5O24', 'Na15Al6Si10.5Ge6.0S7.5O72', 'Na5Al2SiGe2P5O24', 'Na5Hf2Al2SiP5O24', 'Na5TaAl3SiP5O24', 'Na15Zr6.0Sc6Si10.5S7.5O72', 'Na15Sc6Ti6.0Si10.5S7.5O72', 'Na15Sc6Si10.5Sn6.0S7.5O72', 'Na5Sc2SiSn2P5O24', 'Na5Sc2SiGe2P5O24', 'Na5Sc3NbSiP5O24', 'Na5Sc3TaSiP5O24', 'Na15Y6Ti6.0Si10.5S7.5O72', 'Na5Y2Ti2SiP5O24', 'Na15Y6Si10.5Sn6.0S7.5O72', 'Na15Y6Hf6.0Si10.5S7.5O72', 'Na5Y2Hf2SiP5O24', 'Na15Y9Nb3.0Si10.5S7.5O72', 'Na5Y3NbSiP5O24', 'Na15Y9Ta3.0Si10.5S7.5O72', 'Na5Y3TaSiP5O24', 'Na15Zr6.0In6Si10.5S7.5O72', 'Na5Zr2In2SiP5O24', 'Na5Ti2In2SiP5O24', 'Na15In6Si10.5Sn6.0S7.5O72', 'Na5In2SiSn2P5O24', 'Na15In6Si10.5Ge6.0S7.5O72', 'Na5In2SiGe2P5O24', 'Na5Hf2In2SiP5O24', 'Na15Nb3.0In9Si10.5S7.5O72', 'Na5NbIn3SiP5O24', 'Na15Ta3.0In9Si10.5S7.5O72', 'Na15La6Zr6.0Si10.5S7.5O72', 'Na5La2Zr2SiP5O24', 'Na15La6Ti6.0Si10.5S7.5O72', 'Na5La2Ti2SiP5O24', 'Na15La6Si10.5Sn6.0S7.5O72', 'Na15La6Si10.5Ge6.0S7.5O72', 'Na5La2SiGe2P5O24', 'Na15La6Hf6.0Si10.5S7.5O72', 'Na15La9Nb3.0Si10.5S7.5O72', 'Na5La3NbSiP5O24', 'Na15La9Ta3.0Si10.5S7.5O72', 'Na15Mg4Nb8Si9(PO8)9', 'Na15Mg4Ta8Si13.5S4.5O72', 'Na15Nb8Zn4Si13.5S4.5O72', 'Na15Nb8Zn4Si9(PO8)9', 'Na15Ta8Zn4Si13.5S4.5O72', 'Na15Ca4Nb8Si13.5S4.5O72', 'Na15Ca4Nb8Si9(PO8)9', 'Na15Ca4Ta8Si13.5S4.5O72', 'Na15Ca4Ta8Si9(PO8)9', 'Na15Nb6Ga6Si13.5S4.5O72', 'Na15Ta6Ga6Si13.5S4.5O72', 'Na5Ta2Ga2Si3(PO8)3', 'Na5Nb2Al2Si3(PO8)3', 'Na15Ta6Al6Si13.5S4.5O72', 'Na5Ta2Al2Si3(PO8)3', 'Na15Sc6Nb6Si13.5S4.5O72', 'Na5Sc2Nb2Si3(PO8)3', 'Na15Y6Nb6Si13.5S4.5O72', 'Na5Y2Nb2Si3(PO8)3', 'Na15Y6Ta6Si13.5S4.5O72', 'Na5Y2Ta2Si3(PO8)3', 'Na5Nb2In2Si3(PO8)3', 'Na15Ta6In6Si13.5S4.5O72', 'Na5Ta2In2Si3(PO8)3', 'Na15La6Nb6Si13.5S4.5O72', 'Na5La2Nb2Si3(PO8)3', 'Na5La2Ta2Si3(PO8)3', 'Na15Zr12Si13.5S4.5O72', 'Na5Zr4Si3(PO8)3', 'Na15Zr6Ti6Si13.5S4.5O72', 'Na5Zr2Ti2Si3(PO8)3', 'Na5Zr2Si3Sn2(PO8)3', 'Na15Zr6Si13.5Ge6S4.5O72', 'Na15Ti12Si13.5S4.5O72', 'Na5Ti4Si3(PO8)3', 'Na15Ti6Si13.5Sn6S4.5O72', 'Na5Ti2Si3Sn2(PO8)3', 'Na5Ti2Si3Ge2(PO8)3', 'Na5Hf2Ti2Si3(PO8)3', 'Na15Si13.5Sn6Ge6S4.5O72', 'Na5Si3Sn2Ge2(PO8)3', 'Na15Hf6Si13.5Sn6S4.5O72', 'Na15Si13.5Ge12S4.5O72', 'Na5Si3Ge4(PO8)3', 'Na15Hf6Si13.5Ge6S4.5O72', 'Na5Hf2Si3Ge2(PO8)3', 'Na15Hf12Si13.5S4.5O72', 'Na15Mg2.0Nb10Si16.5S1.5O72', 'Na15Mg2Nb10Si15(PO24)3', 'Na15Mg2.0Ta10Si16.5S1.5O72', 'Na15Mg2Ta10Si15(PO24)3', 'Na15Nb10Zn2.0Si16.5S1.5O72', 'Na15Nb10Zn2Si15(PO24)3', 'Na15Ta10Zn2.0Si16.5S1.5O72', 'Na15Ta10Zn2Si15(PO24)3', 'Na15Ca2.0Nb10Si16.5S1.5O72', 'Na15Ca2Nb10Si15(PO24)3', 'Na15Ca2.0Ta10Si16.5S1.5O72', 'Na15Ca2Ta10Si15(PO24)3', 'Na5Nb3GaSi5PO24', 'Na5Ta3GaSi5PO24', 'Na15Nb9Al3.0Si16.5S1.5O72', 'Na5Nb3AlSi5PO24', 'Na5Ta3AlSi5PO24', 'Na15Sc3.0Nb9Si16.5S1.5O72', 'Na5ScNb3Si5PO24', 'Na15Y3.0Nb9Si16.5S1.5O72', 'Na5YNb3Si5PO24', 'Na15Nb9In3.0Si16.5S1.5O72', 'Na5Nb3InSi5PO24', 'Na15Ta9In3.0Si16.5S1.5O72', 'Na5Ta3InSi5PO24', 'Na15La3.0Nb9Si16.5S1.5O72', 'Na15La3.0Ta9Si16.5S1.5O72', 'Na5LaTa3Si5PO24', 'Na15Zr6Nb6Si16.5S1.5O72', 'Na5Zr2Nb2Si5PO24', 'Na15Zr6Ta6Si16.5S1.5O72', 'Na5Zr2Ta2Si5PO24', 'Na15Ti6Nb6Si16.5S1.5O72', 'Na5Ti2Nb2Si5PO24', 'Na15Ta6Ti6Si16.5S1.5O72', 'Na5Ta2Ti2Si5PO24', 'Na15Nb6Si16.5Sn6S1.5O72', 'Na5Nb2Si5Sn2PO24', 'Na15Ta6Si16.5Sn6S1.5O72', 'Na5Ta2Si5Sn2PO24', 'Na15Nb6Si16.5Ge6S1.5O72', 'Na5Nb2Si5Ge2PO24', 'Na15Ta6Si16.5Ge6S1.5O72', 'Na5Ta2Si5Ge2PO24', 'Na15Hf6Nb6Si16.5S1.5O72', 'Na15MgNb11(SiO4)18', 'Na15MgTa11(SiO4)18', 'Na15Nb11Zn(SiO4)18', 'Na15Ta11Zn(SiO4)18', 'Na15CaNb11(SiO4)18', 'Na15CaTa11(SiO4)18', 'Na15Ta10.5Ga1.5Si18O72', 'Na15Nb10.5Al1.5Si18O72', 'Na15Ta10.5Al1.5Si18O72', 'Na15Sc1.5Nb10.5Si18O72', 'Na15Y1.5Nb10.5Si18O72', 'Na15Y1.5Ta10.5Si18O72', 'Na15Nb10.5In1.5Si18O72', 'Na15Ta10.5In1.5Si18O72', 'Na15La1.5Nb10.5Si18O72', 'Na15La1.5Ta10.5Si18O72', 'Na5ZrNb3(SiO4)6', 'Na5ZrTa3(SiO4)6', 'Na5TiNb3(SiO4)6', 'Na5Nb3Si6SnO24', 'Na5Nb3Si6GeO24', 'Na5HfNb3(SiO4)6', 'Na3Mg2P(SO6)2', 'Na6Mg4SiS5O24', 'Na3MgZnP(SO6)2', 'Na3CaMgP(SO6)2', 'Na6Ca2Mg2SiS5O24', 'Na6Zn4SiS5O24', 'Na6Ca2Zn2SiS5O24', 'Na3Ca2P(SO6)2', 'Na3MgGaP2SO12', 'Na3MgGaSi(SO6)2', 'Na3MgAlP2SO12', 'Na3MgAlSi(SO6)2', 'Na3MgScP2SO12', 'Na3MgScSi(SO6)2', 'Na3MgInP2SO12', 'Na3MgInSi(SO6)2', 'Na3LaMgP2SO12', 'Na3LaMgSi(SO6)2', 'Na6Mg3ZrP4(SO12)2', 'Na6Mg3ZrSi2(SO6)4', 'Na6Mg3TiP4(SO12)2', 'Na6Mg3TiSi2(SO6)4', 'Na6Mg3SnP4(SO12)2', 'Na6Mg3Si2Sn(SO6)4', 'Na6HfMg3P4(SO12)2', 'Na9Mg5TaP6(SO12)3', 'Na3ZnGaP2SO12', 'Na3ZnGaSi(SO6)2', 'Na3AlZnP2SO12', 'Na3AlZnSi(SO6)2', 'Na3ScZnP2SO12', 'Na3ScZnSi(SO6)2', 'Na3YZnP2SO12', 'Na3YZnSi(SO6)2', 'Na3ZnInSi(SO6)2', 'Na3LaZnP2SO12', 'Na3LaZnSi(SO6)2', 'Na6ZrZn3P4(SO12)2', 'Na6ZrZn3Si2(SO6)4', 'Na6TiZn3P4(SO12)2', 'Na6TiZn3Si2(SO6)4', 'Na6Zn3Si2Sn(SO6)4', 'Na6Zn3GeP4(SO12)2', 'Na6HfZn3P4(SO12)2', 'Na6HfZn3Si2(SO6)4', 'Na9NbZn5P6(SO12)3', 'Na9NbZn5Si3(SO6)6', 'Na9TaZn5P6(SO12)3', 'Na9TaZn5Si3(SO6)6', 'Na3CaGaP2SO12', 'Na3CaGaSi(SO6)2', 'Na3CaAlP2SO12', 'Na3CaAlSi(SO6)2', 'Na3CaScP2SO12', 'Na3CaScSi(SO6)2', 'Na3CaYP2SO12', 'Na3CaYSi(SO6)2', 'Na3CaInP2SO12', 'Na3CaInSi(SO6)2', 'Na3CaLaP2SO12', 'Na3CaLaSi(SO6)2', 'Na6Ca3TiP4(SO12)2', 'Na6Ca3TiSi2(SO6)4', 'Na6Ca3SnP4(SO12)2', 'Na6Ca3Si2Sn(SO6)4', 'Na6Ca3GeP4(SO12)2', 'Na6Ca3Si2Ge(SO6)4', 'Na6Ca3HfP4(SO12)2', 'Na6Ca3HfSi2(SO6)4', 'Na9Ca5NbSi3(SO6)6', 'Na9Ca5TaP6(SO12)3', 'Na9Ca5TaSi3(SO6)6', 'Na6Mg2Zr2Si3(SO8)3', 'Na6Mg2Ti2Si3(SO8)3', 'Na3MgTi(PO4)3', 'Na6Mg2Si3Sn2(SO8)3', 'Na3MgGe(PO4)3', 'Na6Hf2Mg2Si3(SO8)3', 'Na18Mg8Nb4Si9(SO8)9', 'Na6Zr2Zn2Si3(SO8)3', 'Na3ZrZn(PO4)3', 'Na6Zn2Si3Sn2(SO8)3', 'Na3ZnSn(PO4)3', 'Na6Zn2Si3Ge2(SO8)3', 'Na6Hf2Zn2Si3(SO8)3', 'Na3HfZn(PO4)3', 'Na18Nb4Zn8Si9(SO8)9', 'Na9Nb2Zn4(PO4)9', 'Na18Ta4Zn8Si9(SO8)9', 'Na6Ca2Zr2Si3(SO8)3', 'Na3CaZr(PO4)3', 'Na6Ca2Ti2Si3(SO8)3', 'Na3CaTi(PO4)3', 'Na6Ca2Si3Sn2(SO8)3', 'Na3CaSn(PO4)3', 'Na6Ca2Si3Ge2(SO8)3', 'Na3CaGe(PO4)3', 'Na6Ca2Hf2Si3(SO8)3', 'Na3CaHf(PO4)3', 'Na18Ca8Nb4Si9(SO8)9', 'Na9Ca4Nb2(PO4)9', 'Na9Ca4Ta2(PO4)9', 'Na6Ga4Si3(SO8)3', 'Na3Ga2(PO4)3', 'Na6Al2Ga2Si3(SO8)3', 'Na6Sc2Ga2Si3(SO8)3', 'Na3ScGa(PO4)3', 'Na6Y2Ga2Si3(SO8)3', 'Na3YGa(PO4)3', 'Na6In2Ga2Si3(SO8)3', 'Na3LaGa(PO4)3', 'Na6Al4Si3(SO8)3', 'Na6Sc2Al2Si3(SO8)3', 'Na3YAl(PO4)3', 'Na6Al2In2Si3(SO8)3', 'Na3AlIn(PO4)3', 'Na6La2Al2Si3(SO8)3', 'Na3LaAl(PO4)3', 'Na6Sc4Si3(SO8)3', 'Na3Sc2(PO4)3', 'Na6Y2Sc2Si3(SO8)3', 'Na6Sc2In2Si3(SO8)3', 'Na3ScIn(PO4)3', 'Na6La2Sc2Si3(SO8)3', 'Na3LaSc(PO4)3', 'Na3Y2(PO4)3', 'Na6Y2In2Si3(SO8)3', 'Na3YIn(PO4)3', 'Na6La2Y2Si3(SO8)3', 'Na6In4Si3(SO8)3', 'Na3In2(PO4)3', 'Na6La2In2Si3(SO8)3', 'Na3LaIn(PO4)3', 'Na6La4Si3(SO8)3', 'Na3La2(PO4)3', 'Na6MgZr3Si4(SO12)2', 'Na6MgTi3Si4(SO12)2', 'Na6MgTi3Si2(PO6)4', 'Na6MgSi4Sn3(SO12)2', 'Na6MgSi2Sn3(PO6)4', 'Na6MgSi4Ge3(SO12)2', 'Na6MgSi2Ge3(PO6)4', 'Na6Hf3MgSi4(SO12)2', 'Na3MgNbSi(PO6)2', 'Na6Zr3ZnSi4(SO12)2', 'Na6Zr3ZnSi2(PO6)4', 'Na6Ti3ZnSi4(SO12)2', 'Na6ZnSi4Sn3(SO12)2', 'Na6ZnSi4Ge3(SO12)2', 'Na6Hf3ZnSi4(SO12)2', 'Na3NbZnSi2SO12', 'Na3TaZnSi(PO6)2', 'Na6CaZr3Si4(SO12)2', 'Na6CaTi3Si4(SO12)2', 'Na6CaTi3Si2(PO6)4', 'Na6CaSi4Sn3(SO12)2', 'Na6CaSi2Sn3(PO6)4', 'Na6CaSi4Ge3(SO12)2', 'Na6CaSi2Ge3(PO6)4', 'Na6CaHf3Si4(SO12)2', 'Na3CaNbSi2SO12', 'Na3CaNbSi(PO6)2', 'Na3CaTaSi2SO12', 'Na3CaTaSi(PO6)2', 'Na3ZrGaSi(PO6)2', 'Na3TiGaSi2SO12', 'Na3TiGaSi(PO6)2', 'Na3GaSi2SnSO12', 'Na3GaSi2GeSO12', 'Na3GaSiGe(PO6)2', 'Na3HfGaSi2SO12', 'Na3HfGaSi(PO6)2', 'Na6NbGa3Si2(PO6)4', 'Na6TaGa3Si4(SO12)2', 'Na6TaGa3Si2(PO6)4', 'Na3ZrAlSi2SO12', 'Na3ZrAlSi(PO6)2', 'Na3TiAlSi2SO12', 'Na3AlSi2SnSO12', 'Na3AlSiSn(PO6)2', 'Na3AlSi2GeSO12', 'Na3AlSiGe(PO6)2', 'Na3HfAlSi2SO12', 'Na3HfAlSi(PO6)2', 'Na6NbAl3Si4(SO12)2', 'Na6NbAl3Si2(PO6)4', 'Na6TaAl3Si4(SO12)2', 'Na6TaAl3Si2(PO6)4', 'Na3ZrScSi2SO12', 'Na3ScTiSi2SO12', 'Na3ScTiSi(PO6)2', 'Na3ScSiSn(PO6)2', 'Na3ScSi2GeSO12', 'Na6Sc3NbSi4(SO12)2', 'Na6Sc3NbSi2(PO6)4', 'Na6Sc3TaSi4(SO12)2', 'Na6Sc3TaSi2(PO6)4', 'Na3YZrSi2SO12', 'Na3YZrSi(PO6)2', 'Na3YTiSi2SO12', 'Na3YTiSi(PO6)2', 'Na3YSiSn(PO6)2', 'Na3YSi2GeSO12', 'Na3YHfSi2SO12', 'Na3YHfSi(PO6)2', 'Na6Y3NbSi4(SO12)2', 'Na6Y3NbSi2(PO6)4', 'Na6Y3TaSi4(SO12)2', 'Na6Y3TaSi2(PO6)4', 'Na3ZrInSi2SO12', 'Na3ZrInSi(PO6)2', 'Na3TiInSi2SO12', 'Na3TiInSi(PO6)2', 'Na3InSiSn(PO6)2', 'Na3InSiGe(PO6)2', 'Na3HfInSi2SO12', 'Na3HfInSi(PO6)2', 'Na6NbIn3Si4(SO12)2', 'Na6TaIn3Si4(SO12)2', 'Na6TaIn3Si2(PO6)4', 'Na3LaZrSi2SO12', 'Na3LaZrSi(PO6)2', 'Na3LaTiSi2SO12', 'Na3LaTiSi(PO6)2', 'Na3LaSi2SnSO12', 'Na3LaSiSn(PO6)2', 'Na3LaSi2GeSO12', 'Na3LaSiGe(PO6)2', 'Na3LaHfSi2SO12', 'Na3LaHfSi(PO6)2', 'Na6La3NbSi4(SO12)2', 'Na6La3TaSi4(SO12)2', 'Na6La3TaSi2(PO6)4', 'Na18Mg4Nb8Si15(SO24)3', 'Na9Mg2Nb4Si6(PO12)3', 'Na18Mg4Ta8Si15(SO24)3', 'Na9Mg2Ta4Si6(PO12)3', 'Na18Nb8Zn4Si15(SO24)3', 'Na9Nb4Zn2Si6(PO12)3', 'Na18Ta8Zn4Si15(SO24)3', 'Na18Ca4Nb8Si15(SO24)3', 'Na18Ca4Ta8Si15(SO24)3', 'Na9Ca2Ta4Si6(PO12)3', 'Na6Nb2Ga2Si5SO24', 'Na3NbGaSi2PO12', 'Na6Ta2Ga2Si5SO24', 'Na3TaGaSi2PO12', 'Na6Nb2Al2Si5SO24', 'Na3NbAlSi2PO12', 'Na6Ta2Al2Si5SO24', 'Na6Sc2Nb2Si5SO24', 'Na6Sc2Ta2Si5SO24', 'Na3ScTaSi2PO12', 'Na6Y2Nb2Si5SO24', 'Na3YNbSi2PO12', 'Na6Y2Ta2Si5SO24', 'Na3YTaSi2PO12', 'Na3NbInSi2PO12', 'Na6Ta2In2Si5SO24', 'Na3TaInSi2PO12', 'Na3LaNbSi2PO12', 'Na6La2Ta2Si5SO24', 'Na3LaTaSi2PO12', 'Na6Zr2Ti2Si5SO24', 'Na3ZrTiSi2PO12', 'Na3ZrSi2SnPO12', 'Na6Zr2Si5Ge2SO24', 'Na3ZrSi2GePO12', 'Na6Ti4Si5SO24', 'Na3Ti2Si2PO12', 'Na6Ti2Si5Sn2SO24', 'Na3TiSi2SnPO12', 'Na6Ti2Si5Ge2SO24', 'Na3TiSi2GePO12', 'Na6Hf2Ti2Si5SO24', 'Na6Si5Sn2Ge2SO24', 'Na3Si2SnGePO12', 'Na6Hf2Si5Sn2SO24', 'Na3Si2Ge2PO12', 'Na6Hf2Si5Ge2SO24', 'Na3HfSi2GePO12', 'Na6Hf4Si5SO24', 'Na9MgTa5(SiO4)9', 'Na9Ta5Zn(SiO4)9', 'Na6Nb3Ga(SiO4)6', 'Na6Nb3Al(SiO4)6', 'Na6Ta3Al(SiO4)6', 'Na6ScNb3(SiO4)6', 'Na6ScTa3(SiO4)6', 'Na6YNb3(SiO4)6', 'Na6Ta3In(SiO4)6', 'Na6LaNb3(SiO4)6', 'Na6LaTa3(SiO4)6', 'Na3ZrTa(SiO4)3', 'Na3TiNb(SiO4)3', 'Na3TaTi(SiO4)3', 'Na3NbSi3SnO12', 'Na3NbSi3GeO12', 'Na3TaSi3GeO12', 'Na7Mg4P3(SO8)3', 'Na21Mg12Si4.5S13.5O72', 'Na7Mg2Zn2P3(SO8)3', 'Na21Mg6Zn6Si4.5S13.5O72', 'Na7Ca2Mg2P3(SO8)3', 'Na21Ca6Mg6Si4.5S13.5O72', 'Na7Zn4P3(SO8)3', 'Na21Zn12Si4.5S13.5O72', 'Na7Ca4P3(SO8)3', 'Na21Ca12Si4.5S13.5O72', 'Na7Mg2Ga2P5SO24', 'Na21Mg6Ga6Si7.5S10.5O72', 'Na7Mg2Al2P5SO24', 'Na21Mg6Sc6Si7.5S10.5O72', 'Na7Y2Mg2P5SO24', 'Na21Y6Mg6Si7.5S10.5O72', 'Na21Mg6In6Si7.5S10.5O72', 'Na7La2Mg2P5SO24', 'Na21La6Mg6Si7.5S10.5O72', 'Na7Mg3ZrP5SO24', 'Na21Mg9Zr3Si7.5S10.5O72', 'Na7Mg3TiP5SO24', 'Na21Mg9Ti3Si7.5S10.5O72', 'Na7Mg3SnP5SO24', 'Na7Mg3GeP5SO24', 'Na21Mg9Si7.5Ge3S10.5O72', 'Na21Hf3Mg9Si7.5S10.5O72', 'Na21Mg10Nb2P15(SO24)3', 'Na21Mg10Nb2Si7.5S10.5O72', 'Na21Mg10Ta2P15(SO24)3', 'Na7Zn2Ga2P5SO24', 'Na21Zn6Ga6Si7.5S10.5O72', 'Na21Al6Zn6Si7.5S10.5O72', 'Na21Sc6Zn6Si7.5S10.5O72', 'Na7Y2Zn2P5SO24', 'Na21Y6Zn6Si7.5S10.5O72', 'Na7Zn2In2P5SO24', 'Na21Zn6In6Si7.5S10.5O72', 'Na7La2Zn2P5SO24', 'Na21La6Zn6Si7.5S10.5O72', 'Na21Zr3Zn9Si7.5S10.5O72', 'Na7TiZn3P5SO24', 'Na21Ti3Zn9Si7.5S10.5O72', 'Na7Zn3SnP5SO24', 'Na21Zn9Si7.5Ge3S10.5O72', 'Na7HfZn3P5SO24', 'Na21Nb2Zn10P15(SO24)3', 'Na21Nb2Zn10Si7.5S10.5O72', 'Na21Ta2Zn10P15(SO24)3', 'Na21Ta2Zn10Si7.5S10.5O72', 'Na7Ca2Ga2P5SO24', 'Na21Ca6Ga6Si7.5S10.5O72', 'Na7Ca2Al2P5SO24', 'Na7Ca2Sc2P5SO24', 'Na21Ca6Sc6Si7.5S10.5O72', 'Na21Ca6Y6Si7.5S10.5O72', 'Na7Ca2In2P5SO24', 'Na21Ca6In6Si7.5S10.5O72', 'Na7Ca2La2P5SO24', 'Na21Ca6La6Si7.5S10.5O72', 'Na7Ca3ZrP5SO24', 'Na21Ca9Zr3Si7.5S10.5O72', 'Na7Ca3TiP5SO24', 'Na21Ca9Ti3Si7.5S10.5O72', 'Na7Ca3SnP5SO24', 'Na21Ca9Si7.5Sn3S10.5O72', 'Na7Ca3GeP5SO24', 'Na21Ca9Si7.5Ge3S10.5O72', 'Na21Ca9Hf3Si7.5S10.5O72', 'Na21Ca10Nb2P15(SO24)3', 'Na21Ca10Ta2P15(SO24)3', 'Na7MgGa3Si3(SO8)3', 'Na7MgGa3(PO4)6', 'Na7MgAl3Si3(SO8)3', 'Na7MgSc3Si3(SO8)3', 'Na7Y3MgSi3(SO8)3', 'Na7Y3Mg(PO4)6', 'Na7MgIn3Si3(SO8)3', 'Na7MgIn3(PO4)6', 'Na7La3MgSi3(SO8)3', 'Na21Mg7.5Zr4.5Si9S9O72', 'Na21Mg7.5Ti4.5Si9S9O72', 'Na21Mg7.5Ti4.5P18O72', 'Na21Mg7.5Si9Ge4.5S9O72', 'Na21Mg7.5Ge4.5P18O72', 'Na21Hf4.5Mg7.5Si9S9O72', 'Na7Mg3NbSi3(SO8)3', 'Na7Mg3Nb(PO4)6', 'Na7Mg3TaSi3(SO8)3', 'Na7Mg3Ta(PO4)6', 'Na7ZnGa3Si3(SO8)3', 'Na7Al3ZnSi3(SO8)3', 'Na7Al3Zn(PO4)6', 'Na7Sc3ZnSi3(SO8)3', 'Na7Sc3Zn(PO4)6', 'Na7Y3Zn(PO4)6', 'Na7ZnIn3Si3(SO8)3', 'Na7ZnIn3(PO4)6', 'Na7La3ZnSi3(SO8)3', 'Na7La3Zn(PO4)6', 'Na21Zr4.5Zn7.5Si9S9O72', 'Na21Zr4.5Zn7.5P18O72', 'Na21Ti4.5Zn7.5Si9S9O72', 'Na21Ti4.5Zn7.5P18O72', 'Na21Zn7.5Si9Ge4.5S9O72', 'Na21Zn7.5Ge4.5P18O72', 'Na7NbZn3(PO4)6', 'Na7TaZn3Si3(SO8)3', 'Na7TaZn3(PO4)6', 'Na7CaGa3Si3(SO8)3', 'Na7CaAl3Si3(SO8)3', 'Na7CaSc3Si3(SO8)3', 'Na7CaY3Si3(SO8)3', 'Na7CaIn3Si3(SO8)3', 'Na7CaLa3(PO4)6', 'Na21Ca7.5Zr4.5Si9S9O72', 'Na21Ca7.5Ti4.5Si9S9O72', 'Na21Ca7.5Ti4.5P18O72', 'Na21Ca7.5Si9Sn4.5S9O72', 'Na21Ca7.5Ge4.5P18O72', 'Na21Ca7.5Hf4.5Si9S9O72', 'Na21Ca7.5Hf4.5P18O72', 'Na7Ca3NbSi3(SO8)3', 'Na7Ca3TaSi3(SO8)3', 'Na7Ca3Ta(PO4)6', 'Na21Mg6Zr6Si10.5S7.5O72', 'Na21Mg6Ti6Si10.5S7.5O72', 'Na7Mg2Ti2SiP5O24', 'Na21Mg6Si10.5Sn6S7.5O72', 'Na7Mg2SiSn2P5O24', 'Na21Mg6Si10.5Ge6S7.5O72', 'Na7Mg2SiGe2P5O24', 'Na21Hf6Mg6Si10.5S7.5O72', 'Na21Mg8Nb4Si10.5S7.5O72', 'Na21Mg8Ta4Si10.5S7.5O72', 'Na21Zr6Zn6Si10.5S7.5O72', 'Na7Zr2Zn2SiP5O24', 'Na21Ti6Zn6Si10.5S7.5O72', 'Na7Ti2Zn2SiP5O24', 'Na21Zn6Si10.5Sn6S7.5O72', 'Na7Zn2SiSn2P5O24', 'Na21Zn6Si10.5Ge6S7.5O72', 'Na7Zn2SiGe2P5O24', 'Na21Hf6Zn6Si10.5S7.5O72', 'Na7Hf2Zn2SiP5O24', 'Na21Nb4Zn8Si10.5S7.5O72', 'Na21Ta4Zn8Si3(P5O24)3', 'Na21Ca6Zr6Si10.5S7.5O72', 'Na7Ca2Zr2SiP5O24', 'Na21Ca6Ti6Si10.5S7.5O72', 'Na7Ca2Ti2SiP5O24', 'Na21Ca6Si10.5Sn6S7.5O72', 'Na7Ca2SiSn2P5O24', 'Na7Ca2SiGe2P5O24', 'Na21Ca6Hf6Si10.5S7.5O72', 'Na7Ca2Hf2SiP5O24', 'Na21Ca8Nb4Si10.5S7.5O72', 'Na21Ca8Nb4Si3(P5O24)3', 'Na21Ca8Ta4Si10.5S7.5O72', 'Na21Ca8Ta4Si3(P5O24)3', 'Na21Ga12Si10.5S7.5O72', 'Na7Ga4SiP5O24', 'Na21Al6Ga6Si10.5S7.5O72', 'Na7Al2Ga2SiP5O24', 'Na21Sc6Ga6Si10.5S7.5O72', 'Na21Y6Ga6Si10.5S7.5O72', 'Na7Y2Ga2SiP5O24', 'Na21In6Ga6Si10.5S7.5O72', 'Na7In2Ga2SiP5O24', 'Na21La6Ga6Si10.5S7.5O72', 'Na7La2Ga2SiP5O24', 'Na21Al12Si10.5S7.5O72', 'Na7Al4SiP5O24', 'Na21Sc6Al6Si10.5S7.5O72', 'Na7Sc2Al2SiP5O24', 'Na21Y6Al6Si10.5S7.5O72', 'Na21Al6In6Si10.5S7.5O72', 'Na7Al2In2SiP5O24', 'Na21La6Al6Si10.5S7.5O72', 'Na7La2Al2SiP5O24', 'Na21Sc12Si10.5S7.5O72', 'Na21Sc6In6Si10.5S7.5O72', 'Na7Sc2In2SiP5O24', 'Na21La6Sc6Si10.5S7.5O72', 'Na7La2Sc2SiP5O24', 'Na21Y12Si10.5S7.5O72', 'Na7Y4SiP5O24', 'Na7Y2In2SiP5O24', 'Na21La6Y6Si10.5S7.5O72', 'Na21In12Si10.5S7.5O72', 'Na7In4SiP5O24', 'Na21La6In6Si10.5S7.5O72', 'Na7La2In2SiP5O24', 'Na7La4SiP5O24', 'Na21Mg3Zr9Si13.5S4.5O72', 'Na21Mg3Ti9Si13.5S4.5O72', 'Na7MgTi3Si3(PO8)3', 'Na7MgSi3Sn3(PO8)3', 'Na21Mg3Si13.5Ge9S4.5O72', 'Na7MgSi3Ge3(PO8)3', 'Na21Hf9Mg3Si13.5S4.5O72', 'Na21Mg6Nb6Si13.5S4.5O72', 'Na7Mg2Nb2Si3(PO8)3', 'Na21Mg6Ta6Si13.5S4.5O72', 'Na7Mg2Ta2Si3(PO8)3', 'Na7Zr3ZnSi3(PO8)3', 'Na7Ti3ZnSi3(PO8)3', 'Na21Zn3Si13.5Sn9S4.5O72', 'Na7ZnSi3Sn3(PO8)3', 'Na21Zn3Si13.5Ge9S4.5O72', 'Na7ZnSi3Ge3(PO8)3', 'Na7Hf3ZnSi3(PO8)3', 'Na21Nb6Zn6Si13.5S4.5O72', 'Na21Ta6Zn6Si13.5S4.5O72', 'Na7Ta2Zn2Si3(PO8)3', 'Na7CaZr3Si3(PO8)3', 'Na21Ca3Ti9Si13.5S4.5O72', 'Na7CaTi3Si3(PO8)3', 'Na21Ca3Si13.5Sn9S4.5O72', 'Na7CaSi3Sn3(PO8)3', 'Na21Ca3Si13.5Ge9S4.5O72', 'Na7CaSi3Ge3(PO8)3', 'Na21Ca3Hf9Si13.5S4.5O72', 'Na21Ca6Nb6Si13.5S4.5O72', 'Na7Ca2Nb2Si3(PO8)3', 'Na21Ca6Ta6Si13.5S4.5O72', 'Na7Ca2Ta2Si3(PO8)3', 'Na21Zr6.0Ga6Si13.5S4.5O72', 'Na7Zr2Ga2Si3(PO8)3', 'Na21Ti6.0Ga6Si13.5S4.5O72', 'Na7Ga2Si3Sn2(PO8)3', 'Na21Ga6Si13.5Ge6.0S4.5O72', 'Na21Hf6.0Ga6Si13.5S4.5O72', 'Na7Hf2Ga2Si3(PO8)3', 'Na21Nb3.0Ga9Si13.5S4.5O72', 'Na7NbGa3Si3(PO8)3', 'Na7TaGa3Si3(PO8)3', 'Na21Zr6.0Al6Si13.5S4.5O72', 'Na7Zr2Al2Si3(PO8)3', 'Na21Ti6.0Al6Si13.5S4.5O72', 'Na21Al6Si13.5Sn6.0S4.5O72', 'Na7Al2Si3Sn2(PO8)3', 'Na21Al6Si13.5Ge6.0S4.5O72', 'Na7Al2Si3Ge2(PO8)3', 'Na21Hf6.0Al6Si13.5S4.5O72', 'Na7Hf2Al2Si3(PO8)3', 'Na21Ta3.0Al9Si13.5S4.5O72', 'Na7TaAl3Si3(PO8)3', 'Na21Zr6.0Sc6Si13.5S4.5O72', 'Na21Sc6Ti6.0Si13.5S4.5O72', 'Na7Sc2Ti2Si3(PO8)3', 'Na21Sc6Si13.5Sn6.0S4.5O72', 'Na7Sc2Si3Sn2(PO8)3', 'Na21Sc6Si13.5Ge6.0S4.5O72', 'Na7Sc2Si3Ge2(PO8)3', 'Na21Hf6.0Sc6Si13.5S4.5O72', 'Na21Sc9Nb3.0Si13.5S4.5O72', 'Na7Sc3NbSi3(PO8)3', 'Na7Sc3TaSi3(PO8)3', 'Na21Y6Zr6.0Si13.5S4.5O72', 'Na21Y6Ti6.0Si13.5S4.5O72', 'Na7Y2Ti2Si3(PO8)3', 'Na21Y6Si13.5Sn6.0S4.5O72', 'Na7Y2Si3Sn2(PO8)3', 'Na21Y6Si13.5Ge6.0S4.5O72', 'Na7Y2Si3Ge2(PO8)3', 'Na21Y9Nb3.0Si13.5S4.5O72', 'Na7Y3NbSi3(PO8)3', 'Na21Y9Ta3.0Si13.5S4.5O72', 'Na7Y3TaSi3(PO8)3', 'Na21Zr6.0In6Si13.5S4.5O72', 'Na7Zr2In2Si3(PO8)3', 'Na21Ti6.0In6Si13.5S4.5O72', 'Na7Ti2In2Si3(PO8)3', 'Na21In6Si13.5Sn6.0S4.5O72', 'Na7In2Si3Sn2(PO8)3', 'Na21In6Si13.5Ge6.0S4.5O72', 'Na7In2Si3Ge2(PO8)3', 'Na21Hf6.0In6Si13.5S4.5O72', 'Na21Nb3.0In9Si13.5S4.5O72', 'Na7NbIn3Si3(PO8)3', 'Na21Ta3.0In9Si13.5S4.5O72', 'Na7TaIn3Si3(PO8)3', 'Na21La6Zr6.0Si13.5S4.5O72', 'Na7La2Zr2Si3(PO8)3', 'Na21La6Ti6.0Si13.5S4.5O72', 'Na7La2Ti2Si3(PO8)3', 'Na21La6Si13.5Sn6.0S4.5O72', 'Na7La2Si3Sn2(PO8)3', 'Na7La2Si3Ge2(PO8)3', 'Na21La6Hf6.0Si13.5S4.5O72', 'Na7La2Hf2Si3(PO8)3', 'Na21La9Nb3.0Si13.5S4.5O72', 'Na7La3NbSi3(PO8)3', 'Na7La3TaSi3(PO8)3', 'Na21Mg4Nb8Si16.5S1.5O72', 'Na21Mg4Nb8Si15(PO24)3', 'Na21Mg4Ta8Si15(PO24)3', 'Na21Nb8Zn4Si16.5S1.5O72', 'Na21Ta8Zn4Si16.5S1.5O72', 'Na21Ca4Nb8Si15(PO24)3', 'Na21Nb6Ga6Si16.5S1.5O72', 'Na7Nb2Ga2Si5PO24', 'Na21Ta6Ga6Si16.5S1.5O72', 'Na7Ta2Ga2Si5PO24', 'Na21Nb6Al6Si16.5S1.5O72', 'Na21Ta6Al6Si16.5S1.5O72', 'Na7Ta2Al2Si5PO24', 'Na21Sc6Nb6Si16.5S1.5O72', 'Na7Sc2Nb2Si5PO24', 'Na21Sc6Ta6Si16.5S1.5O72', 'Na7Sc2Ta2Si5PO24', 'Na7Y2Nb2Si5PO24', 'Na7Y2Ta2Si5PO24', 'Na21Ta6In6Si16.5S1.5O72', 'Na7Ta2In2Si5PO24', 'Na21La6Nb6Si16.5S1.5O72', 'Na7La2Nb2Si5PO24', 'Na7La2Ta2Si5PO24', 'Na21Zr12Si16.5S1.5O72', 'Na7Zr2Ti2Si5PO24', 'Na21Zr6Si16.5Sn6S1.5O72', 'Na21Zr6Si16.5Ge6S1.5O72', 'Na7Ti4Si5PO24', 'Na21Ti6Si16.5Sn6S1.5O72', 'Na7Ti2Si5Sn2PO24', 'Na21Ti6Si16.5Ge6S1.5O72', 'Na21Si16.5Sn12S1.5O72', 'Na7Si5Sn4PO24', 'Na21Si16.5Sn6Ge6S1.5O72', 'Na7Si5Sn2Ge2PO24', 'Na21Si16.5Ge12S1.5O72', 'Na7Si5Ge4PO24', 'Na21Hf6Si16.5Ge6S1.5O72', 'Na7Hf2Si5Ge2PO24', 'Na7MgNb3(SiO4)6', 'Na7MgTa3(SiO4)6', 'Na7Nb3Zn(SiO4)6', 'Na7Ta3Zn(SiO4)6', 'Na7CaNb3(SiO4)6', 'Na7CaTa3(SiO4)6', 'Na21Nb7.5Ga4.5Si18O72', 'Na21Ta7.5Ga4.5Si18O72', 'Na21Nb7.5Al4.5Si18O72', 'Na21Ta7.5Al4.5Si18O72', 'Na21Sc4.5Ta7.5Si18O72', 'Na21Y4.5Nb7.5Si18O72', 'Na21Y4.5Ta7.5Si18O72', 'Na21Ta7.5In4.5Si18O72', 'Na21La4.5Nb7.5Si18O72', 'Na21La4.5Ta7.5Si18O72', 'Na7Zr3Nb(SiO4)6', 'Na7Zr3Ta(SiO4)6', 'Na7Ti3Nb(SiO4)6', 'Na7TaTi3(SiO4)6', 'Na7NbSi6(SnO8)3', 'Na7NbSi6(GeO8)3', 'Na7TaSi6(GeO8)3', 'Na4MgZnP2SO12', 'Na4MgZnSi(SO6)2', 'Na4CaMgP2SO12', 'Na4CaMgSi(SO6)2', 'Na4Zn2P2SO12', 'Na4Zn2Si(SO6)2', 'Na4CaZnP2SO12', 'Na4CaZnSi(SO6)2', 'Na4Ca2P2SO12', 'Na4Ca2Si(SO6)2', 'Na8Mg2Ga2Si3(SO8)3', 'Na4MgGa(PO4)3', 'Na8Mg2Al2Si3(SO8)3', 'Na4MgAl(PO4)3', 'Na8Mg2Sc2Si3(SO8)3', 'Na8Y2Mg2Si3(SO8)3', 'Na4YMg(PO4)3', 'Na8Mg2In2Si3(SO8)3', 'Na8La2Mg2Si3(SO8)3', 'Na4LaMg(PO4)3', 'Na8Mg3ZrSi3(SO8)3', 'Na8Mg3Zr(PO4)6', 'Na8Mg3TiSi3(SO8)3', 'Na8Mg3Ti(PO4)6', 'Na8Mg3Si3Sn(SO8)3', 'Na8Mg3Sn(PO4)6', 'Na8Mg3Ge(PO4)6', 'Na8HfMg3Si3(SO8)3', 'Na12Mg5Nb(PO4)9', 'Na12Mg5Ta(PO4)9', 'Na4ZnGa(PO4)3', 'Na8Al2Zn2Si3(SO8)3', 'Na4AlZn(PO4)3', 'Na8Sc2Zn2Si3(SO8)3', 'Na4ScZn(PO4)3', 'Na8Y2Zn2Si3(SO8)3', 'Na8Zn2In2Si3(SO8)3', 'Na4ZnIn(PO4)3', 'Na8La2Zn2Si3(SO8)3', 'Na8ZrZn3Si3(SO8)3', 'Na8ZrZn3(PO4)6', 'Na8TiZn3Si3(SO8)3', 'Na8Zn3Si3Sn(SO8)3', 'Na8Zn3Sn(PO4)6', 'Na8Zn3Si3Ge(SO8)3', 'Na8Zn3Ge(PO4)6', 'Na8HfZn3Si3(SO8)3', 'Na24Nb2Zn10Si9(SO8)9', 'Na12NbZn5(PO4)9', 'Na12TaZn5(PO4)9', 'Na8Ca2Ga2Si3(SO8)3', 'Na4CaGa(PO4)3', 'Na8Ca2Al2Si3(SO8)3', 'Na8Ca2Sc2Si3(SO8)3', 'Na8Ca2Y2Si3(SO8)3', 'Na4CaY(PO4)3', 'Na8Ca2In2Si3(SO8)3', 'Na4CaIn(PO4)3', 'Na4CaLa(PO4)3', 'Na8Ca3ZrSi3(SO8)3', 'Na8Ca3Zr(PO4)6', 'Na8Ca3Ti(PO4)6', 'Na8Ca3Si3Sn(SO8)3', 'Na8Ca3Sn(PO4)6', 'Na8Ca3Si3Ge(SO8)3', 'Na8Ca3Ge(PO4)6', 'Na8Ca3Hf(PO4)6', 'Na12Ca5Nb(PO4)9', 'Na24Ca10Ta2Si9(SO8)9', 'Na12Ca5Ta(PO4)9', 'Na4MgZrSi2SO12', 'Na4MgZrSi(PO6)2', 'Na4MgTiSi2SO12', 'Na4MgTiSi(PO6)2', 'Na4MgSi2SnSO12', 'Na4MgSiSn(PO6)2', 'Na4MgSi2GeSO12', 'Na4MgSiGe(PO6)2', 'Na12Mg4Nb2Si6(SO12)3', 'Na12Mg4Nb2Si3(PO6)6', 'Na12Mg4Ta2Si6(SO12)3', 'Na12Mg4Ta2Si3(PO6)6', 'Na4ZrZnSi(PO6)2', 'Na4TiZnSi(PO6)2', 'Na4ZnSi2SnSO12', 'Na4ZnSiSn(PO6)2', 'Na4ZnSi2GeSO12', 'Na4ZnSiGe(PO6)2', 'Na4HfZnSi2SO12', 'Na4HfZnSi(PO6)2', 'Na12Nb2Zn4Si3(PO6)6', 'Na12Ta2Zn4Si6(SO12)3', 'Na12Ta2Zn4Si3(PO6)6', 'Na4CaZrSi(PO6)2', 'Na4CaTiSi2SO12', 'Na4CaTiSi(PO6)2', 'Na4CaSiSn(PO6)2', 'Na4CaSiGe(PO6)2', 'Na4CaHfSi(PO6)2', 'Na12Ca4Nb2Si6(SO12)3', 'Na12Ca4Nb2Si3(PO6)6', 'Na12Ca4Ta2Si6(SO12)3', 'Na12Ca4Ta2Si3(PO6)6', 'Na4Ga2Si2SO12', 'Na4Ga2Si(PO6)2', 'Na4AlGaSi2SO12', 'Na4AlGaSi(PO6)2', 'Na4ScGaSi2SO12', 'Na4ScGaSi(PO6)2', 'Na4YGaSi2SO12', 'Na4InGaSi2SO12', 'Na4InGaSi(PO6)2', 'Na4LaGaSi(PO6)2', 'Na4Al2Si2SO12', 'Na4Al2Si(PO6)2', 'Na4ScAlSi(PO6)2', 'Na4YAlSi2SO12', 'Na4YAlSi(PO6)2', 'Na4AlInSi2SO12', 'Na4AlInSi(PO6)2', 'Na4LaAlSi2SO12', 'Na4LaAlSi(PO6)2', 'Na4Sc2Si2SO12', 'Na4YScSi2SO12', 'Na4ScInSi2SO12', 'Na4LaScSi2SO12', 'Na4Y2Si(PO6)2', 'Na4YInSi2SO12', 'Na4YInSi(PO6)2', 'Na4In2Si(PO6)2', 'Na4LaInSi2SO12', 'Na4La2Si2SO12', 'Na8MgZr3Si5SO24', 'Na8MgZr3Si4(PO12)2', 'Na8MgTi3Si5SO24', 'Na8MgTi3Si4(PO12)2', 'Na8MgSi5Sn3SO24', 'Na8MgSi4Sn3(PO12)2', 'Na8MgSi5Ge3SO24', 'Na8MgSi4Ge3(PO12)2', 'Na8Mg2Nb2Si5SO24', 'Na4MgNbSi2PO12', 'Na8Zr3ZnSi5SO24', 'Na8Ti3ZnSi5SO24', 'Na8Ti3ZnSi4(PO12)2', 'Na8ZnSi5Sn3SO24', 'Na8ZnSi5Ge3SO24', 'Na8ZnSi4Ge3(PO12)2', 'Na8Hf3ZnSi5SO24', 'Na8Hf3ZnSi4(PO12)2', 'Na8Nb2Zn2Si5SO24', 'Na4TaZnSi2PO12', 'Na8CaZr3Si5SO24', 'Na8CaZr3Si4(PO12)2', 'Na8CaTi3Si5SO24', 'Na8CaTi3Si4(PO12)2', 'Na8CaSi5Sn3SO24', 'Na8CaSi4Sn3(PO12)2', 'Na8CaSi5Ge3SO24', 'Na4CaNbSi2PO12', 'Na8Ca2Ta2Si5SO24', 'Na4CaTaSi2PO12', 'Na8Zr2Ga2Si5SO24', 'Na4ZrGaSi2PO12', 'Na8Ti2Ga2Si5SO24', 'Na4TiGaSi2PO12', 'Na8Ga2Si5Sn2SO24', 'Na4GaSi2SnPO12', 'Na8Ga2Si5Ge2SO24', 'Na8Hf2Ga2Si5SO24', 'Na4HfGaSi2PO12', 'Na8NbGa3Si5SO24', 'Na8Zr2Al2Si5SO24', 'Na4ZrAlSi2PO12', 'Na8Ti2Al2Si5SO24', 'Na4TiAlSi2PO12', 'Na8Al2Si5Sn2SO24', 'Na4AlSi2SnPO12', 'Na4AlSi2GePO12', 'Na8Hf2Al2Si5SO24', 'Na4HfAlSi2PO12', 'Na8NbAl3Si5SO24', 'Na8TaAl3Si5SO24', 'Na8TaAl3Si4(PO12)2', 'Na8Zr2Sc2Si5SO24', 'Na8Sc2Ti2Si5SO24', 'Na4ScTiSi2PO12', 'Na8Sc2Si5Sn2SO24', 'Na4ScSi2SnPO12', 'Na8Sc2Si5Ge2SO24', 'Na4ScSi2GePO12', 'Na8Hf2Sc2Si5SO24', 'Na4HfScSi2PO12', 'Na8Sc3NbSi5SO24', 'Na8Sc3NbSi4(PO12)2', 'Na8Sc3TaSi5SO24', 'Na8Sc3TaSi4(PO12)2', 'Na8Y2Zr2Si5SO24', 'Na4YZrSi2PO12', 'Na8Y2Ti2Si5SO24', 'Na4YTiSi2PO12', 'Na8Y2Si5Sn2SO24', 'Na4YSi2GePO12', 'Na8Y2Hf2Si5SO24', 'Na4YHfSi2PO12', 'Na8Y3NbSi5SO24', 'Na8Y3NbSi4(PO12)2', 'Na8Y3TaSi5SO24', 'Na8Y3TaSi4(PO12)2', 'Na4ZrInSi2PO12', 'Na8Ti2In2Si5SO24', 'Na8In2Si5Sn2SO24', 'Na4InSi2SnPO12', 'Na8In2Si5Ge2SO24', 'Na8Hf2In2Si5SO24', 'Na4HfInSi2PO12', 'Na8NbIn3Si5SO24', 'Na8NbIn3Si4(PO12)2', 'Na8TaIn3Si5SO24', 'Na8TaIn3Si4(PO12)2', 'Na8La2Zr2Si5SO24', 'Na4LaZrSi2PO12', 'Na8La2Ti2Si5SO24', 'Na4LaTiSi2PO12', 'Na8La2Si5Sn2SO24', 'Na4LaSi2SnPO12', 'Na8La2Si5Ge2SO24', 'Na8La2Hf2Si5SO24', 'Na8La3NbSi5SO24', 'Na8La3NbSi4(PO12)2', 'Na8La3TaSi4(PO12)2', 'Na12Mg2Nb4(SiO4)9', 'Na12Mg2Ta4(SiO4)9', 'Na12Ta4Zn2(SiO4)9', 'Na12Ca2Nb4(SiO4)9', 'Na12Ca2Ta4(SiO4)9', 'Na4NbGa(SiO4)3', 'Na4NbAl(SiO4)3', 'Na4TaAl(SiO4)3', 'Na4ScNb(SiO4)3', 'Na4ScTa(SiO4)3', 'Na4YTa(SiO4)3', 'Na4NbIn(SiO4)3', 'Na4TaIn(SiO4)3', 'Na4LaTa(SiO4)3', 'Na4Zr2(SiO4)3', 'Na4ZrTi(SiO4)3', 'Na4ZrSi3SnO12', 'Na4TiSi3SnO12', 'Na4TiSi3GeO12', 'Na4Si3(SnO6)2', 'Na4Si3(GeO6)2', 'Na4HfSi3GeO12', 'LaY(SO4)3', 'Na9La7.5Ta4.5Si9S9O72', 'Na4La2Si(PO6)2', 'Na21La6Si13.5Ge6.0S4.5O72', 'La3NbP2(SO6)4', 'La3TaP2(SO6)4', 'La3TaSiS5O24', 'HfMg(SO4)3', 'Na7La2Y2SiP5O24', 'Hf2Si(SO6)2', 'NaZr2Zn2PS5O24', 'Na9La6Si7.5Ge6.0S10.5O72', 'CaHf3SiS5O24', 'LaHfP(SO6)2', 'Na3LaY(PO4)3', 'Hf3MgSiS5O24', 'La3NbSiS5O24', 'Na5La3Zr(PO4)6', 'Na5La2Hf2SiP5O24', 'HfZn(SO4)3', 'Hf3ZnSiS5O24', 'Na5La4P5SO24', 'Na7La3Mg(PO4)6', 'Na5La3TaSiP5O24', 'La2Hf2SiS5O24']\n"
     ]
    }
   ],
   "source": [
    "print(train_df['CompName'].to_list())"
   ]
  },
  {
   "cell_type": "code",
   "execution_count": 17,
   "metadata": {},
   "outputs": [],
   "source": [
    "train_2D_df = DataFrame.from_dict({\n",
    "    'CompName':train_df['CompName'].to_numpy(),\n",
    "    'Ehull':RankedTargetTrain,\n",
    "    '(cbrt(NNaLst)+(AnionChgStdLst)^2)':TrainFeatureMat[:,0],\n",
    "    '((EWaldSumLst)^2*(XWithNaLst*RDiffStdLst))':TrainFeatureMat[:,1]\n",
    "})\n",
    "\n",
    "test_2D_df = DataFrame.from_dict({\n",
    "    'CompName':test_df['CompName'].to_numpy(),\n",
    "    'Ehull':RankedTargetTest,\n",
    "    '(cbrt(NNaLst)+(AnionChgStdLst)^2)':TestFeatureMat[:,0],\n",
    "    '((EWaldSumLst)^2*(XWithNaLst*RDiffStdLst))':TestFeatureMat[:,1]\n",
    "})"
   ]
  },
  {
   "cell_type": "code",
   "execution_count": 18,
   "metadata": {},
   "outputs": [
    {
     "data": {
      "text/html": [
       "<div>\n",
       "<style scoped>\n",
       "    .dataframe tbody tr th:only-of-type {\n",
       "        vertical-align: middle;\n",
       "    }\n",
       "\n",
       "    .dataframe tbody tr th {\n",
       "        vertical-align: top;\n",
       "    }\n",
       "\n",
       "    .dataframe thead th {\n",
       "        text-align: right;\n",
       "    }\n",
       "</style>\n",
       "<table border=\"1\" class=\"dataframe\">\n",
       "  <thead>\n",
       "    <tr style=\"text-align: right;\">\n",
       "      <th></th>\n",
       "      <th>CompName</th>\n",
       "      <th>Ehull</th>\n",
       "      <th>(cbrt(NNaLst)+(AnionChgStdLst)^2)</th>\n",
       "      <th>((EWaldSumLst)^2*(XWithNaLst*RDiffStdLst))</th>\n",
       "    </tr>\n",
       "  </thead>\n",
       "  <tbody>\n",
       "    <tr>\n",
       "      <th>0</th>\n",
       "      <td>MgZr(SO4)3</td>\n",
       "      <td>-60.260567</td>\n",
       "      <td>0.0</td>\n",
       "      <td>0.000000</td>\n",
       "    </tr>\n",
       "    <tr>\n",
       "      <th>1</th>\n",
       "      <td>MgTi(SO4)3</td>\n",
       "      <td>-27.986572</td>\n",
       "      <td>0.0</td>\n",
       "      <td>125.960243</td>\n",
       "    </tr>\n",
       "    <tr>\n",
       "      <th>2</th>\n",
       "      <td>MgSn(SO4)3</td>\n",
       "      <td>-30.640966</td>\n",
       "      <td>0.0</td>\n",
       "      <td>46.109451</td>\n",
       "    </tr>\n",
       "    <tr>\n",
       "      <th>3</th>\n",
       "      <td>Mg4Nb2(SO4)9</td>\n",
       "      <td>-42.783127</td>\n",
       "      <td>0.0</td>\n",
       "      <td>79.651306</td>\n",
       "    </tr>\n",
       "    <tr>\n",
       "      <th>4</th>\n",
       "      <td>ZrZn(SO4)3</td>\n",
       "      <td>-40.419098</td>\n",
       "      <td>0.0</td>\n",
       "      <td>24.253452</td>\n",
       "    </tr>\n",
       "  </tbody>\n",
       "</table>\n",
       "</div>"
      ],
      "text/plain": [
       "       CompName      Ehull  (cbrt(NNaLst)+(AnionChgStdLst)^2)  \\\n",
       "0    MgZr(SO4)3 -60.260567                                0.0   \n",
       "1    MgTi(SO4)3 -27.986572                                0.0   \n",
       "2    MgSn(SO4)3 -30.640966                                0.0   \n",
       "3  Mg4Nb2(SO4)9 -42.783127                                0.0   \n",
       "4    ZrZn(SO4)3 -40.419098                                0.0   \n",
       "\n",
       "   ((EWaldSumLst)^2*(XWithNaLst*RDiffStdLst))  \n",
       "0                                    0.000000  \n",
       "1                                  125.960243  \n",
       "2                                   46.109451  \n",
       "3                                   79.651306  \n",
       "4                                   24.253452  "
      ]
     },
     "execution_count": 18,
     "metadata": {},
     "output_type": "execute_result"
    }
   ],
   "source": [
    "train_2D_df.head()"
   ]
  },
  {
   "cell_type": "code",
   "execution_count": 19,
   "metadata": {},
   "outputs": [
    {
     "data": {
      "text/html": [
       "<div>\n",
       "<style scoped>\n",
       "    .dataframe tbody tr th:only-of-type {\n",
       "        vertical-align: middle;\n",
       "    }\n",
       "\n",
       "    .dataframe tbody tr th {\n",
       "        vertical-align: top;\n",
       "    }\n",
       "\n",
       "    .dataframe thead th {\n",
       "        text-align: right;\n",
       "    }\n",
       "</style>\n",
       "<table border=\"1\" class=\"dataframe\">\n",
       "  <thead>\n",
       "    <tr style=\"text-align: right;\">\n",
       "      <th></th>\n",
       "      <th>CompName</th>\n",
       "      <th>Ehull</th>\n",
       "      <th>(cbrt(NNaLst)+(AnionChgStdLst)^2)</th>\n",
       "      <th>((EWaldSumLst)^2*(XWithNaLst*RDiffStdLst))</th>\n",
       "    </tr>\n",
       "  </thead>\n",
       "  <tbody>\n",
       "    <tr>\n",
       "      <th>0</th>\n",
       "      <td>MgGe(SO4)3</td>\n",
       "      <td>-9.215537</td>\n",
       "      <td>0.0</td>\n",
       "      <td>306.012177</td>\n",
       "    </tr>\n",
       "    <tr>\n",
       "      <th>1</th>\n",
       "      <td>Mg4Ta2(SO4)9</td>\n",
       "      <td>-48.215660</td>\n",
       "      <td>0.0</td>\n",
       "      <td>74.183754</td>\n",
       "    </tr>\n",
       "    <tr>\n",
       "      <th>2</th>\n",
       "      <td>ZnSn(SO4)3</td>\n",
       "      <td>-21.229073</td>\n",
       "      <td>0.0</td>\n",
       "      <td>94.826508</td>\n",
       "    </tr>\n",
       "    <tr>\n",
       "      <th>3</th>\n",
       "      <td>ZnGe(SO4)3</td>\n",
       "      <td>-25.113430</td>\n",
       "      <td>0.0</td>\n",
       "      <td>414.334930</td>\n",
       "    </tr>\n",
       "    <tr>\n",
       "      <th>4</th>\n",
       "      <td>CaHf(SO4)3</td>\n",
       "      <td>-105.503853</td>\n",
       "      <td>0.0</td>\n",
       "      <td>137.997589</td>\n",
       "    </tr>\n",
       "  </tbody>\n",
       "</table>\n",
       "</div>"
      ],
      "text/plain": [
       "       CompName       Ehull  (cbrt(NNaLst)+(AnionChgStdLst)^2)  \\\n",
       "0    MgGe(SO4)3   -9.215537                                0.0   \n",
       "1  Mg4Ta2(SO4)9  -48.215660                                0.0   \n",
       "2    ZnSn(SO4)3  -21.229073                                0.0   \n",
       "3    ZnGe(SO4)3  -25.113430                                0.0   \n",
       "4    CaHf(SO4)3 -105.503853                                0.0   \n",
       "\n",
       "   ((EWaldSumLst)^2*(XWithNaLst*RDiffStdLst))  \n",
       "0                                  306.012177  \n",
       "1                                   74.183754  \n",
       "2                                   94.826508  \n",
       "3                                  414.334930  \n",
       "4                                  137.997589  "
      ]
     },
     "execution_count": 19,
     "metadata": {},
     "output_type": "execute_result"
    }
   ],
   "source": [
    "test_2D_df.head()"
   ]
  },
  {
   "cell_type": "code",
   "execution_count": 20,
   "metadata": {},
   "outputs": [],
   "source": [
    "train_2D_df.to_csv('train_2D.csv',index=False)\n",
    "test_2D_df.to_csv('test_2D.csv',index=False)"
   ]
  },
  {
   "cell_type": "code",
   "execution_count": null,
   "metadata": {},
   "outputs": [],
   "source": []
  }
 ],
 "metadata": {
  "kernelspec": {
   "display_name": "Python 3",
   "language": "python",
   "name": "python3"
  },
  "language_info": {
   "codemirror_mode": {
    "name": "ipython",
    "version": 3
   },
   "file_extension": ".py",
   "mimetype": "text/x-python",
   "name": "python",
   "nbconvert_exporter": "python",
   "pygments_lexer": "ipython3",
   "version": "3.8.10"
  }
 },
 "nbformat": 4,
 "nbformat_minor": 2
}
